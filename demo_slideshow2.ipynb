{
  "cells": [
    {
      "cell_type": "markdown",
      "metadata": {
        "id": "view-in-github",
        "colab_type": "text"
      },
      "source": [
        "<a href=\"https://colab.research.google.com/github/TheClassicTechno/eegml_work/blob/main/demo_slideshow2.ipynb\" target=\"_parent\"><img src=\"https://colab.research.google.com/assets/colab-badge.svg\" alt=\"Open In Colab\"/></a>"
      ]
    },
    {
      "cell_type": "code",
      "source": [
        "!pip install eeghdf\n",
        "\n",
        "!git clone https://github.com/eegml/eeghdf.git \n",
        "!cd eeghdf\n",
        "\n",
        "%pip install ipywidgets \n",
        "%pip install widgetsnbextension\n",
        "\n",
        "!pip install git+https://github.com/eegml/eegvis.git\n",
        "\n",
        "!git clone https://github.com/eegml/eegvis.git\n",
        "!cd eegvis\n",
        "\n",
        "!pip install -U git+https://github.com/eegml/eegvis.git\n",
        "!pip install -U /content/eegvis\n",
        "\n",
        "import eeghdf\n",
        "import gzip\n",
        "import numpy as np\n",
        "!pip install -U git+https://github.com/eegml/eegvis.git\n",
        "!pip install mne_features\n",
        "import matplotlib\n",
        "import matplotlib.pyplot as plt\n",
        "import mne_features\n",
        "import eegvis.stacklineplot as stacklineplot\n",
        "import eegvis.utils\n",
        "eegvis.utils.wide_notebook()\n",
        "import eegml_signal.filters as esfilters"
      ],
      "metadata": {
        "colab": {
          "base_uri": "https://localhost:8080/"
        },
        "id": "_TTdnxhAbQKA",
        "outputId": "0cd4ec84-697f-4f7d-b6ba-efeca4baa764"
      },
      "id": "_TTdnxhAbQKA",
      "execution_count": null,
      "outputs": [
        {
          "output_type": "stream",
          "name": "stdout",
          "text": [
            "Looking in indexes: https://pypi.org/simple, https://us-python.pkg.dev/colab-wheels/public/simple/\n",
            "Collecting eeghdf\n",
            "  Downloading eeghdf-0.2.4-py3-none-any.whl (18 kB)\n",
            "Requirement already satisfied: numpy in /usr/local/lib/python3.7/dist-packages (from eeghdf) (1.21.6)\n",
            "Requirement already satisfied: h5py in /usr/local/lib/python3.7/dist-packages (from eeghdf) (3.1.0)\n",
            "Requirement already satisfied: pandas in /usr/local/lib/python3.7/dist-packages (from eeghdf) (1.3.5)\n",
            "Requirement already satisfied: future in /usr/local/lib/python3.7/dist-packages (from eeghdf) (0.16.0)\n",
            "Requirement already satisfied: cached-property in /usr/local/lib/python3.7/dist-packages (from h5py->eeghdf) (1.5.2)\n",
            "Requirement already satisfied: python-dateutil>=2.7.3 in /usr/local/lib/python3.7/dist-packages (from pandas->eeghdf) (2.8.2)\n",
            "Requirement already satisfied: pytz>=2017.3 in /usr/local/lib/python3.7/dist-packages (from pandas->eeghdf) (2022.6)\n",
            "Requirement already satisfied: six>=1.5 in /usr/local/lib/python3.7/dist-packages (from python-dateutil>=2.7.3->pandas->eeghdf) (1.15.0)\n",
            "Installing collected packages: eeghdf\n",
            "Successfully installed eeghdf-0.2.4\n",
            "Cloning into 'eeghdf'...\n",
            "remote: Enumerating objects: 663, done.\u001b[K\n",
            "remote: Counting objects: 100% (127/127), done.\u001b[K\n",
            "remote: Compressing objects: 100% (85/85), done.\u001b[K\n",
            "remote: Total 663 (delta 55), reused 100 (delta 39), pack-reused 536\u001b[K\n",
            "Receiving objects: 100% (663/663), 7.92 MiB | 15.93 MiB/s, done.\n",
            "Resolving deltas: 100% (341/341), done.\n",
            "Looking in indexes: https://pypi.org/simple, https://us-python.pkg.dev/colab-wheels/public/simple/\n",
            "Requirement already satisfied: ipywidgets in /usr/local/lib/python3.7/dist-packages (7.7.1)\n",
            "Requirement already satisfied: jupyterlab-widgets>=1.0.0 in /usr/local/lib/python3.7/dist-packages (from ipywidgets) (3.0.3)\n",
            "Requirement already satisfied: traitlets>=4.3.1 in /usr/local/lib/python3.7/dist-packages (from ipywidgets) (5.1.1)\n",
            "Requirement already satisfied: ipython>=4.0.0 in /usr/local/lib/python3.7/dist-packages (from ipywidgets) (7.9.0)\n",
            "Requirement already satisfied: ipython-genutils~=0.2.0 in /usr/local/lib/python3.7/dist-packages (from ipywidgets) (0.2.0)\n",
            "Requirement already satisfied: ipykernel>=4.5.1 in /usr/local/lib/python3.7/dist-packages (from ipywidgets) (5.3.4)\n",
            "Requirement already satisfied: widgetsnbextension~=3.6.0 in /usr/local/lib/python3.7/dist-packages (from ipywidgets) (3.6.1)\n",
            "Requirement already satisfied: jupyter-client in /usr/local/lib/python3.7/dist-packages (from ipykernel>=4.5.1->ipywidgets) (6.1.12)\n",
            "Requirement already satisfied: tornado>=4.2 in /usr/local/lib/python3.7/dist-packages (from ipykernel>=4.5.1->ipywidgets) (6.0.4)\n",
            "Requirement already satisfied: pexpect in /usr/local/lib/python3.7/dist-packages (from ipython>=4.0.0->ipywidgets) (4.8.0)\n",
            "Requirement already satisfied: backcall in /usr/local/lib/python3.7/dist-packages (from ipython>=4.0.0->ipywidgets) (0.2.0)\n",
            "Requirement already satisfied: pickleshare in /usr/local/lib/python3.7/dist-packages (from ipython>=4.0.0->ipywidgets) (0.7.5)\n",
            "Requirement already satisfied: prompt-toolkit<2.1.0,>=2.0.0 in /usr/local/lib/python3.7/dist-packages (from ipython>=4.0.0->ipywidgets) (2.0.10)\n",
            "Requirement already satisfied: decorator in /usr/local/lib/python3.7/dist-packages (from ipython>=4.0.0->ipywidgets) (4.4.2)\n",
            "Collecting jedi>=0.10\n",
            "  Downloading jedi-0.18.1-py2.py3-none-any.whl (1.6 MB)\n",
            "\u001b[K     |████████████████████████████████| 1.6 MB 5.2 MB/s \n",
            "\u001b[?25hRequirement already satisfied: pygments in /usr/local/lib/python3.7/dist-packages (from ipython>=4.0.0->ipywidgets) (2.6.1)\n",
            "Requirement already satisfied: setuptools>=18.5 in /usr/local/lib/python3.7/dist-packages (from ipython>=4.0.0->ipywidgets) (57.4.0)\n",
            "Requirement already satisfied: parso<0.9.0,>=0.8.0 in /usr/local/lib/python3.7/dist-packages (from jedi>=0.10->ipython>=4.0.0->ipywidgets) (0.8.3)\n",
            "Requirement already satisfied: six>=1.9.0 in /usr/local/lib/python3.7/dist-packages (from prompt-toolkit<2.1.0,>=2.0.0->ipython>=4.0.0->ipywidgets) (1.15.0)\n",
            "Requirement already satisfied: wcwidth in /usr/local/lib/python3.7/dist-packages (from prompt-toolkit<2.1.0,>=2.0.0->ipython>=4.0.0->ipywidgets) (0.2.5)\n",
            "Requirement already satisfied: notebook>=4.4.1 in /usr/local/lib/python3.7/dist-packages (from widgetsnbextension~=3.6.0->ipywidgets) (5.7.16)\n",
            "Requirement already satisfied: Send2Trash in /usr/local/lib/python3.7/dist-packages (from notebook>=4.4.1->widgetsnbextension~=3.6.0->ipywidgets) (1.8.0)\n",
            "Requirement already satisfied: pyzmq>=17 in /usr/local/lib/python3.7/dist-packages (from notebook>=4.4.1->widgetsnbextension~=3.6.0->ipywidgets) (23.2.1)\n",
            "Requirement already satisfied: jupyter-core>=4.4.0 in /usr/local/lib/python3.7/dist-packages (from notebook>=4.4.1->widgetsnbextension~=3.6.0->ipywidgets) (4.11.2)\n",
            "Requirement already satisfied: prometheus-client in /usr/local/lib/python3.7/dist-packages (from notebook>=4.4.1->widgetsnbextension~=3.6.0->ipywidgets) (0.15.0)\n",
            "Requirement already satisfied: terminado>=0.8.1 in /usr/local/lib/python3.7/dist-packages (from notebook>=4.4.1->widgetsnbextension~=3.6.0->ipywidgets) (0.13.3)\n",
            "Requirement already satisfied: nbconvert<6.0 in /usr/local/lib/python3.7/dist-packages (from notebook>=4.4.1->widgetsnbextension~=3.6.0->ipywidgets) (5.6.1)\n",
            "Requirement already satisfied: nbformat in /usr/local/lib/python3.7/dist-packages (from notebook>=4.4.1->widgetsnbextension~=3.6.0->ipywidgets) (5.7.0)\n",
            "Requirement already satisfied: jinja2<=3.0.0 in /usr/local/lib/python3.7/dist-packages (from notebook>=4.4.1->widgetsnbextension~=3.6.0->ipywidgets) (2.11.3)\n",
            "Requirement already satisfied: MarkupSafe>=0.23 in /usr/local/lib/python3.7/dist-packages (from jinja2<=3.0.0->notebook>=4.4.1->widgetsnbextension~=3.6.0->ipywidgets) (2.0.1)\n",
            "Requirement already satisfied: python-dateutil>=2.1 in /usr/local/lib/python3.7/dist-packages (from jupyter-client->ipykernel>=4.5.1->ipywidgets) (2.8.2)\n",
            "Requirement already satisfied: entrypoints>=0.2.2 in /usr/local/lib/python3.7/dist-packages (from nbconvert<6.0->notebook>=4.4.1->widgetsnbextension~=3.6.0->ipywidgets) (0.4)\n",
            "Requirement already satisfied: mistune<2,>=0.8.1 in /usr/local/lib/python3.7/dist-packages (from nbconvert<6.0->notebook>=4.4.1->widgetsnbextension~=3.6.0->ipywidgets) (0.8.4)\n",
            "Requirement already satisfied: testpath in /usr/local/lib/python3.7/dist-packages (from nbconvert<6.0->notebook>=4.4.1->widgetsnbextension~=3.6.0->ipywidgets) (0.6.0)\n",
            "Requirement already satisfied: pandocfilters>=1.4.1 in /usr/local/lib/python3.7/dist-packages (from nbconvert<6.0->notebook>=4.4.1->widgetsnbextension~=3.6.0->ipywidgets) (1.5.0)\n",
            "Requirement already satisfied: defusedxml in /usr/local/lib/python3.7/dist-packages (from nbconvert<6.0->notebook>=4.4.1->widgetsnbextension~=3.6.0->ipywidgets) (0.7.1)\n",
            "Requirement already satisfied: bleach in /usr/local/lib/python3.7/dist-packages (from nbconvert<6.0->notebook>=4.4.1->widgetsnbextension~=3.6.0->ipywidgets) (5.0.1)\n",
            "Requirement already satisfied: importlib-metadata>=3.6 in /usr/local/lib/python3.7/dist-packages (from nbformat->notebook>=4.4.1->widgetsnbextension~=3.6.0->ipywidgets) (4.13.0)\n",
            "Requirement already satisfied: fastjsonschema in /usr/local/lib/python3.7/dist-packages (from nbformat->notebook>=4.4.1->widgetsnbextension~=3.6.0->ipywidgets) (2.16.2)\n",
            "Requirement already satisfied: jsonschema>=2.6 in /usr/local/lib/python3.7/dist-packages (from nbformat->notebook>=4.4.1->widgetsnbextension~=3.6.0->ipywidgets) (4.3.3)\n",
            "Requirement already satisfied: typing-extensions>=3.6.4 in /usr/local/lib/python3.7/dist-packages (from importlib-metadata>=3.6->nbformat->notebook>=4.4.1->widgetsnbextension~=3.6.0->ipywidgets) (4.1.1)\n",
            "Requirement already satisfied: zipp>=0.5 in /usr/local/lib/python3.7/dist-packages (from importlib-metadata>=3.6->nbformat->notebook>=4.4.1->widgetsnbextension~=3.6.0->ipywidgets) (3.10.0)\n",
            "Requirement already satisfied: importlib-resources>=1.4.0 in /usr/local/lib/python3.7/dist-packages (from jsonschema>=2.6->nbformat->notebook>=4.4.1->widgetsnbextension~=3.6.0->ipywidgets) (5.10.0)\n",
            "Requirement already satisfied: pyrsistent!=0.17.0,!=0.17.1,!=0.17.2,>=0.14.0 in /usr/local/lib/python3.7/dist-packages (from jsonschema>=2.6->nbformat->notebook>=4.4.1->widgetsnbextension~=3.6.0->ipywidgets) (0.19.2)\n",
            "Requirement already satisfied: attrs>=17.4.0 in /usr/local/lib/python3.7/dist-packages (from jsonschema>=2.6->nbformat->notebook>=4.4.1->widgetsnbextension~=3.6.0->ipywidgets) (22.1.0)\n",
            "Requirement already satisfied: ptyprocess in /usr/local/lib/python3.7/dist-packages (from terminado>=0.8.1->notebook>=4.4.1->widgetsnbextension~=3.6.0->ipywidgets) (0.7.0)\n",
            "Requirement already satisfied: webencodings in /usr/local/lib/python3.7/dist-packages (from bleach->nbconvert<6.0->notebook>=4.4.1->widgetsnbextension~=3.6.0->ipywidgets) (0.5.1)\n",
            "Installing collected packages: jedi\n",
            "Successfully installed jedi-0.18.1\n",
            "Looking in indexes: https://pypi.org/simple, https://us-python.pkg.dev/colab-wheels/public/simple/\n",
            "Requirement already satisfied: widgetsnbextension in /usr/local/lib/python3.7/dist-packages (3.6.1)\n",
            "Requirement already satisfied: notebook>=4.4.1 in /usr/local/lib/python3.7/dist-packages (from widgetsnbextension) (5.7.16)\n",
            "Requirement already satisfied: traitlets>=4.2.1 in /usr/local/lib/python3.7/dist-packages (from notebook>=4.4.1->widgetsnbextension) (5.1.1)\n",
            "Requirement already satisfied: ipykernel in /usr/local/lib/python3.7/dist-packages (from notebook>=4.4.1->widgetsnbextension) (5.3.4)\n",
            "Requirement already satisfied: jupyter-core>=4.4.0 in /usr/local/lib/python3.7/dist-packages (from notebook>=4.4.1->widgetsnbextension) (4.11.2)\n",
            "Requirement already satisfied: pyzmq>=17 in /usr/local/lib/python3.7/dist-packages (from notebook>=4.4.1->widgetsnbextension) (23.2.1)\n",
            "Requirement already satisfied: terminado>=0.8.1 in /usr/local/lib/python3.7/dist-packages (from notebook>=4.4.1->widgetsnbextension) (0.13.3)\n",
            "Requirement already satisfied: nbconvert<6.0 in /usr/local/lib/python3.7/dist-packages (from notebook>=4.4.1->widgetsnbextension) (5.6.1)\n",
            "Requirement already satisfied: tornado<7,>=4.1 in /usr/local/lib/python3.7/dist-packages (from notebook>=4.4.1->widgetsnbextension) (6.0.4)\n",
            "Requirement already satisfied: ipython-genutils in /usr/local/lib/python3.7/dist-packages (from notebook>=4.4.1->widgetsnbextension) (0.2.0)\n",
            "Requirement already satisfied: nbformat in /usr/local/lib/python3.7/dist-packages (from notebook>=4.4.1->widgetsnbextension) (5.7.0)\n",
            "Requirement already satisfied: Send2Trash in /usr/local/lib/python3.7/dist-packages (from notebook>=4.4.1->widgetsnbextension) (1.8.0)\n",
            "Requirement already satisfied: jupyter-client<7.0.0,>=5.2.0 in /usr/local/lib/python3.7/dist-packages (from notebook>=4.4.1->widgetsnbextension) (6.1.12)\n",
            "Requirement already satisfied: jinja2<=3.0.0 in /usr/local/lib/python3.7/dist-packages (from notebook>=4.4.1->widgetsnbextension) (2.11.3)\n",
            "Requirement already satisfied: prometheus-client in /usr/local/lib/python3.7/dist-packages (from notebook>=4.4.1->widgetsnbextension) (0.15.0)\n",
            "Requirement already satisfied: MarkupSafe>=0.23 in /usr/local/lib/python3.7/dist-packages (from jinja2<=3.0.0->notebook>=4.4.1->widgetsnbextension) (2.0.1)\n",
            "Requirement already satisfied: python-dateutil>=2.1 in /usr/local/lib/python3.7/dist-packages (from jupyter-client<7.0.0,>=5.2.0->notebook>=4.4.1->widgetsnbextension) (2.8.2)\n",
            "Requirement already satisfied: entrypoints>=0.2.2 in /usr/local/lib/python3.7/dist-packages (from nbconvert<6.0->notebook>=4.4.1->widgetsnbextension) (0.4)\n",
            "Requirement already satisfied: mistune<2,>=0.8.1 in /usr/local/lib/python3.7/dist-packages (from nbconvert<6.0->notebook>=4.4.1->widgetsnbextension) (0.8.4)\n",
            "Requirement already satisfied: pandocfilters>=1.4.1 in /usr/local/lib/python3.7/dist-packages (from nbconvert<6.0->notebook>=4.4.1->widgetsnbextension) (1.5.0)\n",
            "Requirement already satisfied: defusedxml in /usr/local/lib/python3.7/dist-packages (from nbconvert<6.0->notebook>=4.4.1->widgetsnbextension) (0.7.1)\n",
            "Requirement already satisfied: testpath in /usr/local/lib/python3.7/dist-packages (from nbconvert<6.0->notebook>=4.4.1->widgetsnbextension) (0.6.0)\n",
            "Requirement already satisfied: pygments in /usr/local/lib/python3.7/dist-packages (from nbconvert<6.0->notebook>=4.4.1->widgetsnbextension) (2.6.1)\n",
            "Requirement already satisfied: bleach in /usr/local/lib/python3.7/dist-packages (from nbconvert<6.0->notebook>=4.4.1->widgetsnbextension) (5.0.1)\n",
            "Requirement already satisfied: jsonschema>=2.6 in /usr/local/lib/python3.7/dist-packages (from nbformat->notebook>=4.4.1->widgetsnbextension) (4.3.3)\n",
            "Requirement already satisfied: fastjsonschema in /usr/local/lib/python3.7/dist-packages (from nbformat->notebook>=4.4.1->widgetsnbextension) (2.16.2)\n",
            "Requirement already satisfied: importlib-metadata>=3.6 in /usr/local/lib/python3.7/dist-packages (from nbformat->notebook>=4.4.1->widgetsnbextension) (4.13.0)\n",
            "Requirement already satisfied: typing-extensions>=3.6.4 in /usr/local/lib/python3.7/dist-packages (from importlib-metadata>=3.6->nbformat->notebook>=4.4.1->widgetsnbextension) (4.1.1)\n",
            "Requirement already satisfied: zipp>=0.5 in /usr/local/lib/python3.7/dist-packages (from importlib-metadata>=3.6->nbformat->notebook>=4.4.1->widgetsnbextension) (3.10.0)\n",
            "Requirement already satisfied: pyrsistent!=0.17.0,!=0.17.1,!=0.17.2,>=0.14.0 in /usr/local/lib/python3.7/dist-packages (from jsonschema>=2.6->nbformat->notebook>=4.4.1->widgetsnbextension) (0.19.2)\n",
            "Requirement already satisfied: attrs>=17.4.0 in /usr/local/lib/python3.7/dist-packages (from jsonschema>=2.6->nbformat->notebook>=4.4.1->widgetsnbextension) (22.1.0)\n",
            "Requirement already satisfied: importlib-resources>=1.4.0 in /usr/local/lib/python3.7/dist-packages (from jsonschema>=2.6->nbformat->notebook>=4.4.1->widgetsnbextension) (5.10.0)\n",
            "Requirement already satisfied: six>=1.5 in /usr/local/lib/python3.7/dist-packages (from python-dateutil>=2.1->jupyter-client<7.0.0,>=5.2.0->notebook>=4.4.1->widgetsnbextension) (1.15.0)\n",
            "Requirement already satisfied: ptyprocess in /usr/local/lib/python3.7/dist-packages (from terminado>=0.8.1->notebook>=4.4.1->widgetsnbextension) (0.7.0)\n",
            "Requirement already satisfied: webencodings in /usr/local/lib/python3.7/dist-packages (from bleach->nbconvert<6.0->notebook>=4.4.1->widgetsnbextension) (0.5.1)\n",
            "Requirement already satisfied: ipython>=5.0.0 in /usr/local/lib/python3.7/dist-packages (from ipykernel->notebook>=4.4.1->widgetsnbextension) (7.9.0)\n",
            "Requirement already satisfied: backcall in /usr/local/lib/python3.7/dist-packages (from ipython>=5.0.0->ipykernel->notebook>=4.4.1->widgetsnbextension) (0.2.0)\n",
            "Requirement already satisfied: pexpect in /usr/local/lib/python3.7/dist-packages (from ipython>=5.0.0->ipykernel->notebook>=4.4.1->widgetsnbextension) (4.8.0)\n",
            "Requirement already satisfied: jedi>=0.10 in /usr/local/lib/python3.7/dist-packages (from ipython>=5.0.0->ipykernel->notebook>=4.4.1->widgetsnbextension) (0.18.1)\n",
            "Requirement already satisfied: decorator in /usr/local/lib/python3.7/dist-packages (from ipython>=5.0.0->ipykernel->notebook>=4.4.1->widgetsnbextension) (4.4.2)\n",
            "Requirement already satisfied: setuptools>=18.5 in /usr/local/lib/python3.7/dist-packages (from ipython>=5.0.0->ipykernel->notebook>=4.4.1->widgetsnbextension) (57.4.0)\n",
            "Requirement already satisfied: pickleshare in /usr/local/lib/python3.7/dist-packages (from ipython>=5.0.0->ipykernel->notebook>=4.4.1->widgetsnbextension) (0.7.5)\n",
            "Requirement already satisfied: prompt-toolkit<2.1.0,>=2.0.0 in /usr/local/lib/python3.7/dist-packages (from ipython>=5.0.0->ipykernel->notebook>=4.4.1->widgetsnbextension) (2.0.10)\n",
            "Requirement already satisfied: parso<0.9.0,>=0.8.0 in /usr/local/lib/python3.7/dist-packages (from jedi>=0.10->ipython>=5.0.0->ipykernel->notebook>=4.4.1->widgetsnbextension) (0.8.3)\n",
            "Requirement already satisfied: wcwidth in /usr/local/lib/python3.7/dist-packages (from prompt-toolkit<2.1.0,>=2.0.0->ipython>=5.0.0->ipykernel->notebook>=4.4.1->widgetsnbextension) (0.2.5)\n",
            "Looking in indexes: https://pypi.org/simple, https://us-python.pkg.dev/colab-wheels/public/simple/\n",
            "Collecting git+https://github.com/eegml/eegvis.git\n",
            "  Cloning https://github.com/eegml/eegvis.git to /tmp/pip-req-build-pcgctl7q\n",
            "  Running command git clone -q https://github.com/eegml/eegvis.git /tmp/pip-req-build-pcgctl7q\n",
            "  Installing build dependencies ... \u001b[?25l\u001b[?25hdone\n",
            "  Getting requirements to build wheel ... \u001b[?25l\u001b[?25hdone\n",
            "    Preparing wheel metadata ... \u001b[?25l\u001b[?25hdone\n",
            "Collecting eegml-signal@ git+https://github.com/eegml/eegml-signal.git@master\n",
            "  Cloning https://github.com/eegml/eegml-signal.git (to revision master) to /tmp/pip-install-5a8l8da0/eegml-signal_dc03b0fe01ce482b8dfb2f37e37d5e64\n",
            "  Running command git clone -q https://github.com/eegml/eegml-signal.git /tmp/pip-install-5a8l8da0/eegml-signal_dc03b0fe01ce482b8dfb2f37e37d5e64\n",
            "Requirement already satisfied: ipywidgets>=7.0 in /usr/local/lib/python3.7/dist-packages (from eegvis==0.3.1) (7.7.1)\n",
            "Requirement already satisfied: matplotlib>=3.2 in /usr/local/lib/python3.7/dist-packages (from eegvis==0.3.1) (3.2.2)\n",
            "Requirement already satisfied: scipy in /usr/local/lib/python3.7/dist-packages (from eegvis==0.3.1) (1.7.3)\n",
            "Requirement already satisfied: xarray in /usr/local/lib/python3.7/dist-packages (from eegvis==0.3.1) (0.20.2)\n",
            "Requirement already satisfied: bokeh>=0.12.16 in /usr/local/lib/python3.7/dist-packages (from eegvis==0.3.1) (2.3.3)\n",
            "Requirement already satisfied: panel in /usr/local/lib/python3.7/dist-packages (from eegvis==0.3.1) (0.12.1)\n",
            "Requirement already satisfied: numpy in /usr/local/lib/python3.7/dist-packages (from eegvis==0.3.1) (1.21.6)\n",
            "Requirement already satisfied: python-dateutil>=2.1 in /usr/local/lib/python3.7/dist-packages (from bokeh>=0.12.16->eegvis==0.3.1) (2.8.2)\n",
            "Requirement already satisfied: packaging>=16.8 in /usr/local/lib/python3.7/dist-packages (from bokeh>=0.12.16->eegvis==0.3.1) (21.3)\n",
            "Requirement already satisfied: pillow>=7.1.0 in /usr/local/lib/python3.7/dist-packages (from bokeh>=0.12.16->eegvis==0.3.1) (7.1.2)\n",
            "Requirement already satisfied: tornado>=5.1 in /usr/local/lib/python3.7/dist-packages (from bokeh>=0.12.16->eegvis==0.3.1) (6.0.4)\n",
            "Requirement already satisfied: typing-extensions>=3.7.4 in /usr/local/lib/python3.7/dist-packages (from bokeh>=0.12.16->eegvis==0.3.1) (4.1.1)\n",
            "Requirement already satisfied: Jinja2>=2.9 in /usr/local/lib/python3.7/dist-packages (from bokeh>=0.12.16->eegvis==0.3.1) (2.11.3)\n",
            "Requirement already satisfied: PyYAML>=3.10 in /usr/local/lib/python3.7/dist-packages (from bokeh>=0.12.16->eegvis==0.3.1) (6.0)\n",
            "Requirement already satisfied: ipython-genutils~=0.2.0 in /usr/local/lib/python3.7/dist-packages (from ipywidgets>=7.0->eegvis==0.3.1) (0.2.0)\n",
            "Requirement already satisfied: ipython>=4.0.0 in /usr/local/lib/python3.7/dist-packages (from ipywidgets>=7.0->eegvis==0.3.1) (7.9.0)\n",
            "Requirement already satisfied: traitlets>=4.3.1 in /usr/local/lib/python3.7/dist-packages (from ipywidgets>=7.0->eegvis==0.3.1) (5.1.1)\n",
            "Requirement already satisfied: jupyterlab-widgets>=1.0.0 in /usr/local/lib/python3.7/dist-packages (from ipywidgets>=7.0->eegvis==0.3.1) (3.0.3)\n",
            "Requirement already satisfied: ipykernel>=4.5.1 in /usr/local/lib/python3.7/dist-packages (from ipywidgets>=7.0->eegvis==0.3.1) (5.3.4)\n",
            "Requirement already satisfied: widgetsnbextension~=3.6.0 in /usr/local/lib/python3.7/dist-packages (from ipywidgets>=7.0->eegvis==0.3.1) (3.6.1)\n",
            "Requirement already satisfied: jupyter-client in /usr/local/lib/python3.7/dist-packages (from ipykernel>=4.5.1->ipywidgets>=7.0->eegvis==0.3.1) (6.1.12)\n",
            "Requirement already satisfied: setuptools>=18.5 in /usr/local/lib/python3.7/dist-packages (from ipython>=4.0.0->ipywidgets>=7.0->eegvis==0.3.1) (57.4.0)\n",
            "Requirement already satisfied: jedi>=0.10 in /usr/local/lib/python3.7/dist-packages (from ipython>=4.0.0->ipywidgets>=7.0->eegvis==0.3.1) (0.18.1)\n",
            "Requirement already satisfied: pygments in /usr/local/lib/python3.7/dist-packages (from ipython>=4.0.0->ipywidgets>=7.0->eegvis==0.3.1) (2.6.1)\n",
            "Requirement already satisfied: pickleshare in /usr/local/lib/python3.7/dist-packages (from ipython>=4.0.0->ipywidgets>=7.0->eegvis==0.3.1) (0.7.5)\n",
            "Requirement already satisfied: prompt-toolkit<2.1.0,>=2.0.0 in /usr/local/lib/python3.7/dist-packages (from ipython>=4.0.0->ipywidgets>=7.0->eegvis==0.3.1) (2.0.10)\n",
            "Requirement already satisfied: decorator in /usr/local/lib/python3.7/dist-packages (from ipython>=4.0.0->ipywidgets>=7.0->eegvis==0.3.1) (4.4.2)\n",
            "Requirement already satisfied: pexpect in /usr/local/lib/python3.7/dist-packages (from ipython>=4.0.0->ipywidgets>=7.0->eegvis==0.3.1) (4.8.0)\n",
            "Requirement already satisfied: backcall in /usr/local/lib/python3.7/dist-packages (from ipython>=4.0.0->ipywidgets>=7.0->eegvis==0.3.1) (0.2.0)\n",
            "Requirement already satisfied: parso<0.9.0,>=0.8.0 in /usr/local/lib/python3.7/dist-packages (from jedi>=0.10->ipython>=4.0.0->ipywidgets>=7.0->eegvis==0.3.1) (0.8.3)\n",
            "Requirement already satisfied: MarkupSafe>=0.23 in /usr/local/lib/python3.7/dist-packages (from Jinja2>=2.9->bokeh>=0.12.16->eegvis==0.3.1) (2.0.1)\n",
            "Requirement already satisfied: cycler>=0.10 in /usr/local/lib/python3.7/dist-packages (from matplotlib>=3.2->eegvis==0.3.1) (0.11.0)\n",
            "Requirement already satisfied: kiwisolver>=1.0.1 in /usr/local/lib/python3.7/dist-packages (from matplotlib>=3.2->eegvis==0.3.1) (1.4.4)\n",
            "Requirement already satisfied: pyparsing!=2.0.4,!=2.1.2,!=2.1.6,>=2.0.1 in /usr/local/lib/python3.7/dist-packages (from matplotlib>=3.2->eegvis==0.3.1) (3.0.9)\n",
            "Requirement already satisfied: six>=1.9.0 in /usr/local/lib/python3.7/dist-packages (from prompt-toolkit<2.1.0,>=2.0.0->ipython>=4.0.0->ipywidgets>=7.0->eegvis==0.3.1) (1.15.0)\n",
            "Requirement already satisfied: wcwidth in /usr/local/lib/python3.7/dist-packages (from prompt-toolkit<2.1.0,>=2.0.0->ipython>=4.0.0->ipywidgets>=7.0->eegvis==0.3.1) (0.2.5)\n",
            "Requirement already satisfied: notebook>=4.4.1 in /usr/local/lib/python3.7/dist-packages (from widgetsnbextension~=3.6.0->ipywidgets>=7.0->eegvis==0.3.1) (5.7.16)\n",
            "Requirement already satisfied: prometheus-client in /usr/local/lib/python3.7/dist-packages (from notebook>=4.4.1->widgetsnbextension~=3.6.0->ipywidgets>=7.0->eegvis==0.3.1) (0.15.0)\n",
            "Requirement already satisfied: terminado>=0.8.1 in /usr/local/lib/python3.7/dist-packages (from notebook>=4.4.1->widgetsnbextension~=3.6.0->ipywidgets>=7.0->eegvis==0.3.1) (0.13.3)\n",
            "Requirement already satisfied: nbconvert<6.0 in /usr/local/lib/python3.7/dist-packages (from notebook>=4.4.1->widgetsnbextension~=3.6.0->ipywidgets>=7.0->eegvis==0.3.1) (5.6.1)\n",
            "Requirement already satisfied: pyzmq>=17 in /usr/local/lib/python3.7/dist-packages (from notebook>=4.4.1->widgetsnbextension~=3.6.0->ipywidgets>=7.0->eegvis==0.3.1) (23.2.1)\n",
            "Requirement already satisfied: Send2Trash in /usr/local/lib/python3.7/dist-packages (from notebook>=4.4.1->widgetsnbextension~=3.6.0->ipywidgets>=7.0->eegvis==0.3.1) (1.8.0)\n",
            "Requirement already satisfied: nbformat in /usr/local/lib/python3.7/dist-packages (from notebook>=4.4.1->widgetsnbextension~=3.6.0->ipywidgets>=7.0->eegvis==0.3.1) (5.7.0)\n",
            "Requirement already satisfied: jupyter-core>=4.4.0 in /usr/local/lib/python3.7/dist-packages (from notebook>=4.4.1->widgetsnbextension~=3.6.0->ipywidgets>=7.0->eegvis==0.3.1) (4.11.2)\n",
            "Requirement already satisfied: entrypoints>=0.2.2 in /usr/local/lib/python3.7/dist-packages (from nbconvert<6.0->notebook>=4.4.1->widgetsnbextension~=3.6.0->ipywidgets>=7.0->eegvis==0.3.1) (0.4)\n",
            "Requirement already satisfied: defusedxml in /usr/local/lib/python3.7/dist-packages (from nbconvert<6.0->notebook>=4.4.1->widgetsnbextension~=3.6.0->ipywidgets>=7.0->eegvis==0.3.1) (0.7.1)\n",
            "Requirement already satisfied: bleach in /usr/local/lib/python3.7/dist-packages (from nbconvert<6.0->notebook>=4.4.1->widgetsnbextension~=3.6.0->ipywidgets>=7.0->eegvis==0.3.1) (5.0.1)\n",
            "Requirement already satisfied: pandocfilters>=1.4.1 in /usr/local/lib/python3.7/dist-packages (from nbconvert<6.0->notebook>=4.4.1->widgetsnbextension~=3.6.0->ipywidgets>=7.0->eegvis==0.3.1) (1.5.0)\n",
            "Requirement already satisfied: testpath in /usr/local/lib/python3.7/dist-packages (from nbconvert<6.0->notebook>=4.4.1->widgetsnbextension~=3.6.0->ipywidgets>=7.0->eegvis==0.3.1) (0.6.0)\n",
            "Requirement already satisfied: mistune<2,>=0.8.1 in /usr/local/lib/python3.7/dist-packages (from nbconvert<6.0->notebook>=4.4.1->widgetsnbextension~=3.6.0->ipywidgets>=7.0->eegvis==0.3.1) (0.8.4)\n",
            "Requirement already satisfied: jsonschema>=2.6 in /usr/local/lib/python3.7/dist-packages (from nbformat->notebook>=4.4.1->widgetsnbextension~=3.6.0->ipywidgets>=7.0->eegvis==0.3.1) (4.3.3)\n",
            "Requirement already satisfied: importlib-metadata>=3.6 in /usr/local/lib/python3.7/dist-packages (from nbformat->notebook>=4.4.1->widgetsnbextension~=3.6.0->ipywidgets>=7.0->eegvis==0.3.1) (4.13.0)\n",
            "Requirement already satisfied: fastjsonschema in /usr/local/lib/python3.7/dist-packages (from nbformat->notebook>=4.4.1->widgetsnbextension~=3.6.0->ipywidgets>=7.0->eegvis==0.3.1) (2.16.2)\n",
            "Requirement already satisfied: zipp>=0.5 in /usr/local/lib/python3.7/dist-packages (from importlib-metadata>=3.6->nbformat->notebook>=4.4.1->widgetsnbextension~=3.6.0->ipywidgets>=7.0->eegvis==0.3.1) (3.10.0)\n",
            "Requirement already satisfied: importlib-resources>=1.4.0 in /usr/local/lib/python3.7/dist-packages (from jsonschema>=2.6->nbformat->notebook>=4.4.1->widgetsnbextension~=3.6.0->ipywidgets>=7.0->eegvis==0.3.1) (5.10.0)\n",
            "Requirement already satisfied: attrs>=17.4.0 in /usr/local/lib/python3.7/dist-packages (from jsonschema>=2.6->nbformat->notebook>=4.4.1->widgetsnbextension~=3.6.0->ipywidgets>=7.0->eegvis==0.3.1) (22.1.0)\n",
            "Requirement already satisfied: pyrsistent!=0.17.0,!=0.17.1,!=0.17.2,>=0.14.0 in /usr/local/lib/python3.7/dist-packages (from jsonschema>=2.6->nbformat->notebook>=4.4.1->widgetsnbextension~=3.6.0->ipywidgets>=7.0->eegvis==0.3.1) (0.19.2)\n",
            "Requirement already satisfied: ptyprocess in /usr/local/lib/python3.7/dist-packages (from terminado>=0.8.1->notebook>=4.4.1->widgetsnbextension~=3.6.0->ipywidgets>=7.0->eegvis==0.3.1) (0.7.0)\n",
            "Requirement already satisfied: webencodings in /usr/local/lib/python3.7/dist-packages (from bleach->nbconvert<6.0->notebook>=4.4.1->widgetsnbextension~=3.6.0->ipywidgets>=7.0->eegvis==0.3.1) (0.5.1)\n",
            "Requirement already satisfied: pyct>=0.4.4 in /usr/local/lib/python3.7/dist-packages (from panel->eegvis==0.3.1) (0.4.8)\n",
            "Requirement already satisfied: markdown in /usr/local/lib/python3.7/dist-packages (from panel->eegvis==0.3.1) (3.4.1)\n",
            "Requirement already satisfied: param>=1.10.0 in /usr/local/lib/python3.7/dist-packages (from panel->eegvis==0.3.1) (1.12.2)\n",
            "Requirement already satisfied: requests in /usr/local/lib/python3.7/dist-packages (from panel->eegvis==0.3.1) (2.23.0)\n",
            "Requirement already satisfied: tqdm>=4.48.0 in /usr/local/lib/python3.7/dist-packages (from panel->eegvis==0.3.1) (4.64.1)\n",
            "Requirement already satisfied: pyviz-comms>=0.7.4 in /usr/local/lib/python3.7/dist-packages (from panel->eegvis==0.3.1) (2.2.1)\n",
            "Requirement already satisfied: certifi>=2017.4.17 in /usr/local/lib/python3.7/dist-packages (from requests->panel->eegvis==0.3.1) (2022.9.24)\n",
            "Requirement already satisfied: urllib3!=1.25.0,!=1.25.1,<1.26,>=1.21.1 in /usr/local/lib/python3.7/dist-packages (from requests->panel->eegvis==0.3.1) (1.24.3)\n",
            "Requirement already satisfied: chardet<4,>=3.0.2 in /usr/local/lib/python3.7/dist-packages (from requests->panel->eegvis==0.3.1) (3.0.4)\n",
            "Requirement already satisfied: idna<3,>=2.5 in /usr/local/lib/python3.7/dist-packages (from requests->panel->eegvis==0.3.1) (2.10)\n",
            "Requirement already satisfied: pandas>=1.1 in /usr/local/lib/python3.7/dist-packages (from xarray->eegvis==0.3.1) (1.3.5)\n",
            "Requirement already satisfied: pytz>=2017.3 in /usr/local/lib/python3.7/dist-packages (from pandas>=1.1->xarray->eegvis==0.3.1) (2022.6)\n",
            "Building wheels for collected packages: eegvis, eegml-signal\n",
            "  Building wheel for eegvis (PEP 517) ... \u001b[?25l\u001b[?25hdone\n",
            "  Created wheel for eegvis: filename=eegvis-0.3.1-py2.py3-none-any.whl size=64139 sha256=777877af0389dc89a4ddd8ab6fefdfacbddfdab4588089887dcb2ee73d1a8edd\n",
            "  Stored in directory: /tmp/pip-ephem-wheel-cache-masa5au2/wheels/02/c0/63/9178cadca53027f67c4e0759a28deea88f9fcd5f1cd24b2d7f\n",
            "  Building wheel for eegml-signal (setup.py) ... \u001b[?25l\u001b[?25hdone\n",
            "  Created wheel for eegml-signal: filename=eegml_signal-0.0.1-py3-none-any.whl size=20494 sha256=cd1cd5c040d4fd370946bb82b638ee46b669a35a6397b0b9cc3f8982ad6f8e97\n",
            "  Stored in directory: /tmp/pip-ephem-wheel-cache-masa5au2/wheels/e0/73/6d/6d9d6f755fc4ed868b3a2da9a8d8fd2f54f1c1716f11045182\n",
            "Successfully built eegvis eegml-signal\n",
            "Installing collected packages: eegml-signal, eegvis\n",
            "Successfully installed eegml-signal-0.0.1 eegvis-0.3.1\n",
            "Cloning into 'eegvis'...\n",
            "remote: Enumerating objects: 894, done.\u001b[K\n",
            "remote: Counting objects: 100% (310/310), done.\u001b[K\n",
            "remote: Compressing objects: 100% (194/194), done.\u001b[K\n",
            "remote: Total 894 (delta 188), reused 207 (delta 114), pack-reused 584\u001b[K\n",
            "Receiving objects: 100% (894/894), 9.69 MiB | 17.17 MiB/s, done.\n",
            "Resolving deltas: 100% (573/573), done.\n",
            "Looking in indexes: https://pypi.org/simple, https://us-python.pkg.dev/colab-wheels/public/simple/\n",
            "Collecting git+https://github.com/eegml/eegvis.git\n",
            "  Cloning https://github.com/eegml/eegvis.git to /tmp/pip-req-build-gqos77va\n",
            "  Running command git clone -q https://github.com/eegml/eegvis.git /tmp/pip-req-build-gqos77va\n",
            "  Installing build dependencies ... \u001b[?25l\u001b[?25hdone\n",
            "  Getting requirements to build wheel ... \u001b[?25l\u001b[?25hdone\n",
            "    Preparing wheel metadata ... \u001b[?25l\u001b[?25hdone\n",
            "Collecting eegml-signal@ git+https://github.com/eegml/eegml-signal.git@master\n",
            "  Cloning https://github.com/eegml/eegml-signal.git (to revision master) to /tmp/pip-install-xsxfi94u/eegml-signal_62bf38c678f74c5185a2dea0a5f305b6\n",
            "  Running command git clone -q https://github.com/eegml/eegml-signal.git /tmp/pip-install-xsxfi94u/eegml-signal_62bf38c678f74c5185a2dea0a5f305b6\n",
            "Requirement already satisfied: ipywidgets>=7.0 in /usr/local/lib/python3.7/dist-packages (from eegvis==0.3.1) (7.7.1)\n",
            "Requirement already satisfied: numpy in /usr/local/lib/python3.7/dist-packages (from eegvis==0.3.1) (1.21.6)\n",
            "Requirement already satisfied: xarray in /usr/local/lib/python3.7/dist-packages (from eegvis==0.3.1) (0.20.2)\n",
            "Requirement already satisfied: matplotlib>=3.2 in /usr/local/lib/python3.7/dist-packages (from eegvis==0.3.1) (3.2.2)\n",
            "Requirement already satisfied: scipy in /usr/local/lib/python3.7/dist-packages (from eegvis==0.3.1) (1.7.3)\n",
            "Requirement already satisfied: bokeh>=0.12.16 in /usr/local/lib/python3.7/dist-packages (from eegvis==0.3.1) (2.3.3)\n",
            "Requirement already satisfied: panel in /usr/local/lib/python3.7/dist-packages (from eegvis==0.3.1) (0.12.1)\n",
            "Requirement already satisfied: tornado>=5.1 in /usr/local/lib/python3.7/dist-packages (from bokeh>=0.12.16->eegvis==0.3.1) (6.0.4)\n",
            "Requirement already satisfied: Jinja2>=2.9 in /usr/local/lib/python3.7/dist-packages (from bokeh>=0.12.16->eegvis==0.3.1) (2.11.3)\n",
            "Requirement already satisfied: typing-extensions>=3.7.4 in /usr/local/lib/python3.7/dist-packages (from bokeh>=0.12.16->eegvis==0.3.1) (4.1.1)\n",
            "Requirement already satisfied: PyYAML>=3.10 in /usr/local/lib/python3.7/dist-packages (from bokeh>=0.12.16->eegvis==0.3.1) (6.0)\n",
            "Requirement already satisfied: python-dateutil>=2.1 in /usr/local/lib/python3.7/dist-packages (from bokeh>=0.12.16->eegvis==0.3.1) (2.8.2)\n",
            "Requirement already satisfied: packaging>=16.8 in /usr/local/lib/python3.7/dist-packages (from bokeh>=0.12.16->eegvis==0.3.1) (21.3)\n",
            "Requirement already satisfied: pillow>=7.1.0 in /usr/local/lib/python3.7/dist-packages (from bokeh>=0.12.16->eegvis==0.3.1) (7.1.2)\n",
            "Requirement already satisfied: widgetsnbextension~=3.6.0 in /usr/local/lib/python3.7/dist-packages (from ipywidgets>=7.0->eegvis==0.3.1) (3.6.1)\n",
            "Requirement already satisfied: traitlets>=4.3.1 in /usr/local/lib/python3.7/dist-packages (from ipywidgets>=7.0->eegvis==0.3.1) (5.1.1)\n",
            "Requirement already satisfied: ipykernel>=4.5.1 in /usr/local/lib/python3.7/dist-packages (from ipywidgets>=7.0->eegvis==0.3.1) (5.3.4)\n",
            "Requirement already satisfied: ipython-genutils~=0.2.0 in /usr/local/lib/python3.7/dist-packages (from ipywidgets>=7.0->eegvis==0.3.1) (0.2.0)\n",
            "Requirement already satisfied: ipython>=4.0.0 in /usr/local/lib/python3.7/dist-packages (from ipywidgets>=7.0->eegvis==0.3.1) (7.9.0)\n",
            "Requirement already satisfied: jupyterlab-widgets>=1.0.0 in /usr/local/lib/python3.7/dist-packages (from ipywidgets>=7.0->eegvis==0.3.1) (3.0.3)\n",
            "Requirement already satisfied: jupyter-client in /usr/local/lib/python3.7/dist-packages (from ipykernel>=4.5.1->ipywidgets>=7.0->eegvis==0.3.1) (6.1.12)\n",
            "Requirement already satisfied: pygments in /usr/local/lib/python3.7/dist-packages (from ipython>=4.0.0->ipywidgets>=7.0->eegvis==0.3.1) (2.6.1)\n",
            "Requirement already satisfied: decorator in /usr/local/lib/python3.7/dist-packages (from ipython>=4.0.0->ipywidgets>=7.0->eegvis==0.3.1) (4.4.2)\n",
            "Requirement already satisfied: pexpect in /usr/local/lib/python3.7/dist-packages (from ipython>=4.0.0->ipywidgets>=7.0->eegvis==0.3.1) (4.8.0)\n",
            "Requirement already satisfied: setuptools>=18.5 in /usr/local/lib/python3.7/dist-packages (from ipython>=4.0.0->ipywidgets>=7.0->eegvis==0.3.1) (57.4.0)\n",
            "Requirement already satisfied: jedi>=0.10 in /usr/local/lib/python3.7/dist-packages (from ipython>=4.0.0->ipywidgets>=7.0->eegvis==0.3.1) (0.18.1)\n",
            "Requirement already satisfied: prompt-toolkit<2.1.0,>=2.0.0 in /usr/local/lib/python3.7/dist-packages (from ipython>=4.0.0->ipywidgets>=7.0->eegvis==0.3.1) (2.0.10)\n",
            "Requirement already satisfied: pickleshare in /usr/local/lib/python3.7/dist-packages (from ipython>=4.0.0->ipywidgets>=7.0->eegvis==0.3.1) (0.7.5)\n",
            "Requirement already satisfied: backcall in /usr/local/lib/python3.7/dist-packages (from ipython>=4.0.0->ipywidgets>=7.0->eegvis==0.3.1) (0.2.0)\n",
            "Requirement already satisfied: parso<0.9.0,>=0.8.0 in /usr/local/lib/python3.7/dist-packages (from jedi>=0.10->ipython>=4.0.0->ipywidgets>=7.0->eegvis==0.3.1) (0.8.3)\n",
            "Requirement already satisfied: MarkupSafe>=0.23 in /usr/local/lib/python3.7/dist-packages (from Jinja2>=2.9->bokeh>=0.12.16->eegvis==0.3.1) (2.0.1)\n",
            "Requirement already satisfied: kiwisolver>=1.0.1 in /usr/local/lib/python3.7/dist-packages (from matplotlib>=3.2->eegvis==0.3.1) (1.4.4)\n",
            "Requirement already satisfied: cycler>=0.10 in /usr/local/lib/python3.7/dist-packages (from matplotlib>=3.2->eegvis==0.3.1) (0.11.0)\n",
            "Requirement already satisfied: pyparsing!=2.0.4,!=2.1.2,!=2.1.6,>=2.0.1 in /usr/local/lib/python3.7/dist-packages (from matplotlib>=3.2->eegvis==0.3.1) (3.0.9)\n",
            "Requirement already satisfied: wcwidth in /usr/local/lib/python3.7/dist-packages (from prompt-toolkit<2.1.0,>=2.0.0->ipython>=4.0.0->ipywidgets>=7.0->eegvis==0.3.1) (0.2.5)\n",
            "Requirement already satisfied: six>=1.9.0 in /usr/local/lib/python3.7/dist-packages (from prompt-toolkit<2.1.0,>=2.0.0->ipython>=4.0.0->ipywidgets>=7.0->eegvis==0.3.1) (1.15.0)\n",
            "Requirement already satisfied: notebook>=4.4.1 in /usr/local/lib/python3.7/dist-packages (from widgetsnbextension~=3.6.0->ipywidgets>=7.0->eegvis==0.3.1) (5.7.16)\n",
            "Requirement already satisfied: Send2Trash in /usr/local/lib/python3.7/dist-packages (from notebook>=4.4.1->widgetsnbextension~=3.6.0->ipywidgets>=7.0->eegvis==0.3.1) (1.8.0)\n",
            "Requirement already satisfied: nbformat in /usr/local/lib/python3.7/dist-packages (from notebook>=4.4.1->widgetsnbextension~=3.6.0->ipywidgets>=7.0->eegvis==0.3.1) (5.7.0)\n",
            "Requirement already satisfied: pyzmq>=17 in /usr/local/lib/python3.7/dist-packages (from notebook>=4.4.1->widgetsnbextension~=3.6.0->ipywidgets>=7.0->eegvis==0.3.1) (23.2.1)\n",
            "Requirement already satisfied: jupyter-core>=4.4.0 in /usr/local/lib/python3.7/dist-packages (from notebook>=4.4.1->widgetsnbextension~=3.6.0->ipywidgets>=7.0->eegvis==0.3.1) (4.11.2)\n",
            "Requirement already satisfied: terminado>=0.8.1 in /usr/local/lib/python3.7/dist-packages (from notebook>=4.4.1->widgetsnbextension~=3.6.0->ipywidgets>=7.0->eegvis==0.3.1) (0.13.3)\n",
            "Requirement already satisfied: nbconvert<6.0 in /usr/local/lib/python3.7/dist-packages (from notebook>=4.4.1->widgetsnbextension~=3.6.0->ipywidgets>=7.0->eegvis==0.3.1) (5.6.1)\n",
            "Requirement already satisfied: prometheus-client in /usr/local/lib/python3.7/dist-packages (from notebook>=4.4.1->widgetsnbextension~=3.6.0->ipywidgets>=7.0->eegvis==0.3.1) (0.15.0)\n",
            "Requirement already satisfied: mistune<2,>=0.8.1 in /usr/local/lib/python3.7/dist-packages (from nbconvert<6.0->notebook>=4.4.1->widgetsnbextension~=3.6.0->ipywidgets>=7.0->eegvis==0.3.1) (0.8.4)\n",
            "Requirement already satisfied: defusedxml in /usr/local/lib/python3.7/dist-packages (from nbconvert<6.0->notebook>=4.4.1->widgetsnbextension~=3.6.0->ipywidgets>=7.0->eegvis==0.3.1) (0.7.1)\n",
            "Requirement already satisfied: testpath in /usr/local/lib/python3.7/dist-packages (from nbconvert<6.0->notebook>=4.4.1->widgetsnbextension~=3.6.0->ipywidgets>=7.0->eegvis==0.3.1) (0.6.0)\n",
            "Requirement already satisfied: bleach in /usr/local/lib/python3.7/dist-packages (from nbconvert<6.0->notebook>=4.4.1->widgetsnbextension~=3.6.0->ipywidgets>=7.0->eegvis==0.3.1) (5.0.1)\n",
            "Requirement already satisfied: pandocfilters>=1.4.1 in /usr/local/lib/python3.7/dist-packages (from nbconvert<6.0->notebook>=4.4.1->widgetsnbextension~=3.6.0->ipywidgets>=7.0->eegvis==0.3.1) (1.5.0)\n",
            "Requirement already satisfied: entrypoints>=0.2.2 in /usr/local/lib/python3.7/dist-packages (from nbconvert<6.0->notebook>=4.4.1->widgetsnbextension~=3.6.0->ipywidgets>=7.0->eegvis==0.3.1) (0.4)\n",
            "Requirement already satisfied: importlib-metadata>=3.6 in /usr/local/lib/python3.7/dist-packages (from nbformat->notebook>=4.4.1->widgetsnbextension~=3.6.0->ipywidgets>=7.0->eegvis==0.3.1) (4.13.0)\n",
            "Requirement already satisfied: fastjsonschema in /usr/local/lib/python3.7/dist-packages (from nbformat->notebook>=4.4.1->widgetsnbextension~=3.6.0->ipywidgets>=7.0->eegvis==0.3.1) (2.16.2)\n",
            "Requirement already satisfied: jsonschema>=2.6 in /usr/local/lib/python3.7/dist-packages (from nbformat->notebook>=4.4.1->widgetsnbextension~=3.6.0->ipywidgets>=7.0->eegvis==0.3.1) (4.3.3)\n",
            "Requirement already satisfied: zipp>=0.5 in /usr/local/lib/python3.7/dist-packages (from importlib-metadata>=3.6->nbformat->notebook>=4.4.1->widgetsnbextension~=3.6.0->ipywidgets>=7.0->eegvis==0.3.1) (3.10.0)\n",
            "Requirement already satisfied: attrs>=17.4.0 in /usr/local/lib/python3.7/dist-packages (from jsonschema>=2.6->nbformat->notebook>=4.4.1->widgetsnbextension~=3.6.0->ipywidgets>=7.0->eegvis==0.3.1) (22.1.0)\n",
            "Requirement already satisfied: importlib-resources>=1.4.0 in /usr/local/lib/python3.7/dist-packages (from jsonschema>=2.6->nbformat->notebook>=4.4.1->widgetsnbextension~=3.6.0->ipywidgets>=7.0->eegvis==0.3.1) (5.10.0)\n",
            "Requirement already satisfied: pyrsistent!=0.17.0,!=0.17.1,!=0.17.2,>=0.14.0 in /usr/local/lib/python3.7/dist-packages (from jsonschema>=2.6->nbformat->notebook>=4.4.1->widgetsnbextension~=3.6.0->ipywidgets>=7.0->eegvis==0.3.1) (0.19.2)\n",
            "Requirement already satisfied: ptyprocess in /usr/local/lib/python3.7/dist-packages (from terminado>=0.8.1->notebook>=4.4.1->widgetsnbextension~=3.6.0->ipywidgets>=7.0->eegvis==0.3.1) (0.7.0)\n",
            "Requirement already satisfied: webencodings in /usr/local/lib/python3.7/dist-packages (from bleach->nbconvert<6.0->notebook>=4.4.1->widgetsnbextension~=3.6.0->ipywidgets>=7.0->eegvis==0.3.1) (0.5.1)\n",
            "Requirement already satisfied: pyct>=0.4.4 in /usr/local/lib/python3.7/dist-packages (from panel->eegvis==0.3.1) (0.4.8)\n",
            "Requirement already satisfied: markdown in /usr/local/lib/python3.7/dist-packages (from panel->eegvis==0.3.1) (3.4.1)\n",
            "Requirement already satisfied: param>=1.10.0 in /usr/local/lib/python3.7/dist-packages (from panel->eegvis==0.3.1) (1.12.2)\n",
            "Requirement already satisfied: tqdm>=4.48.0 in /usr/local/lib/python3.7/dist-packages (from panel->eegvis==0.3.1) (4.64.1)\n",
            "Requirement already satisfied: pyviz-comms>=0.7.4 in /usr/local/lib/python3.7/dist-packages (from panel->eegvis==0.3.1) (2.2.1)\n",
            "Requirement already satisfied: requests in /usr/local/lib/python3.7/dist-packages (from panel->eegvis==0.3.1) (2.23.0)\n",
            "Requirement already satisfied: chardet<4,>=3.0.2 in /usr/local/lib/python3.7/dist-packages (from requests->panel->eegvis==0.3.1) (3.0.4)\n",
            "Requirement already satisfied: urllib3!=1.25.0,!=1.25.1,<1.26,>=1.21.1 in /usr/local/lib/python3.7/dist-packages (from requests->panel->eegvis==0.3.1) (1.24.3)\n",
            "Requirement already satisfied: certifi>=2017.4.17 in /usr/local/lib/python3.7/dist-packages (from requests->panel->eegvis==0.3.1) (2022.9.24)\n",
            "Requirement already satisfied: idna<3,>=2.5 in /usr/local/lib/python3.7/dist-packages (from requests->panel->eegvis==0.3.1) (2.10)\n",
            "Requirement already satisfied: pandas>=1.1 in /usr/local/lib/python3.7/dist-packages (from xarray->eegvis==0.3.1) (1.3.5)\n",
            "Requirement already satisfied: pytz>=2017.3 in /usr/local/lib/python3.7/dist-packages (from pandas>=1.1->xarray->eegvis==0.3.1) (2022.6)\n",
            "Looking in indexes: https://pypi.org/simple, https://us-python.pkg.dev/colab-wheels/public/simple/\n",
            "Processing ./eegvis\n",
            "\u001b[33m  DEPRECATION: A future pip version will change local packages to be built in-place without first copying to a temporary directory. We recommend you use --use-feature=in-tree-build to test your packages with this new behavior before it becomes the default.\n",
            "   pip 21.3 will remove support for this functionality. You can find discussion regarding this at https://github.com/pypa/pip/issues/7555.\u001b[0m\n",
            "  Installing build dependencies ... \u001b[?25l\u001b[?25hdone\n",
            "  Getting requirements to build wheel ... \u001b[?25l\u001b[?25hdone\n",
            "    Preparing wheel metadata ... \u001b[?25l\u001b[?25hdone\n",
            "Collecting eegml-signal@ git+https://github.com/eegml/eegml-signal.git@master\n",
            "  Cloning https://github.com/eegml/eegml-signal.git (to revision master) to /tmp/pip-install-w0incdng/eegml-signal_f57694e4d2f5402ba1992ab65dfe1537\n",
            "  Running command git clone -q https://github.com/eegml/eegml-signal.git /tmp/pip-install-w0incdng/eegml-signal_f57694e4d2f5402ba1992ab65dfe1537\n",
            "Requirement already satisfied: xarray in /usr/local/lib/python3.7/dist-packages (from eegvis==0.3.1) (0.20.2)\n",
            "Requirement already satisfied: numpy in /usr/local/lib/python3.7/dist-packages (from eegvis==0.3.1) (1.21.6)\n",
            "Requirement already satisfied: ipywidgets>=7.0 in /usr/local/lib/python3.7/dist-packages (from eegvis==0.3.1) (7.7.1)\n",
            "Requirement already satisfied: matplotlib>=3.2 in /usr/local/lib/python3.7/dist-packages (from eegvis==0.3.1) (3.2.2)\n",
            "Requirement already satisfied: panel in /usr/local/lib/python3.7/dist-packages (from eegvis==0.3.1) (0.12.1)\n",
            "Requirement already satisfied: scipy in /usr/local/lib/python3.7/dist-packages (from eegvis==0.3.1) (1.7.3)\n",
            "Requirement already satisfied: bokeh>=0.12.16 in /usr/local/lib/python3.7/dist-packages (from eegvis==0.3.1) (2.3.3)\n",
            "Requirement already satisfied: python-dateutil>=2.1 in /usr/local/lib/python3.7/dist-packages (from bokeh>=0.12.16->eegvis==0.3.1) (2.8.2)\n",
            "Requirement already satisfied: Jinja2>=2.9 in /usr/local/lib/python3.7/dist-packages (from bokeh>=0.12.16->eegvis==0.3.1) (2.11.3)\n",
            "Requirement already satisfied: typing-extensions>=3.7.4 in /usr/local/lib/python3.7/dist-packages (from bokeh>=0.12.16->eegvis==0.3.1) (4.1.1)\n",
            "Requirement already satisfied: tornado>=5.1 in /usr/local/lib/python3.7/dist-packages (from bokeh>=0.12.16->eegvis==0.3.1) (6.0.4)\n",
            "Requirement already satisfied: pillow>=7.1.0 in /usr/local/lib/python3.7/dist-packages (from bokeh>=0.12.16->eegvis==0.3.1) (7.1.2)\n",
            "Requirement already satisfied: PyYAML>=3.10 in /usr/local/lib/python3.7/dist-packages (from bokeh>=0.12.16->eegvis==0.3.1) (6.0)\n",
            "Requirement already satisfied: packaging>=16.8 in /usr/local/lib/python3.7/dist-packages (from bokeh>=0.12.16->eegvis==0.3.1) (21.3)\n",
            "Requirement already satisfied: traitlets>=4.3.1 in /usr/local/lib/python3.7/dist-packages (from ipywidgets>=7.0->eegvis==0.3.1) (5.1.1)\n",
            "Requirement already satisfied: ipython>=4.0.0 in /usr/local/lib/python3.7/dist-packages (from ipywidgets>=7.0->eegvis==0.3.1) (7.9.0)\n",
            "Requirement already satisfied: widgetsnbextension~=3.6.0 in /usr/local/lib/python3.7/dist-packages (from ipywidgets>=7.0->eegvis==0.3.1) (3.6.1)\n",
            "Requirement already satisfied: ipython-genutils~=0.2.0 in /usr/local/lib/python3.7/dist-packages (from ipywidgets>=7.0->eegvis==0.3.1) (0.2.0)\n",
            "Requirement already satisfied: jupyterlab-widgets>=1.0.0 in /usr/local/lib/python3.7/dist-packages (from ipywidgets>=7.0->eegvis==0.3.1) (3.0.3)\n",
            "Requirement already satisfied: ipykernel>=4.5.1 in /usr/local/lib/python3.7/dist-packages (from ipywidgets>=7.0->eegvis==0.3.1) (5.3.4)\n",
            "Requirement already satisfied: jupyter-client in /usr/local/lib/python3.7/dist-packages (from ipykernel>=4.5.1->ipywidgets>=7.0->eegvis==0.3.1) (6.1.12)\n",
            "Requirement already satisfied: pickleshare in /usr/local/lib/python3.7/dist-packages (from ipython>=4.0.0->ipywidgets>=7.0->eegvis==0.3.1) (0.7.5)\n",
            "Requirement already satisfied: pexpect in /usr/local/lib/python3.7/dist-packages (from ipython>=4.0.0->ipywidgets>=7.0->eegvis==0.3.1) (4.8.0)\n",
            "Requirement already satisfied: setuptools>=18.5 in /usr/local/lib/python3.7/dist-packages (from ipython>=4.0.0->ipywidgets>=7.0->eegvis==0.3.1) (57.4.0)\n",
            "Requirement already satisfied: jedi>=0.10 in /usr/local/lib/python3.7/dist-packages (from ipython>=4.0.0->ipywidgets>=7.0->eegvis==0.3.1) (0.18.1)\n",
            "Requirement already satisfied: decorator in /usr/local/lib/python3.7/dist-packages (from ipython>=4.0.0->ipywidgets>=7.0->eegvis==0.3.1) (4.4.2)\n",
            "Requirement already satisfied: backcall in /usr/local/lib/python3.7/dist-packages (from ipython>=4.0.0->ipywidgets>=7.0->eegvis==0.3.1) (0.2.0)\n",
            "Requirement already satisfied: pygments in /usr/local/lib/python3.7/dist-packages (from ipython>=4.0.0->ipywidgets>=7.0->eegvis==0.3.1) (2.6.1)\n",
            "Requirement already satisfied: prompt-toolkit<2.1.0,>=2.0.0 in /usr/local/lib/python3.7/dist-packages (from ipython>=4.0.0->ipywidgets>=7.0->eegvis==0.3.1) (2.0.10)\n",
            "Requirement already satisfied: parso<0.9.0,>=0.8.0 in /usr/local/lib/python3.7/dist-packages (from jedi>=0.10->ipython>=4.0.0->ipywidgets>=7.0->eegvis==0.3.1) (0.8.3)\n",
            "Requirement already satisfied: MarkupSafe>=0.23 in /usr/local/lib/python3.7/dist-packages (from Jinja2>=2.9->bokeh>=0.12.16->eegvis==0.3.1) (2.0.1)\n",
            "Requirement already satisfied: kiwisolver>=1.0.1 in /usr/local/lib/python3.7/dist-packages (from matplotlib>=3.2->eegvis==0.3.1) (1.4.4)\n",
            "Requirement already satisfied: pyparsing!=2.0.4,!=2.1.2,!=2.1.6,>=2.0.1 in /usr/local/lib/python3.7/dist-packages (from matplotlib>=3.2->eegvis==0.3.1) (3.0.9)\n",
            "Requirement already satisfied: cycler>=0.10 in /usr/local/lib/python3.7/dist-packages (from matplotlib>=3.2->eegvis==0.3.1) (0.11.0)\n",
            "Requirement already satisfied: six>=1.9.0 in /usr/local/lib/python3.7/dist-packages (from prompt-toolkit<2.1.0,>=2.0.0->ipython>=4.0.0->ipywidgets>=7.0->eegvis==0.3.1) (1.15.0)\n",
            "Requirement already satisfied: wcwidth in /usr/local/lib/python3.7/dist-packages (from prompt-toolkit<2.1.0,>=2.0.0->ipython>=4.0.0->ipywidgets>=7.0->eegvis==0.3.1) (0.2.5)\n",
            "Requirement already satisfied: notebook>=4.4.1 in /usr/local/lib/python3.7/dist-packages (from widgetsnbextension~=3.6.0->ipywidgets>=7.0->eegvis==0.3.1) (5.7.16)\n",
            "Requirement already satisfied: prometheus-client in /usr/local/lib/python3.7/dist-packages (from notebook>=4.4.1->widgetsnbextension~=3.6.0->ipywidgets>=7.0->eegvis==0.3.1) (0.15.0)\n",
            "Requirement already satisfied: pyzmq>=17 in /usr/local/lib/python3.7/dist-packages (from notebook>=4.4.1->widgetsnbextension~=3.6.0->ipywidgets>=7.0->eegvis==0.3.1) (23.2.1)\n",
            "Requirement already satisfied: nbformat in /usr/local/lib/python3.7/dist-packages (from notebook>=4.4.1->widgetsnbextension~=3.6.0->ipywidgets>=7.0->eegvis==0.3.1) (5.7.0)\n",
            "Requirement already satisfied: nbconvert<6.0 in /usr/local/lib/python3.7/dist-packages (from notebook>=4.4.1->widgetsnbextension~=3.6.0->ipywidgets>=7.0->eegvis==0.3.1) (5.6.1)\n",
            "Requirement already satisfied: Send2Trash in /usr/local/lib/python3.7/dist-packages (from notebook>=4.4.1->widgetsnbextension~=3.6.0->ipywidgets>=7.0->eegvis==0.3.1) (1.8.0)\n",
            "Requirement already satisfied: terminado>=0.8.1 in /usr/local/lib/python3.7/dist-packages (from notebook>=4.4.1->widgetsnbextension~=3.6.0->ipywidgets>=7.0->eegvis==0.3.1) (0.13.3)\n",
            "Requirement already satisfied: jupyter-core>=4.4.0 in /usr/local/lib/python3.7/dist-packages (from notebook>=4.4.1->widgetsnbextension~=3.6.0->ipywidgets>=7.0->eegvis==0.3.1) (4.11.2)\n",
            "Requirement already satisfied: pandocfilters>=1.4.1 in /usr/local/lib/python3.7/dist-packages (from nbconvert<6.0->notebook>=4.4.1->widgetsnbextension~=3.6.0->ipywidgets>=7.0->eegvis==0.3.1) (1.5.0)\n",
            "Requirement already satisfied: defusedxml in /usr/local/lib/python3.7/dist-packages (from nbconvert<6.0->notebook>=4.4.1->widgetsnbextension~=3.6.0->ipywidgets>=7.0->eegvis==0.3.1) (0.7.1)\n",
            "Requirement already satisfied: mistune<2,>=0.8.1 in /usr/local/lib/python3.7/dist-packages (from nbconvert<6.0->notebook>=4.4.1->widgetsnbextension~=3.6.0->ipywidgets>=7.0->eegvis==0.3.1) (0.8.4)\n",
            "Requirement already satisfied: entrypoints>=0.2.2 in /usr/local/lib/python3.7/dist-packages (from nbconvert<6.0->notebook>=4.4.1->widgetsnbextension~=3.6.0->ipywidgets>=7.0->eegvis==0.3.1) (0.4)\n",
            "Requirement already satisfied: bleach in /usr/local/lib/python3.7/dist-packages (from nbconvert<6.0->notebook>=4.4.1->widgetsnbextension~=3.6.0->ipywidgets>=7.0->eegvis==0.3.1) (5.0.1)\n",
            "Requirement already satisfied: testpath in /usr/local/lib/python3.7/dist-packages (from nbconvert<6.0->notebook>=4.4.1->widgetsnbextension~=3.6.0->ipywidgets>=7.0->eegvis==0.3.1) (0.6.0)\n",
            "Requirement already satisfied: importlib-metadata>=3.6 in /usr/local/lib/python3.7/dist-packages (from nbformat->notebook>=4.4.1->widgetsnbextension~=3.6.0->ipywidgets>=7.0->eegvis==0.3.1) (4.13.0)\n",
            "Requirement already satisfied: fastjsonschema in /usr/local/lib/python3.7/dist-packages (from nbformat->notebook>=4.4.1->widgetsnbextension~=3.6.0->ipywidgets>=7.0->eegvis==0.3.1) (2.16.2)\n",
            "Requirement already satisfied: jsonschema>=2.6 in /usr/local/lib/python3.7/dist-packages (from nbformat->notebook>=4.4.1->widgetsnbextension~=3.6.0->ipywidgets>=7.0->eegvis==0.3.1) (4.3.3)\n",
            "Requirement already satisfied: zipp>=0.5 in /usr/local/lib/python3.7/dist-packages (from importlib-metadata>=3.6->nbformat->notebook>=4.4.1->widgetsnbextension~=3.6.0->ipywidgets>=7.0->eegvis==0.3.1) (3.10.0)\n",
            "Requirement already satisfied: pyrsistent!=0.17.0,!=0.17.1,!=0.17.2,>=0.14.0 in /usr/local/lib/python3.7/dist-packages (from jsonschema>=2.6->nbformat->notebook>=4.4.1->widgetsnbextension~=3.6.0->ipywidgets>=7.0->eegvis==0.3.1) (0.19.2)\n",
            "Requirement already satisfied: attrs>=17.4.0 in /usr/local/lib/python3.7/dist-packages (from jsonschema>=2.6->nbformat->notebook>=4.4.1->widgetsnbextension~=3.6.0->ipywidgets>=7.0->eegvis==0.3.1) (22.1.0)\n",
            "Requirement already satisfied: importlib-resources>=1.4.0 in /usr/local/lib/python3.7/dist-packages (from jsonschema>=2.6->nbformat->notebook>=4.4.1->widgetsnbextension~=3.6.0->ipywidgets>=7.0->eegvis==0.3.1) (5.10.0)\n",
            "Requirement already satisfied: ptyprocess in /usr/local/lib/python3.7/dist-packages (from terminado>=0.8.1->notebook>=4.4.1->widgetsnbextension~=3.6.0->ipywidgets>=7.0->eegvis==0.3.1) (0.7.0)\n",
            "Requirement already satisfied: webencodings in /usr/local/lib/python3.7/dist-packages (from bleach->nbconvert<6.0->notebook>=4.4.1->widgetsnbextension~=3.6.0->ipywidgets>=7.0->eegvis==0.3.1) (0.5.1)\n",
            "Requirement already satisfied: pyct>=0.4.4 in /usr/local/lib/python3.7/dist-packages (from panel->eegvis==0.3.1) (0.4.8)\n",
            "Requirement already satisfied: pyviz-comms>=0.7.4 in /usr/local/lib/python3.7/dist-packages (from panel->eegvis==0.3.1) (2.2.1)\n",
            "Requirement already satisfied: tqdm>=4.48.0 in /usr/local/lib/python3.7/dist-packages (from panel->eegvis==0.3.1) (4.64.1)\n",
            "Requirement already satisfied: param>=1.10.0 in /usr/local/lib/python3.7/dist-packages (from panel->eegvis==0.3.1) (1.12.2)\n",
            "Requirement already satisfied: requests in /usr/local/lib/python3.7/dist-packages (from panel->eegvis==0.3.1) (2.23.0)\n",
            "Requirement already satisfied: markdown in /usr/local/lib/python3.7/dist-packages (from panel->eegvis==0.3.1) (3.4.1)\n",
            "Requirement already satisfied: chardet<4,>=3.0.2 in /usr/local/lib/python3.7/dist-packages (from requests->panel->eegvis==0.3.1) (3.0.4)\n",
            "Requirement already satisfied: idna<3,>=2.5 in /usr/local/lib/python3.7/dist-packages (from requests->panel->eegvis==0.3.1) (2.10)\n",
            "Requirement already satisfied: certifi>=2017.4.17 in /usr/local/lib/python3.7/dist-packages (from requests->panel->eegvis==0.3.1) (2022.9.24)\n",
            "Requirement already satisfied: urllib3!=1.25.0,!=1.25.1,<1.26,>=1.21.1 in /usr/local/lib/python3.7/dist-packages (from requests->panel->eegvis==0.3.1) (1.24.3)\n",
            "Requirement already satisfied: pandas>=1.1 in /usr/local/lib/python3.7/dist-packages (from xarray->eegvis==0.3.1) (1.3.5)\n",
            "Requirement already satisfied: pytz>=2017.3 in /usr/local/lib/python3.7/dist-packages (from pandas>=1.1->xarray->eegvis==0.3.1) (2022.6)\n",
            "Building wheels for collected packages: eegvis\n",
            "  Building wheel for eegvis (PEP 517) ... \u001b[?25l\u001b[?25hdone\n",
            "  Created wheel for eegvis: filename=eegvis-0.3.1-py2.py3-none-any.whl size=64139 sha256=f2c713acbcd6aabcce5fc065e764fe8c10af79d9c635154d400685293fbdcee3\n",
            "  Stored in directory: /tmp/pip-ephem-wheel-cache-e0m8_1ya/wheels/9c/53/db/1c426e5e7de779c017827135275265b9760a9a61b0f3ddf69a\n",
            "Successfully built eegvis\n",
            "Installing collected packages: eegvis\n",
            "  Attempting uninstall: eegvis\n",
            "    Found existing installation: eegvis 0.3.1\n",
            "    Uninstalling eegvis-0.3.1:\n",
            "      Successfully uninstalled eegvis-0.3.1\n",
            "Successfully installed eegvis-0.3.1\n",
            "Looking in indexes: https://pypi.org/simple, https://us-python.pkg.dev/colab-wheels/public/simple/\n",
            "Collecting git+https://github.com/eegml/eegvis.git\n",
            "  Cloning https://github.com/eegml/eegvis.git to /tmp/pip-req-build-jymutrhq\n",
            "  Running command git clone -q https://github.com/eegml/eegvis.git /tmp/pip-req-build-jymutrhq\n",
            "  Installing build dependencies ... \u001b[?25l\u001b[?25hdone\n",
            "  Getting requirements to build wheel ... \u001b[?25l\u001b[?25hdone\n",
            "    Preparing wheel metadata ... \u001b[?25l\u001b[?25hdone\n",
            "Collecting eegml-signal@ git+https://github.com/eegml/eegml-signal.git@master\n",
            "  Cloning https://github.com/eegml/eegml-signal.git (to revision master) to /tmp/pip-install-5lpak7wz/eegml-signal_261ec2c118e64cac913ec3bc4fda7eab\n",
            "  Running command git clone -q https://github.com/eegml/eegml-signal.git /tmp/pip-install-5lpak7wz/eegml-signal_261ec2c118e64cac913ec3bc4fda7eab\n",
            "Requirement already satisfied: numpy in /usr/local/lib/python3.7/dist-packages (from eegvis==0.3.1) (1.21.6)\n",
            "Requirement already satisfied: panel in /usr/local/lib/python3.7/dist-packages (from eegvis==0.3.1) (0.12.1)\n",
            "Requirement already satisfied: xarray in /usr/local/lib/python3.7/dist-packages (from eegvis==0.3.1) (0.20.2)\n",
            "Requirement already satisfied: matplotlib>=3.2 in /usr/local/lib/python3.7/dist-packages (from eegvis==0.3.1) (3.2.2)\n",
            "Requirement already satisfied: scipy in /usr/local/lib/python3.7/dist-packages (from eegvis==0.3.1) (1.7.3)\n",
            "Requirement already satisfied: ipywidgets>=7.0 in /usr/local/lib/python3.7/dist-packages (from eegvis==0.3.1) (7.7.1)\n",
            "Requirement already satisfied: bokeh>=0.12.16 in /usr/local/lib/python3.7/dist-packages (from eegvis==0.3.1) (2.3.3)\n",
            "Requirement already satisfied: Jinja2>=2.9 in /usr/local/lib/python3.7/dist-packages (from bokeh>=0.12.16->eegvis==0.3.1) (2.11.3)\n",
            "Requirement already satisfied: PyYAML>=3.10 in /usr/local/lib/python3.7/dist-packages (from bokeh>=0.12.16->eegvis==0.3.1) (6.0)\n",
            "Requirement already satisfied: packaging>=16.8 in /usr/local/lib/python3.7/dist-packages (from bokeh>=0.12.16->eegvis==0.3.1) (21.3)\n",
            "Requirement already satisfied: pillow>=7.1.0 in /usr/local/lib/python3.7/dist-packages (from bokeh>=0.12.16->eegvis==0.3.1) (7.1.2)\n",
            "Requirement already satisfied: typing-extensions>=3.7.4 in /usr/local/lib/python3.7/dist-packages (from bokeh>=0.12.16->eegvis==0.3.1) (4.1.1)\n",
            "Requirement already satisfied: python-dateutil>=2.1 in /usr/local/lib/python3.7/dist-packages (from bokeh>=0.12.16->eegvis==0.3.1) (2.8.2)\n",
            "Requirement already satisfied: tornado>=5.1 in /usr/local/lib/python3.7/dist-packages (from bokeh>=0.12.16->eegvis==0.3.1) (6.0.4)\n",
            "Requirement already satisfied: ipykernel>=4.5.1 in /usr/local/lib/python3.7/dist-packages (from ipywidgets>=7.0->eegvis==0.3.1) (5.3.4)\n",
            "Requirement already satisfied: jupyterlab-widgets>=1.0.0 in /usr/local/lib/python3.7/dist-packages (from ipywidgets>=7.0->eegvis==0.3.1) (3.0.3)\n",
            "Requirement already satisfied: traitlets>=4.3.1 in /usr/local/lib/python3.7/dist-packages (from ipywidgets>=7.0->eegvis==0.3.1) (5.1.1)\n",
            "Requirement already satisfied: ipython>=4.0.0 in /usr/local/lib/python3.7/dist-packages (from ipywidgets>=7.0->eegvis==0.3.1) (7.9.0)\n",
            "Requirement already satisfied: widgetsnbextension~=3.6.0 in /usr/local/lib/python3.7/dist-packages (from ipywidgets>=7.0->eegvis==0.3.1) (3.6.1)\n",
            "Requirement already satisfied: ipython-genutils~=0.2.0 in /usr/local/lib/python3.7/dist-packages (from ipywidgets>=7.0->eegvis==0.3.1) (0.2.0)\n",
            "Requirement already satisfied: jupyter-client in /usr/local/lib/python3.7/dist-packages (from ipykernel>=4.5.1->ipywidgets>=7.0->eegvis==0.3.1) (6.1.12)\n",
            "Requirement already satisfied: pickleshare in /usr/local/lib/python3.7/dist-packages (from ipython>=4.0.0->ipywidgets>=7.0->eegvis==0.3.1) (0.7.5)\n",
            "Requirement already satisfied: pexpect in /usr/local/lib/python3.7/dist-packages (from ipython>=4.0.0->ipywidgets>=7.0->eegvis==0.3.1) (4.8.0)\n",
            "Requirement already satisfied: prompt-toolkit<2.1.0,>=2.0.0 in /usr/local/lib/python3.7/dist-packages (from ipython>=4.0.0->ipywidgets>=7.0->eegvis==0.3.1) (2.0.10)\n",
            "Requirement already satisfied: jedi>=0.10 in /usr/local/lib/python3.7/dist-packages (from ipython>=4.0.0->ipywidgets>=7.0->eegvis==0.3.1) (0.18.1)\n",
            "Requirement already satisfied: backcall in /usr/local/lib/python3.7/dist-packages (from ipython>=4.0.0->ipywidgets>=7.0->eegvis==0.3.1) (0.2.0)\n",
            "Requirement already satisfied: decorator in /usr/local/lib/python3.7/dist-packages (from ipython>=4.0.0->ipywidgets>=7.0->eegvis==0.3.1) (4.4.2)\n",
            "Requirement already satisfied: pygments in /usr/local/lib/python3.7/dist-packages (from ipython>=4.0.0->ipywidgets>=7.0->eegvis==0.3.1) (2.6.1)\n",
            "Requirement already satisfied: setuptools>=18.5 in /usr/local/lib/python3.7/dist-packages (from ipython>=4.0.0->ipywidgets>=7.0->eegvis==0.3.1) (57.4.0)\n",
            "Requirement already satisfied: parso<0.9.0,>=0.8.0 in /usr/local/lib/python3.7/dist-packages (from jedi>=0.10->ipython>=4.0.0->ipywidgets>=7.0->eegvis==0.3.1) (0.8.3)\n",
            "Requirement already satisfied: MarkupSafe>=0.23 in /usr/local/lib/python3.7/dist-packages (from Jinja2>=2.9->bokeh>=0.12.16->eegvis==0.3.1) (2.0.1)\n",
            "Requirement already satisfied: cycler>=0.10 in /usr/local/lib/python3.7/dist-packages (from matplotlib>=3.2->eegvis==0.3.1) (0.11.0)\n",
            "Requirement already satisfied: pyparsing!=2.0.4,!=2.1.2,!=2.1.6,>=2.0.1 in /usr/local/lib/python3.7/dist-packages (from matplotlib>=3.2->eegvis==0.3.1) (3.0.9)\n",
            "Requirement already satisfied: kiwisolver>=1.0.1 in /usr/local/lib/python3.7/dist-packages (from matplotlib>=3.2->eegvis==0.3.1) (1.4.4)\n",
            "Requirement already satisfied: wcwidth in /usr/local/lib/python3.7/dist-packages (from prompt-toolkit<2.1.0,>=2.0.0->ipython>=4.0.0->ipywidgets>=7.0->eegvis==0.3.1) (0.2.5)\n",
            "Requirement already satisfied: six>=1.9.0 in /usr/local/lib/python3.7/dist-packages (from prompt-toolkit<2.1.0,>=2.0.0->ipython>=4.0.0->ipywidgets>=7.0->eegvis==0.3.1) (1.15.0)\n",
            "Requirement already satisfied: notebook>=4.4.1 in /usr/local/lib/python3.7/dist-packages (from widgetsnbextension~=3.6.0->ipywidgets>=7.0->eegvis==0.3.1) (5.7.16)\n",
            "Requirement already satisfied: nbconvert<6.0 in /usr/local/lib/python3.7/dist-packages (from notebook>=4.4.1->widgetsnbextension~=3.6.0->ipywidgets>=7.0->eegvis==0.3.1) (5.6.1)\n",
            "Requirement already satisfied: terminado>=0.8.1 in /usr/local/lib/python3.7/dist-packages (from notebook>=4.4.1->widgetsnbextension~=3.6.0->ipywidgets>=7.0->eegvis==0.3.1) (0.13.3)\n",
            "Requirement already satisfied: nbformat in /usr/local/lib/python3.7/dist-packages (from notebook>=4.4.1->widgetsnbextension~=3.6.0->ipywidgets>=7.0->eegvis==0.3.1) (5.7.0)\n",
            "Requirement already satisfied: prometheus-client in /usr/local/lib/python3.7/dist-packages (from notebook>=4.4.1->widgetsnbextension~=3.6.0->ipywidgets>=7.0->eegvis==0.3.1) (0.15.0)\n",
            "Requirement already satisfied: jupyter-core>=4.4.0 in /usr/local/lib/python3.7/dist-packages (from notebook>=4.4.1->widgetsnbextension~=3.6.0->ipywidgets>=7.0->eegvis==0.3.1) (4.11.2)\n",
            "Requirement already satisfied: pyzmq>=17 in /usr/local/lib/python3.7/dist-packages (from notebook>=4.4.1->widgetsnbextension~=3.6.0->ipywidgets>=7.0->eegvis==0.3.1) (23.2.1)\n",
            "Requirement already satisfied: Send2Trash in /usr/local/lib/python3.7/dist-packages (from notebook>=4.4.1->widgetsnbextension~=3.6.0->ipywidgets>=7.0->eegvis==0.3.1) (1.8.0)\n",
            "Requirement already satisfied: bleach in /usr/local/lib/python3.7/dist-packages (from nbconvert<6.0->notebook>=4.4.1->widgetsnbextension~=3.6.0->ipywidgets>=7.0->eegvis==0.3.1) (5.0.1)\n",
            "Requirement already satisfied: mistune<2,>=0.8.1 in /usr/local/lib/python3.7/dist-packages (from nbconvert<6.0->notebook>=4.4.1->widgetsnbextension~=3.6.0->ipywidgets>=7.0->eegvis==0.3.1) (0.8.4)\n",
            "Requirement already satisfied: entrypoints>=0.2.2 in /usr/local/lib/python3.7/dist-packages (from nbconvert<6.0->notebook>=4.4.1->widgetsnbextension~=3.6.0->ipywidgets>=7.0->eegvis==0.3.1) (0.4)\n",
            "Requirement already satisfied: testpath in /usr/local/lib/python3.7/dist-packages (from nbconvert<6.0->notebook>=4.4.1->widgetsnbextension~=3.6.0->ipywidgets>=7.0->eegvis==0.3.1) (0.6.0)\n",
            "Requirement already satisfied: defusedxml in /usr/local/lib/python3.7/dist-packages (from nbconvert<6.0->notebook>=4.4.1->widgetsnbextension~=3.6.0->ipywidgets>=7.0->eegvis==0.3.1) (0.7.1)\n",
            "Requirement already satisfied: pandocfilters>=1.4.1 in /usr/local/lib/python3.7/dist-packages (from nbconvert<6.0->notebook>=4.4.1->widgetsnbextension~=3.6.0->ipywidgets>=7.0->eegvis==0.3.1) (1.5.0)\n",
            "Requirement already satisfied: jsonschema>=2.6 in /usr/local/lib/python3.7/dist-packages (from nbformat->notebook>=4.4.1->widgetsnbextension~=3.6.0->ipywidgets>=7.0->eegvis==0.3.1) (4.3.3)\n",
            "Requirement already satisfied: importlib-metadata>=3.6 in /usr/local/lib/python3.7/dist-packages (from nbformat->notebook>=4.4.1->widgetsnbextension~=3.6.0->ipywidgets>=7.0->eegvis==0.3.1) (4.13.0)\n",
            "Requirement already satisfied: fastjsonschema in /usr/local/lib/python3.7/dist-packages (from nbformat->notebook>=4.4.1->widgetsnbextension~=3.6.0->ipywidgets>=7.0->eegvis==0.3.1) (2.16.2)\n",
            "Requirement already satisfied: zipp>=0.5 in /usr/local/lib/python3.7/dist-packages (from importlib-metadata>=3.6->nbformat->notebook>=4.4.1->widgetsnbextension~=3.6.0->ipywidgets>=7.0->eegvis==0.3.1) (3.10.0)\n",
            "Requirement already satisfied: attrs>=17.4.0 in /usr/local/lib/python3.7/dist-packages (from jsonschema>=2.6->nbformat->notebook>=4.4.1->widgetsnbextension~=3.6.0->ipywidgets>=7.0->eegvis==0.3.1) (22.1.0)\n",
            "Requirement already satisfied: importlib-resources>=1.4.0 in /usr/local/lib/python3.7/dist-packages (from jsonschema>=2.6->nbformat->notebook>=4.4.1->widgetsnbextension~=3.6.0->ipywidgets>=7.0->eegvis==0.3.1) (5.10.0)\n",
            "Requirement already satisfied: pyrsistent!=0.17.0,!=0.17.1,!=0.17.2,>=0.14.0 in /usr/local/lib/python3.7/dist-packages (from jsonschema>=2.6->nbformat->notebook>=4.4.1->widgetsnbextension~=3.6.0->ipywidgets>=7.0->eegvis==0.3.1) (0.19.2)\n",
            "Requirement already satisfied: ptyprocess in /usr/local/lib/python3.7/dist-packages (from terminado>=0.8.1->notebook>=4.4.1->widgetsnbextension~=3.6.0->ipywidgets>=7.0->eegvis==0.3.1) (0.7.0)\n",
            "Requirement already satisfied: webencodings in /usr/local/lib/python3.7/dist-packages (from bleach->nbconvert<6.0->notebook>=4.4.1->widgetsnbextension~=3.6.0->ipywidgets>=7.0->eegvis==0.3.1) (0.5.1)\n",
            "Requirement already satisfied: markdown in /usr/local/lib/python3.7/dist-packages (from panel->eegvis==0.3.1) (3.4.1)\n",
            "Requirement already satisfied: param>=1.10.0 in /usr/local/lib/python3.7/dist-packages (from panel->eegvis==0.3.1) (1.12.2)\n",
            "Requirement already satisfied: pyct>=0.4.4 in /usr/local/lib/python3.7/dist-packages (from panel->eegvis==0.3.1) (0.4.8)\n",
            "Requirement already satisfied: requests in /usr/local/lib/python3.7/dist-packages (from panel->eegvis==0.3.1) (2.23.0)\n",
            "Requirement already satisfied: tqdm>=4.48.0 in /usr/local/lib/python3.7/dist-packages (from panel->eegvis==0.3.1) (4.64.1)\n",
            "Requirement already satisfied: pyviz-comms>=0.7.4 in /usr/local/lib/python3.7/dist-packages (from panel->eegvis==0.3.1) (2.2.1)\n",
            "Requirement already satisfied: certifi>=2017.4.17 in /usr/local/lib/python3.7/dist-packages (from requests->panel->eegvis==0.3.1) (2022.9.24)\n",
            "Requirement already satisfied: chardet<4,>=3.0.2 in /usr/local/lib/python3.7/dist-packages (from requests->panel->eegvis==0.3.1) (3.0.4)\n",
            "Requirement already satisfied: urllib3!=1.25.0,!=1.25.1,<1.26,>=1.21.1 in /usr/local/lib/python3.7/dist-packages (from requests->panel->eegvis==0.3.1) (1.24.3)\n",
            "Requirement already satisfied: idna<3,>=2.5 in /usr/local/lib/python3.7/dist-packages (from requests->panel->eegvis==0.3.1) (2.10)\n",
            "Requirement already satisfied: pandas>=1.1 in /usr/local/lib/python3.7/dist-packages (from xarray->eegvis==0.3.1) (1.3.5)\n",
            "Requirement already satisfied: pytz>=2017.3 in /usr/local/lib/python3.7/dist-packages (from pandas>=1.1->xarray->eegvis==0.3.1) (2022.6)\n",
            "Looking in indexes: https://pypi.org/simple, https://us-python.pkg.dev/colab-wheels/public/simple/\n",
            "Collecting mne_features\n",
            "  Downloading mne-features-0.2.1.tar.gz (40 kB)\n",
            "\u001b[K     |████████████████████████████████| 40 kB 3.1 MB/s \n",
            "\u001b[?25hRequirement already satisfied: numpy in /usr/local/lib/python3.7/dist-packages (from mne_features) (1.21.6)\n",
            "Requirement already satisfied: scipy in /usr/local/lib/python3.7/dist-packages (from mne_features) (1.7.3)\n",
            "Requirement already satisfied: numba in /usr/local/lib/python3.7/dist-packages (from mne_features) (0.56.4)\n",
            "Requirement already satisfied: scikit-learn in /usr/local/lib/python3.7/dist-packages (from mne_features) (1.0.2)\n",
            "Collecting mne\n",
            "  Downloading mne-1.2.2-py3-none-any.whl (7.6 MB)\n",
            "\u001b[K     |████████████████████████████████| 7.6 MB 6.8 MB/s \n",
            "\u001b[?25hRequirement already satisfied: PyWavelets in /usr/local/lib/python3.7/dist-packages (from mne_features) (1.3.0)\n",
            "Requirement already satisfied: pandas in /usr/local/lib/python3.7/dist-packages (from mne_features) (1.3.5)\n",
            "Requirement already satisfied: pooch>=1.5 in /usr/local/lib/python3.7/dist-packages (from mne->mne_features) (1.6.0)\n",
            "Requirement already satisfied: decorator in /usr/local/lib/python3.7/dist-packages (from mne->mne_features) (4.4.2)\n",
            "Requirement already satisfied: tqdm in /usr/local/lib/python3.7/dist-packages (from mne->mne_features) (4.64.1)\n",
            "Requirement already satisfied: packaging in /usr/local/lib/python3.7/dist-packages (from mne->mne_features) (21.3)\n",
            "Requirement already satisfied: jinja2 in /usr/local/lib/python3.7/dist-packages (from mne->mne_features) (2.11.3)\n",
            "Requirement already satisfied: matplotlib in /usr/local/lib/python3.7/dist-packages (from mne->mne_features) (3.2.2)\n",
            "Requirement already satisfied: appdirs>=1.3.0 in /usr/local/lib/python3.7/dist-packages (from pooch>=1.5->mne->mne_features) (1.4.4)\n",
            "Requirement already satisfied: requests>=2.19.0 in /usr/local/lib/python3.7/dist-packages (from pooch>=1.5->mne->mne_features) (2.23.0)\n",
            "Requirement already satisfied: pyparsing!=3.0.5,>=2.0.2 in /usr/local/lib/python3.7/dist-packages (from packaging->mne->mne_features) (3.0.9)\n",
            "Requirement already satisfied: certifi>=2017.4.17 in /usr/local/lib/python3.7/dist-packages (from requests>=2.19.0->pooch>=1.5->mne->mne_features) (2022.9.24)\n",
            "Requirement already satisfied: urllib3!=1.25.0,!=1.25.1,<1.26,>=1.21.1 in /usr/local/lib/python3.7/dist-packages (from requests>=2.19.0->pooch>=1.5->mne->mne_features) (1.24.3)\n",
            "Requirement already satisfied: chardet<4,>=3.0.2 in /usr/local/lib/python3.7/dist-packages (from requests>=2.19.0->pooch>=1.5->mne->mne_features) (3.0.4)\n",
            "Requirement already satisfied: idna<3,>=2.5 in /usr/local/lib/python3.7/dist-packages (from requests>=2.19.0->pooch>=1.5->mne->mne_features) (2.10)\n",
            "Requirement already satisfied: MarkupSafe>=0.23 in /usr/local/lib/python3.7/dist-packages (from jinja2->mne->mne_features) (2.0.1)\n",
            "Requirement already satisfied: cycler>=0.10 in /usr/local/lib/python3.7/dist-packages (from matplotlib->mne->mne_features) (0.11.0)\n",
            "Requirement already satisfied: kiwisolver>=1.0.1 in /usr/local/lib/python3.7/dist-packages (from matplotlib->mne->mne_features) (1.4.4)\n",
            "Requirement already satisfied: python-dateutil>=2.1 in /usr/local/lib/python3.7/dist-packages (from matplotlib->mne->mne_features) (2.8.2)\n",
            "Requirement already satisfied: typing-extensions in /usr/local/lib/python3.7/dist-packages (from kiwisolver>=1.0.1->matplotlib->mne->mne_features) (4.1.1)\n",
            "Requirement already satisfied: six>=1.5 in /usr/local/lib/python3.7/dist-packages (from python-dateutil>=2.1->matplotlib->mne->mne_features) (1.15.0)\n",
            "Requirement already satisfied: setuptools in /usr/local/lib/python3.7/dist-packages (from numba->mne_features) (57.4.0)\n",
            "Requirement already satisfied: importlib-metadata in /usr/local/lib/python3.7/dist-packages (from numba->mne_features) (4.13.0)\n",
            "Requirement already satisfied: llvmlite<0.40,>=0.39.0dev0 in /usr/local/lib/python3.7/dist-packages (from numba->mne_features) (0.39.1)\n",
            "Requirement already satisfied: zipp>=0.5 in /usr/local/lib/python3.7/dist-packages (from importlib-metadata->numba->mne_features) (3.10.0)\n",
            "Requirement already satisfied: pytz>=2017.3 in /usr/local/lib/python3.7/dist-packages (from pandas->mne_features) (2022.6)\n",
            "Requirement already satisfied: threadpoolctl>=2.0.0 in /usr/local/lib/python3.7/dist-packages (from scikit-learn->mne_features) (3.1.0)\n",
            "Requirement already satisfied: joblib>=0.11 in /usr/local/lib/python3.7/dist-packages (from scikit-learn->mne_features) (1.2.0)\n",
            "Building wheels for collected packages: mne-features\n",
            "  Building wheel for mne-features (setup.py) ... \u001b[?25l\u001b[?25hdone\n",
            "  Created wheel for mne-features: filename=mne_features-0.2.1-py3-none-any.whl size=26788 sha256=716110ed303233a1b1ddfa2545b3d61bbf0121527d04b102688a178dd1d636bb\n",
            "  Stored in directory: /root/.cache/pip/wheels/77/a2/a7/b7800156c143a8ddfeed5d6f52d392c4ce9af0985d77e7acc0\n",
            "Successfully built mne-features\n",
            "Installing collected packages: mne, mne-features\n"
          ]
        }
      ]
    },
    {
      "cell_type": "code",
      "source": [
        "!pip install dynaconf"
      ],
      "metadata": {
        "id": "IBO3BAuPcrJq"
      },
      "id": "IBO3BAuPcrJq",
      "execution_count": null,
      "outputs": []
    },
    {
      "cell_type": "code",
      "execution_count": null,
      "id": "8aa171c1",
      "metadata": {
        "lines_to_next_cell": 2,
        "id": "8aa171c1"
      },
      "outputs": [],
      "source": [
        "# to convert to notebook:  pip install jupytext; jupytext --to ipynb demo-slideshow2.py\n",
        "# to sync: jupytext --sync demo-slideshow2.ipynb\n",
        "import eegvis, eegvis.utils\n",
        "# visualization inside the notebook\n",
        "import eegvis.stacklineplot as eslp\n",
        "import eegvis.stacklineplot as eslt\n",
        "import matplotlib.pyplot as plt\n",
        "import eegvis.montageview\n",
        "\n",
        "import eeghdf\n",
        "import numpy as np\n",
        "from numpy.random import default_rng\n",
        "nprng = default_rng(seed=42)\n",
        "\n",
        "import pickle\n",
        "import copy\n",
        "from sklearn.utils import resample\n",
        "import joblib, cloudpickle\n",
        "\n",
        "from dynaconf import Dynaconf\n",
        "\n",
        "settings = Dynaconf(\n",
        "    # envvar_prefix=\"EEGML\",\n",
        "    settings_files=[\"settings.toml\", \".secrets.toml\"],\n",
        "    environments=True,\n",
        "    load_dotenv=True,\n",
        ")\n",
        "\n",
        "\n",
        "\n",
        "from sklearn.metrics import (\n",
        "    confusion_matrix,\n",
        "    accuracy_score,\n",
        "    make_scorer,\n",
        "    precision_score,\n",
        "    recall_score,\n",
        ")\n",
        "import os\n",
        "import os.path as op\n",
        "\n",
        "import numpy as np\n",
        "import pandas as pd\n",
        "\n",
        "from sklearn.ensemble import RandomForestClassifier\n",
        "from sklearn.preprocessing import StandardScaler\n",
        "\n",
        "from sklearn.model_selection import (\n",
        "    StratifiedKFold,\n",
        "    cross_validate,\n",
        "    cross_val_score,\n",
        "    train_test_split,\n",
        ")\n",
        "from sklearn.pipeline import Pipeline\n",
        "\n",
        "from mne_features.feature_extraction import FeatureExtractor, extract_features\n",
        "\n",
        "from pathlib import Path\n",
        "\n",
        "\n",
        "\n",
        "def confusion_matrix_scorer(clf, X, y):\n",
        "    \"\"\"\n",
        "    >>> cv_results = cross_validate(svm, X, y, cv=5,\n",
        "    ...                             scoring=confusion_matrix_scorer)\n",
        "    >>> # Getting the test set true positive scores\n",
        "    >>> print(cv_results['test_tp'])\n",
        "    [10  9  8  7  8]\n",
        "    >>> # Getting the test set false negative scores\n",
        "    >>> print(cv_results['test_fn'])\n",
        "    [0 1 2 3 2]\n",
        "    \"\"\"\n",
        "    y_pred = clf.predict(X)\n",
        "    cm = confusion_matrix(y, y_pred)\n",
        "    return {\"tn\": cm[0, 0], \"fp\": cm[0, 1], \"fn\": cm[1, 0], \"tp\": cm[1, 1]}\n",
        "\n",
        "\n",
        "def multi_scorer(clf, X, y):\n",
        "    \"\"\"\n",
        "    >>> cv_results = cross_validate(svm, X, y, cv=5,\n",
        "    ...                             scoring=confusion_matrix_scorer)\n",
        "    >>> # Getting the test set true positive scores\n",
        "    >>> print(cv_results['test_tp'])\n",
        "    [10  9  8  7  8]\n",
        "    >>> # Getting the test set false negative scores\n",
        "    >>> print(cv_results['test_fn'])\n",
        "    [0 1 2 3 2]\n",
        "    \"\"\"\n",
        "    y_pred = clf.predict(X)\n",
        "    accuracy = accuracy_score(y, y_pred)\n",
        "    cm = confusion_matrix(y, y_pred)\n",
        "    precision = cm[1, 1] / (cm[1, 1] + cm[0, 1])  # TP/(TP+FP)\n",
        "    recall = cm[1, 1] / (cm[1, 1] + cm[1, 0])  # TP/(TP+FN)\n",
        "    return {\n",
        "        \"accuracy\": accuracy,\n",
        "        \"precision\": precision,\n",
        "        \"recall\": recall,\n",
        "        \"tn\": cm[0, 0],\n",
        "        \"fp\": cm[0, 1],\n",
        "        \"fn\": cm[1, 0],\n",
        "        \"tp\": cm[1, 1],\n",
        "    }\n",
        "\n",
        "\n",
        "def print_multi_scores(model, X, Y):\n",
        "    score_raw = multi_scorer(model, X, Y)\n",
        "    N = len(Y)\n",
        "    for kk, val in score_raw.items():\n",
        "        if kk not in [\"accuracy\", \"precision\", \"recall\"]:\n",
        "            print(f\"{kk}: {val} ({val/N:.2} fract of total)\")\n",
        "        else:\n",
        "            print(f\"{kk}: {val:.2}\")\n",
        "\n",
        "\n",
        "%load_ext autoreload\n",
        "%autoreload 2"
      ]
    },
    {
      "cell_type": "code",
      "execution_count": null,
      "id": "3c922777",
      "metadata": {
        "id": "3c922777"
      },
      "outputs": [],
      "source": [
        "eegvis.utils.wide_notebook()"
      ]
    },
    {
      "cell_type": "code",
      "source": [
        "from google.colab import drive\n",
        "drive.mount('/content/drive')\n",
        "\n",
        "#processing eegs\n",
        "eeg_path = '/content/drive/MyDrive/hdf'\n"
      ],
      "metadata": {
        "id": "rXCGg6IIiSMv"
      },
      "id": "rXCGg6IIiSMv",
      "execution_count": null,
      "outputs": []
    },
    {
      "cell_type": "code",
      "source": [
        "#import stevenson_processing as stvp\n"
      ],
      "metadata": {
        "id": "8yTZGtm6c4sN"
      },
      "id": "8yTZGtm6c4sN",
      "execution_count": null,
      "outputs": []
    },
    {
      "cell_type": "markdown",
      "id": "9bcb69c0",
      "metadata": {
        "id": "9bcb69c0"
      },
      "source": [
        "# EEGML Tools\n",
        "###  bringing electroencephalogram analysis into the modern era of machine learning\n",
        "\n",
        "**Khaled Saab, Chris Lee-Messer,\n",
        "Siyi Tang, Chris Re, and Daniel Rubin**\n",
        "<p>\n",
        "<em style=\"font-size:3.5rem\"> QIAI Lab </em> </p>\n"
      ]
    },
    {
      "cell_type": "markdown",
      "id": "6b706d42",
      "metadata": {
        "id": "6b706d42"
      },
      "source": [
        "# EEG images ongoing electrical brain activity\n",
        "<center><img src=\"./slideshow/eeg-source-image.png\"></center>"
      ]
    },
    {
      "cell_type": "markdown",
      "id": "9b5f5d58",
      "metadata": {
        "id": "9b5f5d58"
      },
      "source": [
        "<img src=\"./slideshow/spatio-temporal-eeg1.png\">"
      ]
    },
    {
      "cell_type": "markdown",
      "id": "39f7b693",
      "metadata": {
        "id": "39f7b693"
      },
      "source": [
        "<img src=\"./slideshow/spatio-temporal-eeg-trace.png\">"
      ]
    },
    {
      "cell_type": "markdown",
      "id": "ff6d39f0",
      "metadata": {
        "id": "ff6d39f0"
      },
      "source": [
        "# what is needed for typical ML \n",
        "\n",
        "### Need tools specialized to the EEG domain, that did not exist.\n",
        "- EEG Data is scatter across 2 dozen proprietary formats\n",
        "- Known standards EDF are inconsistently implemented"
      ]
    },
    {
      "cell_type": "code",
      "execution_count": null,
      "id": "49e73733",
      "metadata": {
        "id": "49e73733"
      },
      "outputs": [],
      "source": [
        "USE_ALL = True\n",
        "if USE_ALL:\n",
        "    selected_eegs = np.arange(1, 80)  # (1,80) for all of them\n",
        "    DATA_CACHES = {'x_data': 'x_data-12sPhys-all.pkl', \n",
        "    'x_mapping': 'x_mapping-12sPhys-all.pkl',\n",
        "    'model_unbal': 'model-unbal-all.pkl',\n",
        "    'model_bal': 'model-bal-all.pkl'}\n",
        "else:\n",
        "    selected_eegs = np.arange(1,20+1)\n",
        "    DATA_CACHES = {'x_data': 'x_data-12sPhys-20eegs.pkl',\n",
        "                   'x_mapping': 'x_mapping-12sPhys-20eegs.pkl',\n",
        "                   'model_unbal': 'model-unbal-20eegs.pkl',\n",
        "                   'model_bal' : 'model-bal-20eegs.pkl'}"
      ]
    },
    {
      "cell_type": "code",
      "source": [
        "import sys\n",
        "\n",
        "sys.path.append('/content/drive/MyDrive/hdf_practice/')\n",
        "print(sys.path)"
      ],
      "metadata": {
        "id": "iDDEQdck62uA"
      },
      "id": "iDDEQdck62uA",
      "execution_count": null,
      "outputs": []
    },
    {
      "cell_type": "code",
      "source": [
        "# %%\n",
        "#import /content/drive/MyDrive/hdf_practice/add_annotations_function.py\n",
        "#import add_annotations_function\n",
        "import pandas as pd\n",
        "import numpy as np\n",
        "import h5py\n",
        "import shutil\n",
        "import dateutil \n",
        "eeg_file_path='/content/drive/MyDrive/hdf/'\n",
        "eeg_annot_path='/content/drive/MyDrive/hdf_practice/juliaannotations/'\n",
        "start_eeg_num, end_eeg_num = 1,79\n",
        "eeg_columns_num = list(range(start_eeg_num,end_eeg_num+1)) # for all use list(range(1,79+1))\n",
        "eeg_columns_str = [str(ii) for ii in eeg_columns_num]\n",
        "dfa = pd.read_csv(eeg_file_path+'annotations_2017_A.csv', usecols=eeg_columns_str)\n",
        "dfb = pd.read_csv(eeg_file_path+'annotations_2017_B.csv', usecols=eeg_columns_str)\n",
        "dfc = pd.read_csv(eeg_file_path+'annotations_2017_C.csv', usecols=eeg_columns_str)\n",
        "clinical = pd.read_csv(eeg_file_path+'clinical_information.csv') # remember ID, subject and eeg num start at 1, so use iloc[eeg_num -1]"
      ],
      "metadata": {
        "id": "aOoq6-9j7UqW"
      },
      "id": "aOoq6-9j7UqW",
      "execution_count": null,
      "outputs": []
    },
    {
      "cell_type": "code",
      "source": [
        "eeg_file_path='/content/drive/MyDrive/hdf/'\n",
        "eeg_annot_path='/content/drive/MyDrive/hdf_practice/juliaannotations/'\n",
        "eeg_num =1\n",
        "shutil.copy(eeg_file_path+f\"eeg{eeg_num}.eeg.h5\", eeg_annot_path+f\"eeg{eeg_num}.annot.eeg.h5\") # !cp eeg{eeg_num}.eeg.h5 eeg{eeg_num}.annot.eeg.h5"
      ],
      "metadata": {
        "id": "Nfomxxq28M0K"
      },
      "id": "Nfomxxq28M0K",
      "execution_count": null,
      "outputs": []
    },
    {
      "cell_type": "code",
      "source": [
        "eeg_annot_path='/content/drive/MyDrive/hdf_practice/juliaannotations/'\n",
        "hf = h5py.File(eeg_annot_path+f'eeg{eeg_num}.annot.eeg.h5', 'r+')\n",
        "hf"
      ],
      "metadata": {
        "id": "t3qhW-ks8OoQ"
      },
      "id": "t3qhW-ks8OoQ",
      "execution_count": null,
      "outputs": []
    },
    {
      "cell_type": "code",
      "source": [
        "eeghdfs=[]\n",
        "annot=[]\n",
        "'''\n",
        "for eeg_num in range(start_eeg_num,end_eeg_num+1):\n",
        "  eeghdfs.append(eeg_file_path+f'eeg{eeg_num}.eeg.h5')\n",
        "  annot.append(eeg_annot_path+f'eeg{eeg_num}.annot.eeg.h5')\n",
        "'''\n",
        "\n",
        "for eeg_num in range(start_eeg_num,end_eeg_num+1):\n",
        "  EEGFILE=os.path.join(eeg_file_path, f\"eeg{eeg_num}.eeg.h5\")\n",
        "  ANNOT_EEGFILE=os.path.join(eeg_annot_path, f\"eeg{eeg_num}.annot.eeg.h5\")\n",
        "  \n",
        "  eeg = eeghdf.Eeghdf(EEGFILE)\n",
        "  samp_freq=eeg.sample_frequency\n",
        "\n",
        "  eeg_ANNOT = eeghdf.Eeghdf(ANNOT_EEGFILE)\n",
        "  samp_freq_ANNOT=eeg_ANNOT.sample_frequency\n",
        "  eeghdfs.append(eeg)\n",
        "  annot.append(eeg)\n",
        "\n",
        "file_name = eeghdfs[0].file_name"
      ],
      "metadata": {
        "id": "5C4uYQA98pv7"
      },
      "id": "5C4uYQA98pv7",
      "execution_count": null,
      "outputs": []
    },
    {
      "cell_type": "code",
      "source": [
        "print(eeghdfs)"
      ],
      "metadata": {
        "id": "o5ZDOeoA9kv4"
      },
      "id": "o5ZDOeoA9kv4",
      "execution_count": null,
      "outputs": []
    },
    {
      "cell_type": "code",
      "execution_count": null,
      "id": "f2fb0cee",
      "metadata": {
        "id": "f2fb0cee"
      },
      "outputs": [],
      "source": [
        "'''\n",
        "for eeg_num in range(start_eeg_num,end_eeg_num+1):\n",
        "  eeghdfs, annot = add_annotations_function.add_annotations(eeg_num)\n",
        "annot\n",
        "file_name = eeghdfs[0].file_name\n",
        "'''"
      ]
    },
    {
      "cell_type": "markdown",
      "id": "3bce6c90",
      "metadata": {
        "id": "3bce6c90"
      },
      "source": [
        "First need something like DICOM designed for ML"
      ]
    },
    {
      "cell_type": "code",
      "source": [
        "eeghdfs[0]"
      ],
      "metadata": {
        "id": "qmiNYviAAL7P"
      },
      "id": "qmiNYviAAL7P",
      "execution_count": null,
      "outputs": []
    },
    {
      "cell_type": "code",
      "execution_count": null,
      "id": "4f35b398",
      "metadata": {
        "id": "4f35b398"
      },
      "outputs": [],
      "source": [
        "import eeghdf \n",
        "hf = eeghdfs[0] # loaded \n",
        "s_freq = hf.sample_frequency\n",
        "f\"{Path(hf.file_name).name}, {hf.sample_frequency}\""
      ]
    },
    {
      "cell_type": "code",
      "execution_count": null,
      "id": "b8bc0aaa-73c2-4654-9536-b7ea5788765b",
      "metadata": {
        "id": "b8bc0aaa-73c2-4654-9536-b7ea5788765b"
      },
      "outputs": [],
      "source": [
        "hf.phys_signals.shape"
      ]
    },
    {
      "cell_type": "code",
      "execution_count": null,
      "id": "d28f5cfa",
      "metadata": {
        "lines_to_next_cell": 2,
        "id": "d28f5cfa"
      },
      "outputs": [],
      "source": [
        "# import eeg library for reading EEGs\n",
        "import eeghdf\n",
        "\n",
        "# load eeg file\n",
        "hf = eeghdf.Eeghdf(file_name)\n",
        "print(f\"EEG file: {hf.file_name}\\n\")\n",
        "\n",
        "# view EEG values\n",
        "print(f\"EEG values: {hf.phys_signals[5, 1000:1010]}\\n\")\n",
        "print(f\"Out of core access of 1.78-million-th sample: {hf.phys_signals[5,1780000:1780005]}\\n\")\n",
        "\n",
        "# view patient information\n",
        "print(f\"Patient info: {hf.patient}\")"
      ]
    },
    {
      "cell_type": "code",
      "execution_count": null,
      "id": "af268049",
      "metadata": {
        "id": "af268049"
      },
      "outputs": [],
      "source": [
        "vec = hf.phys_signals[5,1000:20000]\n",
        "np.sqrt( np.sum(vec*vec)/len(vec))"
      ]
    },
    {
      "cell_type": "code",
      "execution_count": null,
      "id": "8ccfa2c1",
      "metadata": {
        "id": "8ccfa2c1"
      },
      "outputs": [],
      "source": [
        "# labels are available each second for this dataset\n",
        "#list(hf.hdf['record-0/extensions/dense_seizure_annotations'].items()) #not for hdf .annot.eeg.h5"
      ]
    },
    {
      "cell_type": "markdown",
      "id": "460c4e9b",
      "metadata": {
        "id": "460c4e9b"
      },
      "source": [
        "### load and chop up EEGs for training"
      ]
    },
    {
      "cell_type": "code",
      "execution_count": null,
      "id": "dfd47378",
      "metadata": {
        "id": "dfd47378"
      },
      "outputs": [],
      "source": [
        "s_freq = int(hf.sample_frequency)\n",
        "selected_hdfs = [ef.hdf for ef in eeghdfs]\n",
        "seg_time = 12\n",
        "n_channels = 19\n",
        "sz_agree_criteria = 3\n",
        "whiten = False\n",
        "USE_CACHED_DATA = (\n",
        "    True and Path(DATA_CACHES[\"x_data\"]).is_file()\n",
        ")  # change this False->True if you want to use the cache\n",
        "\n",
        "if not USE_CACHED_DATA:\n",
        "    '''\n",
        "    x_data, mapping = stvp.process_stevenson_eeghdf_data(\n",
        "        eeghdfs,\n",
        "        s_freq=s_freq,\n",
        "        seg_time=seg_time,\n",
        "        n_channels=n_channels,\n",
        "        whiten=False,  # don't whiten the EEG, scale the features\n",
        "    )\n",
        "    '''\n",
        "    x_data, mapping = eeg(\n",
        "        eeghdfs,\n",
        "        s_freq=s_freq,\n",
        "        seg_time=seg_time,\n",
        "        n_channels=n_channels,\n",
        "        whiten=False,  # don't whiten the EEG, scale the features\n",
        "    )\n",
        "    # cache the result\n",
        "    with open(DATA_CACHES[\"x_data\"], \"wb+\") as fp:\n",
        "        pickle.dump(x_data, fp)\n",
        "    with open(DATA_CACHES[\"x_mapping\"], \"wb+\") as fp:\n",
        "        pickle.dump(mapping, fp)\n",
        "else:  # use the cached data\n",
        "    with open(DATA_CACHES[\"x_data\"], \"rb\") as fp:\n",
        "        x_data = pickle.load(fp)\n",
        "    with open(DATA_CACHES[\"x_mapping\"], \"rb\") as fp:\n",
        "        mapping = pickle.load(fp)\n",
        "# mapping array is array of string arrays [filename, start_sec,end_sec]"
      ]
    },
    {
      "cell_type": "code",
      "execution_count": null,
      "id": "45c09a50",
      "metadata": {
        "id": "45c09a50"
      },
      "outputs": [],
      "source": [
        "\n",
        "ylabels = stvp.process_stevenson_labels(\n",
        "    annot, selected_eegs, sz_agree_criteria, seg_time\n",
        ")\n",
        "# data, ylabels, mapping = stvp.stevenson_eeg_preprocess(settings.EEGML_STEV_NEONATES) # load, whiten/zero-mean waveforms"
      ]
    },
    {
      "cell_type": "code",
      "execution_count": null,
      "id": "0f61f2ea",
      "metadata": {
        "id": "0f61f2ea"
      },
      "outputs": [],
      "source": [
        "data1 = x_data[0,:,:]"
      ]
    },
    {
      "cell_type": "code",
      "execution_count": null,
      "id": "d7feb2ff",
      "metadata": {
        "id": "d7feb2ff"
      },
      "outputs": [],
      "source": [
        "len(data1[5,:])"
      ]
    },
    {
      "cell_type": "code",
      "execution_count": null,
      "id": "c2833fef",
      "metadata": {
        "id": "c2833fef"
      },
      "outputs": [],
      "source": [
        "x_data.shape, ylabels.shape"
      ]
    },
    {
      "cell_type": "code",
      "execution_count": null,
      "id": "0079adb1",
      "metadata": {
        "id": "0079adb1"
      },
      "outputs": [],
      "source": [
        "#['app_entropy', 'decorr_time', 'energy_freq_bands', 'higuchi_fd', 'hjorth_complexity', 'hjorth_complexity_spect',\n",
        "# 'hjorth_mobility', 'hjorth_mobility_spect', 'hurst_exp', 'katz_fd', 'kurtosis', 'line_length', 'mean', \n",
        "# 'pow_freq_bands', 'ptp_amp', 'quantile', 'rms', 'samp_entropy', 'skewness', 'spect_edge_freq', 'spect_entropy',\n",
        "# 'spect_slope', 'std', 'svd_entropy', 'svd_fisher_info', 'teager_kaiser_energy', 'variance', \n",
        "# 'wavelet_coef_energy', 'zero_crossings', 'max_cross_corr', 'nonlin_interdep', 'phase_lock_val', 'spect_corr', \n",
        "# 'time_corr']\n",
        "# selected_funcs = [\"mean\", \"std\", \"ptp_amp\", 'line_length' ] # features to use\n",
        "selected_funcs = [\n",
        "#   \"decorr_time\",\n",
        "#   \"energy_freq_bands\",\n",
        "#   \"hjorth_complexity\",\n",
        "#   \"hjorth_complexity_spect\",\n",
        "#   \"hjorth_mobility\",\n",
        "#   \"hjorth_mobility_spect\",\n",
        "#   \"katz_fd\",\n",
        "    \"kurtosis\",\n",
        "#    \"line_length\",\n",
        "    \"pow_freq_bands\",\n",
        "    \"ptp_amp\",\n",
        "    \"skewness\",\n",
        "#    \"spect_edge_freq\",\n",
        "#    \"spect_entropy\",\n",
        "#    \"spect_slope\",\n",
        "#    \"std\",\n",
        " #   \"teager_kaiser_energy\",\n",
        " #   \"variance\",\n",
        " #   \"wavelet_coef_energy\",\n",
        " #   \"zero_crossings\",\n",
        "]\n",
        "# data_features = extract_features(x_data, sfreq=s_freq, selected_funcs=selected_funcs) # if wanted to extract features separately from pipeline"
      ]
    },
    {
      "cell_type": "code",
      "execution_count": null,
      "id": "f132dd6e",
      "metadata": {
        "id": "f132dd6e"
      },
      "outputs": [],
      "source": [
        "# split train/test\n",
        "X_train, X_test, y_train, y_test = train_test_split(x_data, ylabels, test_size=0.2)"
      ]
    },
    {
      "cell_type": "markdown",
      "id": "30a54e10",
      "metadata": {
        "id": "30a54e10"
      },
      "source": [
        "### Build a model using loaded eeg data"
      ]
    },
    {
      "cell_type": "code",
      "execution_count": null,
      "id": "7462f6f5",
      "metadata": {
        "id": "7462f6f5"
      },
      "outputs": [],
      "source": [
        "# if need to used cached model instead of training\n",
        "if Path(DATA_CACHES['model_unbal']).is_file():\n",
        "    model_pipe = joblib.load(DATA_CACHES['model_unbal'])"
      ]
    },
    {
      "cell_type": "code",
      "execution_count": null,
      "id": "67d9669b",
      "metadata": {
        "id": "67d9669b"
      },
      "outputs": [],
      "source": [
        "model_pipe = Pipeline(\n",
        "    [   # excluding data augmentation step here\n",
        "        (\"fe\", FeatureExtractor(sfreq=s_freq, selected_funcs=selected_funcs)),\n",
        "        (\"scaler\", StandardScaler()),\n",
        "        (\"clf\", RandomForestClassifier(n_estimators=100, max_depth=4)),\n",
        "    ]\n",
        ")\n",
        "\n",
        "model_pipe.fit(X_train, y_train)"
      ]
    },
    {
      "cell_type": "code",
      "execution_count": null,
      "id": "2470e160",
      "metadata": {
        "lines_to_next_cell": 2,
        "id": "2470e160"
      },
      "outputs": [],
      "source": [
        "print(\"training scores\")\n",
        "print_multi_scores(model_pipe, X_train, y_train)"
      ]
    },
    {
      "cell_type": "code",
      "execution_count": null,
      "id": "e2295b70",
      "metadata": {
        "id": "e2295b70"
      },
      "outputs": [],
      "source": [
        "print(\"test-scores\")\n",
        "print_multi_scores(model_pipe, X_test, y_test)"
      ]
    },
    {
      "cell_type": "code",
      "execution_count": null,
      "id": "13a7ab13",
      "metadata": {
        "id": "13a7ab13"
      },
      "outputs": [],
      "source": [
        "# if need to used cached model instead of training\n",
        "if Path(DATA_CACHES['model_bal']).is_file():\n",
        "    model_bal = joblib.load(DATA_CACHES['model_bal'])"
      ]
    },
    {
      "cell_type": "markdown",
      "id": "782ccc95",
      "metadata": {
        "id": "782ccc95"
      },
      "source": [
        "### Build a model using processed eeg data (naively balanced, omitting augmentation)"
      ]
    },
    {
      "cell_type": "code",
      "execution_count": null,
      "id": "528d5bb5",
      "metadata": {
        "id": "528d5bb5"
      },
      "outputs": [],
      "source": [
        "model_bal = Pipeline(\n",
        "    [\n",
        "        (\"fe\", FeatureExtractor(sfreq=s_freq, selected_funcs=selected_funcs)),\n",
        "        (\"scaler\", StandardScaler()),\n",
        "        (\"clf\", RandomForestClassifier(n_estimators=100, max_depth=4)),\n",
        "    ]\n",
        ")\n",
        "\n",
        "X_oversampled, y_oversampled = resample(\n",
        "    X_train[y_train == 0],\n",
        "    y_train[y_train == 0],\n",
        "    replace=True,\n",
        "    n_samples=X_train[y_train == 1].shape[0],\n",
        "    random_state=123321,\n",
        ")\n",
        "#\n",
        "# Append the oversampled minority class to training data and related labels\n",
        "#\n",
        "X_balanced = np.vstack((X_train[y_train == 1], X_oversampled))\n",
        "y_balanced = np.hstack((y_train[y_train == 1], y_oversampled))\n",
        "\n",
        "model_bal.fit(X_balanced, y_balanced)"
      ]
    },
    {
      "cell_type": "code",
      "execution_count": null,
      "id": "40735c9a",
      "metadata": {
        "id": "40735c9a"
      },
      "outputs": [],
      "source": [
        "# check that the dataset really is balanced now\n",
        "y_balanced.mean(), len(X_balanced), len(y_balanced)"
      ]
    },
    {
      "cell_type": "code",
      "execution_count": null,
      "id": "222b0cfe",
      "metadata": {
        "id": "222b0cfe"
      },
      "outputs": [],
      "source": [
        "if Path(DATA_CACHES['model_bal']).is_file(): model_bal = joblib.load(DATA_CACHES['model_bal'])"
      ]
    },
    {
      "cell_type": "markdown",
      "id": "ee35a1e8",
      "metadata": {
        "id": "ee35a1e8"
      },
      "source": [
        "### model performance for balanced dataset"
      ]
    },
    {
      "cell_type": "code",
      "execution_count": null,
      "id": "b6f6f329",
      "metadata": {
        "id": "b6f6f329"
      },
      "outputs": [],
      "source": [
        "print(\"training scores (balanced data)\")\n",
        "print_multi_scores(model_bal, X_balanced, y_balanced)"
      ]
    },
    {
      "cell_type": "code",
      "execution_count": null,
      "id": "8ba39aff",
      "metadata": {
        "id": "8ba39aff"
      },
      "outputs": [],
      "source": [
        "print(\"original test-set scores for model trained with balanced data\")\n",
        "print_multi_scores(model_bal, X_test, y_test)"
      ]
    },
    {
      "cell_type": "code",
      "execution_count": null,
      "id": "0c4c4bcb",
      "metadata": {
        "id": "0c4c4bcb"
      },
      "outputs": [],
      "source": [
        "y_pred_all = model_bal.predict(x_data)"
      ]
    },
    {
      "cell_type": "code",
      "execution_count": null,
      "id": "f08ac6be",
      "metadata": {
        "id": "f08ac6be"
      },
      "outputs": [],
      "source": [
        "clips_correct = x_data[y_pred_all == ylabels]\n",
        "clips_errors = x_data[y_pred_all != ylabels]"
      ]
    },
    {
      "cell_type": "code",
      "execution_count": null,
      "id": "ee22130a",
      "metadata": {
        "id": "ee22130a"
      },
      "outputs": [],
      "source": [
        "clips_errors_y_true = ylabels[y_pred_all != ylabels]\n",
        "clips_errors_y_pred = y_pred_all[y_pred_all != ylabels]"
      ]
    },
    {
      "cell_type": "code",
      "execution_count": null,
      "id": "6df71cc5",
      "metadata": {
        "id": "6df71cc5"
      },
      "outputs": [],
      "source": [
        "# next I want to show a smapling of the corrects an incorrects\n",
        "clips_correct.shape"
      ]
    },
    {
      "cell_type": "code",
      "execution_count": null,
      "id": "bc545cd7",
      "metadata": {
        "id": "bc545cd7"
      },
      "outputs": [],
      "source": [
        "clips_correct_y_true = ylabels[y_pred_all == ylabels]\n",
        "clips_correct_y_pred = y_pred_all[y_pred_all == ylabels]"
      ]
    },
    {
      "cell_type": "code",
      "execution_count": null,
      "id": "d17966f8",
      "metadata": {
        "id": "d17966f8"
      },
      "outputs": [],
      "source": [
        "X_train.shape"
      ]
    },
    {
      "cell_type": "code",
      "execution_count": null,
      "id": "d4c446a0",
      "metadata": {
        "id": "d4c446a0"
      },
      "outputs": [],
      "source": [
        "# correct = np.arange(20.0) # for testing\n",
        "# Get a random subsample of correct and incorrect EEG clips\n",
        "correct_picks = nprng.choice(clips_correct.shape[0], size=9, replace=False)\n",
        "error_picks = nprng.choice(clips_errors.shape[0], size=9, replace=False)\n",
        "correct_samples = clips_correct[correct_picks]\n",
        "correct_samples_ypred = clips_correct_y_pred[correct_picks]\n",
        "correct_samples_ytrue = clips_correct_y_true[correct_picks]\n",
        "error_samples = clips_errors[error_picks]\n",
        "error_samples_ypred = clips_errors_y_pred[error_picks]\n",
        "error_samples_ytrue = clips_errors_y_true[error_picks]"
      ]
    },
    {
      "cell_type": "code",
      "execution_count": null,
      "id": "acfedd78",
      "metadata": {
        "id": "acfedd78"
      },
      "outputs": [],
      "source": [
        "list(zip(error_samples_ytrue, error_samples_ypred))"
      ]
    },
    {
      "cell_type": "code",
      "execution_count": null,
      "id": "ea490d76",
      "metadata": {
        "id": "ea490d76"
      },
      "outputs": [],
      "source": [
        "list(zip(correct_samples_ytrue, correct_samples_ypred))"
      ]
    },
    {
      "cell_type": "code",
      "execution_count": null,
      "id": "f0d98345",
      "metadata": {
        "id": "f0d98345"
      },
      "outputs": [],
      "source": [
        "# check the variance of an error sample\n",
        "error_samples\n",
        "arr = error_samples[0]\n",
        "np.sqrt(np.mean(arr[5,:]*arr[5,:]))"
      ]
    },
    {
      "cell_type": "code",
      "execution_count": null,
      "id": "fc59688c",
      "metadata": {
        "id": "fc59688c"
      },
      "outputs": [],
      "source": [
        "arr[5,:]"
      ]
    },
    {
      "cell_type": "code",
      "execution_count": null,
      "id": "dfd6817c",
      "metadata": {
        "id": "dfd6817c"
      },
      "outputs": [],
      "source": []
    },
    {
      "cell_type": "markdown",
      "id": "b5ca3c7e",
      "metadata": {
        "id": "b5ca3c7e"
      },
      "source": [
        "## Need to be able to do in depth error analysis\n",
        "### Why is the precision bad?\n",
        "#### Look at the errors and correctly predicted data using EEG ML specific visualization"
      ]
    },
    {
      "cell_type": "code",
      "execution_count": null,
      "id": "68c3d2e6",
      "metadata": {
        "id": "68c3d2e6"
      },
      "outputs": [],
      "source": [
        "# try single plot\n",
        "montage_name = 'double banana'\n",
        "elabels = hf.shortcut_elabels[:19]\n",
        "if montage_name in eegvis.montageview.MONTAGE_BUILTINS:\n",
        "    montage_derivation = eegvis.montageview.MONTAGE_BUILTINS[montage_name](elabels)\n",
        "\n",
        "fig = plt.figure(figsize=(8,6))\n",
        "ax = fig.subplots(1,1)\n",
        "ii=0\n",
        "eeg_arr = correct_samples[ii]\n",
        "eslp.show_arr_as_montaged_eeg(eeg_arr, montage_derivation,fs=s_freq,ylabels=elabels,ax=ax,ysensitivity=15)\n",
        "    #faxs[ii].set_title(f\"y_true={error_samples_ytrue[ii]}, y_pred={error_samples_ypred[ii]}\")\n",
        "ax.set_title(f\"y_true={correct_samples_ytrue[ii]}, y_pred={correct_samples_ypred[ii]}\") \n",
        "eslp.add_relative_vertical_scalebar(ax, units='$\\mu$V')"
      ]
    },
    {
      "cell_type": "code",
      "execution_count": null,
      "id": "992f5eb0",
      "metadata": {
        "id": "992f5eb0"
      },
      "outputs": [],
      "source": [
        "elabels = hf.shortcut_elabels[:19]\n",
        "fig, axs = eslp.show_grid_arr_as_montaged_eeg(error_samples, s_freq, elabels, ytrues=error_samples_ytrue,ypreds=error_samples_ypred, ysensitivity=15.0)"
      ]
    },
    {
      "cell_type": "markdown",
      "id": "d301004f",
      "metadata": {
        "id": "d301004f"
      },
      "source": [
        "### Correct predictions"
      ]
    },
    {
      "cell_type": "code",
      "execution_count": null,
      "id": "b0ca7533",
      "metadata": {
        "id": "b0ca7533"
      },
      "outputs": [],
      "source": [
        "elabels = hf.shortcut_elabels[:19]\n",
        "fig, axs = eslp.show_grid_arr_as_montaged_eeg(correct_samples, s_freq, elabels, ytrues=correct_samples_ytrue,ypreds=correct_samples_ypred, ysensitivity=15.0)"
      ]
    },
    {
      "cell_type": "markdown",
      "id": "16f2af9f",
      "metadata": {
        "id": "16f2af9f"
      },
      "source": [
        "### if you need to focus in in more detail on a specific model and specific EEG"
      ]
    },
    {
      "cell_type": "code",
      "execution_count": null,
      "id": "38c2304a",
      "metadata": {
        "id": "38c2304a"
      },
      "outputs": [],
      "source": [
        "# uncomment below to show the demo \n",
        "\n",
        "%run eegvis-test-range-viewer.py\n",
        "gspec.show()"
      ]
    },
    {
      "cell_type": "markdown",
      "id": "f3463ea3",
      "metadata": {
        "id": "f3463ea3"
      },
      "source": [
        "### EEG ML tools built on top of:\n",
        "- hdf5 file format for storing eeg data: \n",
        "  - includes data integrity, compression, out-of-memory access, multiple readers, single-writer\n",
        "  - easy access on all major \n",
        "  - S3 read-only support\n",
        "- matplotlib, bokeh, panel : \n",
        "    - supports working in jupyter,vscode\n",
        "    - website\n",
        "    - wasm support added recently gives ability to run most/all code in browser"
      ]
    },
    {
      "cell_type": "markdown",
      "id": "a07b20c8",
      "metadata": {
        "id": "a07b20c8"
      },
      "source": [
        "### Thanks\n",
        "#### Visit us at the demo table!\n",
        "\n",
        "\n",
        "### Acknowledgements\n",
        "\n",
        "These tools were inspired by many works in the lab\n",
        "\n",
        "We are excited by many directions to improve these tools\n",
        "- clinician annotation with AI assistance\n",
        "- active learning\n",
        "- confidence scores"
      ]
    },
    {
      "cell_type": "code",
      "execution_count": null,
      "id": "fae06499",
      "metadata": {
        "id": "fae06499"
      },
      "outputs": [],
      "source": []
    },
    {
      "cell_type": "markdown",
      "id": "27db4360",
      "metadata": {
        "id": "27db4360"
      },
      "source": [
        "## Model Caching code"
      ]
    },
    {
      "cell_type": "code",
      "execution_count": null,
      "id": "af697dad",
      "metadata": {
        "id": "af697dad"
      },
      "outputs": [],
      "source": [
        "\n",
        "if False: # change to True when you want to cache a model \n",
        "    # cloudpickle/dill not required given using packaged models\n",
        "    with open(DATA_CACHES['model_unbal']+'.cloudpickle', 'wb+') as fp: cloudpickle.dump(model_pipe, fp)\n",
        "    with open(DATA_CACHES['model_bal']+'.cloudpickle', 'wb+') as fp: cloudpickle.dump(model_bal, fp)\n",
        "    joblib.dump(model_pipe, DATA_CACHES['model_unbal'])\n",
        "    joblib.dump(model_bal, DATA_CACHES['model_bal'])"
      ]
    },
    {
      "cell_type": "markdown",
      "id": "e38e70db",
      "metadata": {
        "id": "e38e70db"
      },
      "source": [
        "## Model load from cache\n"
      ]
    },
    {
      "cell_type": "code",
      "execution_count": null,
      "id": "b65ba03c",
      "metadata": {
        "id": "b65ba03c"
      },
      "outputs": [],
      "source": [
        "if False:\n",
        "    if Path(DATA_CACHES['model_unbal']).is_file():\n",
        "        model_pipe = joblib.load(DATA_CACHES['model_unbal'])\n",
        "\n",
        "    if Path(DATA_CACHES['model_bal']).is_file():\n",
        "        model_bal = joblib.load(DATA_CACHES['model_bal'])"
      ]
    },
    {
      "cell_type": "code",
      "execution_count": null,
      "id": "5fdb929e",
      "metadata": {
        "id": "5fdb929e"
      },
      "outputs": [],
      "source": []
    }
  ],
  "metadata": {
    "celltoolbar": "Slideshow",
    "jupytext": {
      "custom_cell_magics": "kql",
      "formats": "ipynb,py:percent"
    },
    "kernelspec": {
      "display_name": "eegmod",
      "language": "python",
      "name": "eegmod"
    },
    "language_info": {
      "codemirror_mode": {
        "name": "ipython",
        "version": 3
      },
      "file_extension": ".py",
      "mimetype": "text/x-python",
      "name": "python",
      "nbconvert_exporter": "python",
      "pygments_lexer": "ipython3",
      "version": "3.10.6"
    },
    "colab": {
      "provenance": [],
      "collapsed_sections": [
        "30a54e10",
        "782ccc95",
        "ee35a1e8",
        "d301004f",
        "16f2af9f",
        "f3463ea3",
        "a07b20c8"
      ],
      "include_colab_link": true
    }
  },
  "nbformat": 4,
  "nbformat_minor": 5
}