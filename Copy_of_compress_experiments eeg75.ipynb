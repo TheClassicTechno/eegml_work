{
  "cells": [
    {
      "cell_type": "markdown",
      "metadata": {
        "id": "view-in-github",
        "colab_type": "text"
      },
      "source": [
        "<a href=\"https://colab.research.google.com/github/TheClassicTechno/eegmlJH/blob/main/Copy_of_compress_experiments%20eeg75.ipynb\" target=\"_parent\"><img src=\"https://colab.research.google.com/assets/colab-badge.svg\" alt=\"Open In Colab\"/></a>"
      ]
    },
    {
      "cell_type": "code",
      "source": [
        "!pip install eeghdf\n",
        "\n",
        "!git clone https://github.com/eegml/eeghdf.git \n",
        "!cd eeghdf\n",
        "\n"
      ],
      "metadata": {
        "colab": {
          "base_uri": "https://localhost:8080/"
        },
        "id": "RcUnboGerHyK",
        "outputId": "0e8112e4-95d9-482c-a93e-a903c061977b"
      },
      "id": "RcUnboGerHyK",
      "execution_count": 1,
      "outputs": [
        {
          "output_type": "stream",
          "name": "stdout",
          "text": [
            "Looking in indexes: https://pypi.org/simple, https://us-python.pkg.dev/colab-wheels/public/simple/\n",
            "Collecting eeghdf\n",
            "  Downloading eeghdf-0.2.4-py3-none-any.whl (18 kB)\n",
            "Requirement already satisfied: pandas in /usr/local/lib/python3.7/dist-packages (from eeghdf) (1.3.5)\n",
            "Requirement already satisfied: h5py in /usr/local/lib/python3.7/dist-packages (from eeghdf) (3.1.0)\n",
            "Requirement already satisfied: future in /usr/local/lib/python3.7/dist-packages (from eeghdf) (0.16.0)\n",
            "Requirement already satisfied: numpy in /usr/local/lib/python3.7/dist-packages (from eeghdf) (1.21.6)\n",
            "Requirement already satisfied: cached-property in /usr/local/lib/python3.7/dist-packages (from h5py->eeghdf) (1.5.2)\n",
            "Requirement already satisfied: pytz>=2017.3 in /usr/local/lib/python3.7/dist-packages (from pandas->eeghdf) (2022.2.1)\n",
            "Requirement already satisfied: python-dateutil>=2.7.3 in /usr/local/lib/python3.7/dist-packages (from pandas->eeghdf) (2.8.2)\n",
            "Requirement already satisfied: six>=1.5 in /usr/local/lib/python3.7/dist-packages (from python-dateutil>=2.7.3->pandas->eeghdf) (1.15.0)\n",
            "Installing collected packages: eeghdf\n",
            "Successfully installed eeghdf-0.2.4\n",
            "Cloning into 'eeghdf'...\n",
            "remote: Enumerating objects: 640, done.\u001b[K\n",
            "remote: Counting objects: 100% (104/104), done.\u001b[K\n",
            "remote: Compressing objects: 100% (72/72), done.\u001b[K\n",
            "remote: Total 640 (delta 42), reused 77 (delta 29), pack-reused 536\u001b[K\n",
            "Receiving objects: 100% (640/640), 7.91 MiB | 13.83 MiB/s, done.\n",
            "Resolving deltas: 100% (328/328), done.\n"
          ]
        }
      ]
    },
    {
      "cell_type": "code",
      "source": [
        "%pip install ipywidgets \n",
        "%pip install widgetsnbextension\n",
        "\n"
      ],
      "metadata": {
        "colab": {
          "base_uri": "https://localhost:8080/"
        },
        "id": "tVY-D-yop7Es",
        "outputId": "04915213-494c-4833-900d-861e85470310"
      },
      "id": "tVY-D-yop7Es",
      "execution_count": 2,
      "outputs": [
        {
          "output_type": "stream",
          "name": "stdout",
          "text": [
            "Looking in indexes: https://pypi.org/simple, https://us-python.pkg.dev/colab-wheels/public/simple/\n",
            "Requirement already satisfied: ipywidgets in /usr/local/lib/python3.7/dist-packages (7.7.1)\n",
            "Requirement already satisfied: traitlets>=4.3.1 in /usr/local/lib/python3.7/dist-packages (from ipywidgets) (5.1.1)\n",
            "Requirement already satisfied: ipykernel>=4.5.1 in /usr/local/lib/python3.7/dist-packages (from ipywidgets) (5.3.4)\n",
            "Requirement already satisfied: widgetsnbextension~=3.6.0 in /usr/local/lib/python3.7/dist-packages (from ipywidgets) (3.6.1)\n",
            "Requirement already satisfied: jupyterlab-widgets>=1.0.0 in /usr/local/lib/python3.7/dist-packages (from ipywidgets) (3.0.2)\n",
            "Requirement already satisfied: ipython>=4.0.0 in /usr/local/lib/python3.7/dist-packages (from ipywidgets) (7.9.0)\n",
            "Requirement already satisfied: ipython-genutils~=0.2.0 in /usr/local/lib/python3.7/dist-packages (from ipywidgets) (0.2.0)\n",
            "Requirement already satisfied: tornado>=4.2 in /usr/local/lib/python3.7/dist-packages (from ipykernel>=4.5.1->ipywidgets) (5.1.1)\n",
            "Requirement already satisfied: jupyter-client in /usr/local/lib/python3.7/dist-packages (from ipykernel>=4.5.1->ipywidgets) (6.1.12)\n",
            "Requirement already satisfied: setuptools>=18.5 in /usr/local/lib/python3.7/dist-packages (from ipython>=4.0.0->ipywidgets) (57.4.0)\n",
            "Requirement already satisfied: prompt-toolkit<2.1.0,>=2.0.0 in /usr/local/lib/python3.7/dist-packages (from ipython>=4.0.0->ipywidgets) (2.0.10)\n",
            "Requirement already satisfied: pygments in /usr/local/lib/python3.7/dist-packages (from ipython>=4.0.0->ipywidgets) (2.6.1)\n",
            "Requirement already satisfied: pickleshare in /usr/local/lib/python3.7/dist-packages (from ipython>=4.0.0->ipywidgets) (0.7.5)\n",
            "Requirement already satisfied: pexpect in /usr/local/lib/python3.7/dist-packages (from ipython>=4.0.0->ipywidgets) (4.8.0)\n",
            "Requirement already satisfied: backcall in /usr/local/lib/python3.7/dist-packages (from ipython>=4.0.0->ipywidgets) (0.2.0)\n",
            "Collecting jedi>=0.10\n",
            "  Downloading jedi-0.18.1-py2.py3-none-any.whl (1.6 MB)\n",
            "\u001b[K     |████████████████████████████████| 1.6 MB 5.2 MB/s \n",
            "\u001b[?25hRequirement already satisfied: decorator in /usr/local/lib/python3.7/dist-packages (from ipython>=4.0.0->ipywidgets) (4.4.2)\n",
            "Requirement already satisfied: parso<0.9.0,>=0.8.0 in /usr/local/lib/python3.7/dist-packages (from jedi>=0.10->ipython>=4.0.0->ipywidgets) (0.8.3)\n",
            "Requirement already satisfied: wcwidth in /usr/local/lib/python3.7/dist-packages (from prompt-toolkit<2.1.0,>=2.0.0->ipython>=4.0.0->ipywidgets) (0.2.5)\n",
            "Requirement already satisfied: six>=1.9.0 in /usr/local/lib/python3.7/dist-packages (from prompt-toolkit<2.1.0,>=2.0.0->ipython>=4.0.0->ipywidgets) (1.15.0)\n",
            "Requirement already satisfied: notebook>=4.4.1 in /usr/local/lib/python3.7/dist-packages (from widgetsnbextension~=3.6.0->ipywidgets) (5.3.1)\n",
            "Requirement already satisfied: jupyter-core>=4.4.0 in /usr/local/lib/python3.7/dist-packages (from notebook>=4.4.1->widgetsnbextension~=3.6.0->ipywidgets) (4.11.1)\n",
            "Requirement already satisfied: Send2Trash in /usr/local/lib/python3.7/dist-packages (from notebook>=4.4.1->widgetsnbextension~=3.6.0->ipywidgets) (1.8.0)\n",
            "Requirement already satisfied: nbformat in /usr/local/lib/python3.7/dist-packages (from notebook>=4.4.1->widgetsnbextension~=3.6.0->ipywidgets) (5.4.0)\n",
            "Requirement already satisfied: terminado>=0.8.1 in /usr/local/lib/python3.7/dist-packages (from notebook>=4.4.1->widgetsnbextension~=3.6.0->ipywidgets) (0.13.3)\n",
            "Requirement already satisfied: jinja2 in /usr/local/lib/python3.7/dist-packages (from notebook>=4.4.1->widgetsnbextension~=3.6.0->ipywidgets) (2.11.3)\n",
            "Requirement already satisfied: nbconvert in /usr/local/lib/python3.7/dist-packages (from notebook>=4.4.1->widgetsnbextension~=3.6.0->ipywidgets) (5.6.1)\n",
            "Requirement already satisfied: pyzmq>=13 in /usr/local/lib/python3.7/dist-packages (from jupyter-client->ipykernel>=4.5.1->ipywidgets) (23.2.1)\n",
            "Requirement already satisfied: python-dateutil>=2.1 in /usr/local/lib/python3.7/dist-packages (from jupyter-client->ipykernel>=4.5.1->ipywidgets) (2.8.2)\n",
            "Requirement already satisfied: ptyprocess in /usr/local/lib/python3.7/dist-packages (from terminado>=0.8.1->notebook>=4.4.1->widgetsnbextension~=3.6.0->ipywidgets) (0.7.0)\n",
            "Requirement already satisfied: MarkupSafe>=0.23 in /usr/local/lib/python3.7/dist-packages (from jinja2->notebook>=4.4.1->widgetsnbextension~=3.6.0->ipywidgets) (2.0.1)\n",
            "Requirement already satisfied: entrypoints>=0.2.2 in /usr/local/lib/python3.7/dist-packages (from nbconvert->notebook>=4.4.1->widgetsnbextension~=3.6.0->ipywidgets) (0.4)\n",
            "Requirement already satisfied: defusedxml in /usr/local/lib/python3.7/dist-packages (from nbconvert->notebook>=4.4.1->widgetsnbextension~=3.6.0->ipywidgets) (0.7.1)\n",
            "Requirement already satisfied: bleach in /usr/local/lib/python3.7/dist-packages (from nbconvert->notebook>=4.4.1->widgetsnbextension~=3.6.0->ipywidgets) (5.0.1)\n",
            "Requirement already satisfied: mistune<2,>=0.8.1 in /usr/local/lib/python3.7/dist-packages (from nbconvert->notebook>=4.4.1->widgetsnbextension~=3.6.0->ipywidgets) (0.8.4)\n",
            "Requirement already satisfied: testpath in /usr/local/lib/python3.7/dist-packages (from nbconvert->notebook>=4.4.1->widgetsnbextension~=3.6.0->ipywidgets) (0.6.0)\n",
            "Requirement already satisfied: pandocfilters>=1.4.1 in /usr/local/lib/python3.7/dist-packages (from nbconvert->notebook>=4.4.1->widgetsnbextension~=3.6.0->ipywidgets) (1.5.0)\n",
            "Requirement already satisfied: jsonschema>=2.6 in /usr/local/lib/python3.7/dist-packages (from nbformat->notebook>=4.4.1->widgetsnbextension~=3.6.0->ipywidgets) (4.3.3)\n",
            "Requirement already satisfied: fastjsonschema in /usr/local/lib/python3.7/dist-packages (from nbformat->notebook>=4.4.1->widgetsnbextension~=3.6.0->ipywidgets) (2.16.1)\n",
            "Requirement already satisfied: importlib-resources>=1.4.0 in /usr/local/lib/python3.7/dist-packages (from jsonschema>=2.6->nbformat->notebook>=4.4.1->widgetsnbextension~=3.6.0->ipywidgets) (5.9.0)\n",
            "Requirement already satisfied: typing-extensions in /usr/local/lib/python3.7/dist-packages (from jsonschema>=2.6->nbformat->notebook>=4.4.1->widgetsnbextension~=3.6.0->ipywidgets) (4.1.1)\n",
            "Requirement already satisfied: attrs>=17.4.0 in /usr/local/lib/python3.7/dist-packages (from jsonschema>=2.6->nbformat->notebook>=4.4.1->widgetsnbextension~=3.6.0->ipywidgets) (22.1.0)\n",
            "Requirement already satisfied: pyrsistent!=0.17.0,!=0.17.1,!=0.17.2,>=0.14.0 in /usr/local/lib/python3.7/dist-packages (from jsonschema>=2.6->nbformat->notebook>=4.4.1->widgetsnbextension~=3.6.0->ipywidgets) (0.18.1)\n",
            "Requirement already satisfied: importlib-metadata in /usr/local/lib/python3.7/dist-packages (from jsonschema>=2.6->nbformat->notebook>=4.4.1->widgetsnbextension~=3.6.0->ipywidgets) (4.12.0)\n",
            "Requirement already satisfied: zipp>=3.1.0 in /usr/local/lib/python3.7/dist-packages (from importlib-resources>=1.4.0->jsonschema>=2.6->nbformat->notebook>=4.4.1->widgetsnbextension~=3.6.0->ipywidgets) (3.8.1)\n",
            "Requirement already satisfied: webencodings in /usr/local/lib/python3.7/dist-packages (from bleach->nbconvert->notebook>=4.4.1->widgetsnbextension~=3.6.0->ipywidgets) (0.5.1)\n",
            "Installing collected packages: jedi\n",
            "Successfully installed jedi-0.18.1\n",
            "Looking in indexes: https://pypi.org/simple, https://us-python.pkg.dev/colab-wheels/public/simple/\n",
            "Requirement already satisfied: widgetsnbextension in /usr/local/lib/python3.7/dist-packages (3.6.1)\n",
            "Requirement already satisfied: notebook>=4.4.1 in /usr/local/lib/python3.7/dist-packages (from widgetsnbextension) (5.3.1)\n",
            "Requirement already satisfied: traitlets>=4.2.1 in /usr/local/lib/python3.7/dist-packages (from notebook>=4.4.1->widgetsnbextension) (5.1.1)\n",
            "Requirement already satisfied: jinja2 in /usr/local/lib/python3.7/dist-packages (from notebook>=4.4.1->widgetsnbextension) (2.11.3)\n",
            "Requirement already satisfied: jupyter-core>=4.4.0 in /usr/local/lib/python3.7/dist-packages (from notebook>=4.4.1->widgetsnbextension) (4.11.1)\n",
            "Requirement already satisfied: jupyter-client>=5.2.0 in /usr/local/lib/python3.7/dist-packages (from notebook>=4.4.1->widgetsnbextension) (6.1.12)\n",
            "Requirement already satisfied: Send2Trash in /usr/local/lib/python3.7/dist-packages (from notebook>=4.4.1->widgetsnbextension) (1.8.0)\n",
            "Requirement already satisfied: nbformat in /usr/local/lib/python3.7/dist-packages (from notebook>=4.4.1->widgetsnbextension) (5.4.0)\n",
            "Requirement already satisfied: ipykernel in /usr/local/lib/python3.7/dist-packages (from notebook>=4.4.1->widgetsnbextension) (5.3.4)\n",
            "Requirement already satisfied: nbconvert in /usr/local/lib/python3.7/dist-packages (from notebook>=4.4.1->widgetsnbextension) (5.6.1)\n",
            "Requirement already satisfied: tornado>=4 in /usr/local/lib/python3.7/dist-packages (from notebook>=4.4.1->widgetsnbextension) (5.1.1)\n",
            "Requirement already satisfied: ipython-genutils in /usr/local/lib/python3.7/dist-packages (from notebook>=4.4.1->widgetsnbextension) (0.2.0)\n",
            "Requirement already satisfied: terminado>=0.8.1 in /usr/local/lib/python3.7/dist-packages (from notebook>=4.4.1->widgetsnbextension) (0.13.3)\n",
            "Requirement already satisfied: pyzmq>=13 in /usr/local/lib/python3.7/dist-packages (from jupyter-client>=5.2.0->notebook>=4.4.1->widgetsnbextension) (23.2.1)\n",
            "Requirement already satisfied: python-dateutil>=2.1 in /usr/local/lib/python3.7/dist-packages (from jupyter-client>=5.2.0->notebook>=4.4.1->widgetsnbextension) (2.8.2)\n",
            "Requirement already satisfied: six>=1.5 in /usr/local/lib/python3.7/dist-packages (from python-dateutil>=2.1->jupyter-client>=5.2.0->notebook>=4.4.1->widgetsnbextension) (1.15.0)\n",
            "Requirement already satisfied: ptyprocess in /usr/local/lib/python3.7/dist-packages (from terminado>=0.8.1->notebook>=4.4.1->widgetsnbextension) (0.7.0)\n",
            "Requirement already satisfied: ipython>=5.0.0 in /usr/local/lib/python3.7/dist-packages (from ipykernel->notebook>=4.4.1->widgetsnbextension) (7.9.0)\n",
            "Requirement already satisfied: jedi>=0.10 in /usr/local/lib/python3.7/dist-packages (from ipython>=5.0.0->ipykernel->notebook>=4.4.1->widgetsnbextension) (0.18.1)\n",
            "Requirement already satisfied: decorator in /usr/local/lib/python3.7/dist-packages (from ipython>=5.0.0->ipykernel->notebook>=4.4.1->widgetsnbextension) (4.4.2)\n",
            "Requirement already satisfied: backcall in /usr/local/lib/python3.7/dist-packages (from ipython>=5.0.0->ipykernel->notebook>=4.4.1->widgetsnbextension) (0.2.0)\n",
            "Requirement already satisfied: pexpect in /usr/local/lib/python3.7/dist-packages (from ipython>=5.0.0->ipykernel->notebook>=4.4.1->widgetsnbextension) (4.8.0)\n",
            "Requirement already satisfied: pickleshare in /usr/local/lib/python3.7/dist-packages (from ipython>=5.0.0->ipykernel->notebook>=4.4.1->widgetsnbextension) (0.7.5)\n",
            "Requirement already satisfied: pygments in /usr/local/lib/python3.7/dist-packages (from ipython>=5.0.0->ipykernel->notebook>=4.4.1->widgetsnbextension) (2.6.1)\n",
            "Requirement already satisfied: setuptools>=18.5 in /usr/local/lib/python3.7/dist-packages (from ipython>=5.0.0->ipykernel->notebook>=4.4.1->widgetsnbextension) (57.4.0)\n",
            "Requirement already satisfied: prompt-toolkit<2.1.0,>=2.0.0 in /usr/local/lib/python3.7/dist-packages (from ipython>=5.0.0->ipykernel->notebook>=4.4.1->widgetsnbextension) (2.0.10)\n",
            "Requirement already satisfied: parso<0.9.0,>=0.8.0 in /usr/local/lib/python3.7/dist-packages (from jedi>=0.10->ipython>=5.0.0->ipykernel->notebook>=4.4.1->widgetsnbextension) (0.8.3)\n",
            "Requirement already satisfied: wcwidth in /usr/local/lib/python3.7/dist-packages (from prompt-toolkit<2.1.0,>=2.0.0->ipython>=5.0.0->ipykernel->notebook>=4.4.1->widgetsnbextension) (0.2.5)\n",
            "Requirement already satisfied: MarkupSafe>=0.23 in /usr/local/lib/python3.7/dist-packages (from jinja2->notebook>=4.4.1->widgetsnbextension) (2.0.1)\n",
            "Requirement already satisfied: pandocfilters>=1.4.1 in /usr/local/lib/python3.7/dist-packages (from nbconvert->notebook>=4.4.1->widgetsnbextension) (1.5.0)\n",
            "Requirement already satisfied: entrypoints>=0.2.2 in /usr/local/lib/python3.7/dist-packages (from nbconvert->notebook>=4.4.1->widgetsnbextension) (0.4)\n",
            "Requirement already satisfied: mistune<2,>=0.8.1 in /usr/local/lib/python3.7/dist-packages (from nbconvert->notebook>=4.4.1->widgetsnbextension) (0.8.4)\n",
            "Requirement already satisfied: bleach in /usr/local/lib/python3.7/dist-packages (from nbconvert->notebook>=4.4.1->widgetsnbextension) (5.0.1)\n",
            "Requirement already satisfied: defusedxml in /usr/local/lib/python3.7/dist-packages (from nbconvert->notebook>=4.4.1->widgetsnbextension) (0.7.1)\n",
            "Requirement already satisfied: testpath in /usr/local/lib/python3.7/dist-packages (from nbconvert->notebook>=4.4.1->widgetsnbextension) (0.6.0)\n",
            "Requirement already satisfied: jsonschema>=2.6 in /usr/local/lib/python3.7/dist-packages (from nbformat->notebook>=4.4.1->widgetsnbextension) (4.3.3)\n",
            "Requirement already satisfied: fastjsonschema in /usr/local/lib/python3.7/dist-packages (from nbformat->notebook>=4.4.1->widgetsnbextension) (2.16.1)\n",
            "Requirement already satisfied: attrs>=17.4.0 in /usr/local/lib/python3.7/dist-packages (from jsonschema>=2.6->nbformat->notebook>=4.4.1->widgetsnbextension) (22.1.0)\n",
            "Requirement already satisfied: importlib-resources>=1.4.0 in /usr/local/lib/python3.7/dist-packages (from jsonschema>=2.6->nbformat->notebook>=4.4.1->widgetsnbextension) (5.9.0)\n",
            "Requirement already satisfied: typing-extensions in /usr/local/lib/python3.7/dist-packages (from jsonschema>=2.6->nbformat->notebook>=4.4.1->widgetsnbextension) (4.1.1)\n",
            "Requirement already satisfied: pyrsistent!=0.17.0,!=0.17.1,!=0.17.2,>=0.14.0 in /usr/local/lib/python3.7/dist-packages (from jsonschema>=2.6->nbformat->notebook>=4.4.1->widgetsnbextension) (0.18.1)\n",
            "Requirement already satisfied: importlib-metadata in /usr/local/lib/python3.7/dist-packages (from jsonschema>=2.6->nbformat->notebook>=4.4.1->widgetsnbextension) (4.12.0)\n",
            "Requirement already satisfied: zipp>=3.1.0 in /usr/local/lib/python3.7/dist-packages (from importlib-resources>=1.4.0->jsonschema>=2.6->nbformat->notebook>=4.4.1->widgetsnbextension) (3.8.1)\n",
            "Requirement already satisfied: webencodings in /usr/local/lib/python3.7/dist-packages (from bleach->nbconvert->notebook>=4.4.1->widgetsnbextension) (0.5.1)\n"
          ]
        }
      ]
    },
    {
      "cell_type": "code",
      "source": [
        "\n",
        "!pip install git+https://github.com/eegml/eegvis.git\n",
        "\n",
        "!git clone https://github.com/eegml/eegvis.git\n",
        "!cd eegvis"
      ],
      "metadata": {
        "colab": {
          "base_uri": "https://localhost:8080/"
        },
        "id": "ao3jKe93p-sC",
        "outputId": "547e9ceb-4a8c-48d6-d39e-d4ee51e7211f"
      },
      "id": "ao3jKe93p-sC",
      "execution_count": 3,
      "outputs": [
        {
          "output_type": "stream",
          "name": "stdout",
          "text": [
            "Looking in indexes: https://pypi.org/simple, https://us-python.pkg.dev/colab-wheels/public/simple/\n",
            "Collecting git+https://github.com/eegml/eegvis.git\n",
            "  Cloning https://github.com/eegml/eegvis.git to /tmp/pip-req-build-wkjpfsht\n",
            "  Running command git clone -q https://github.com/eegml/eegvis.git /tmp/pip-req-build-wkjpfsht\n",
            "Requirement already satisfied: xarray in /usr/local/lib/python3.7/dist-packages (from eegvis==0.2.1) (0.20.2)\n",
            "Requirement already satisfied: ipywidgets>=7.0 in /usr/local/lib/python3.7/dist-packages (from eegvis==0.2.1) (7.7.1)\n",
            "Requirement already satisfied: bokeh>=0.12.16 in /usr/local/lib/python3.7/dist-packages (from eegvis==0.2.1) (2.3.3)\n",
            "Requirement already satisfied: matplotlib in /usr/local/lib/python3.7/dist-packages (from eegvis==0.2.1) (3.2.2)\n",
            "Requirement already satisfied: eeghdf in /usr/local/lib/python3.7/dist-packages (from eegvis==0.2.1) (0.2.4)\n",
            "Requirement already satisfied: typing-extensions>=3.7.4 in /usr/local/lib/python3.7/dist-packages (from bokeh>=0.12.16->eegvis==0.2.1) (4.1.1)\n",
            "Requirement already satisfied: pillow>=7.1.0 in /usr/local/lib/python3.7/dist-packages (from bokeh>=0.12.16->eegvis==0.2.1) (7.1.2)\n",
            "Requirement already satisfied: python-dateutil>=2.1 in /usr/local/lib/python3.7/dist-packages (from bokeh>=0.12.16->eegvis==0.2.1) (2.8.2)\n",
            "Requirement already satisfied: Jinja2>=2.9 in /usr/local/lib/python3.7/dist-packages (from bokeh>=0.12.16->eegvis==0.2.1) (2.11.3)\n",
            "Requirement already satisfied: packaging>=16.8 in /usr/local/lib/python3.7/dist-packages (from bokeh>=0.12.16->eegvis==0.2.1) (21.3)\n",
            "Requirement already satisfied: PyYAML>=3.10 in /usr/local/lib/python3.7/dist-packages (from bokeh>=0.12.16->eegvis==0.2.1) (6.0)\n",
            "Requirement already satisfied: tornado>=5.1 in /usr/local/lib/python3.7/dist-packages (from bokeh>=0.12.16->eegvis==0.2.1) (5.1.1)\n",
            "Requirement already satisfied: numpy>=1.11.3 in /usr/local/lib/python3.7/dist-packages (from bokeh>=0.12.16->eegvis==0.2.1) (1.21.6)\n",
            "Requirement already satisfied: ipython-genutils~=0.2.0 in /usr/local/lib/python3.7/dist-packages (from ipywidgets>=7.0->eegvis==0.2.1) (0.2.0)\n",
            "Requirement already satisfied: widgetsnbextension~=3.6.0 in /usr/local/lib/python3.7/dist-packages (from ipywidgets>=7.0->eegvis==0.2.1) (3.6.1)\n",
            "Requirement already satisfied: traitlets>=4.3.1 in /usr/local/lib/python3.7/dist-packages (from ipywidgets>=7.0->eegvis==0.2.1) (5.1.1)\n",
            "Requirement already satisfied: ipykernel>=4.5.1 in /usr/local/lib/python3.7/dist-packages (from ipywidgets>=7.0->eegvis==0.2.1) (5.3.4)\n",
            "Requirement already satisfied: ipython>=4.0.0 in /usr/local/lib/python3.7/dist-packages (from ipywidgets>=7.0->eegvis==0.2.1) (7.9.0)\n",
            "Requirement already satisfied: jupyterlab-widgets>=1.0.0 in /usr/local/lib/python3.7/dist-packages (from ipywidgets>=7.0->eegvis==0.2.1) (3.0.2)\n",
            "Requirement already satisfied: jupyter-client in /usr/local/lib/python3.7/dist-packages (from ipykernel>=4.5.1->ipywidgets>=7.0->eegvis==0.2.1) (6.1.12)\n",
            "Requirement already satisfied: pickleshare in /usr/local/lib/python3.7/dist-packages (from ipython>=4.0.0->ipywidgets>=7.0->eegvis==0.2.1) (0.7.5)\n",
            "Requirement already satisfied: setuptools>=18.5 in /usr/local/lib/python3.7/dist-packages (from ipython>=4.0.0->ipywidgets>=7.0->eegvis==0.2.1) (57.4.0)\n",
            "Requirement already satisfied: pexpect in /usr/local/lib/python3.7/dist-packages (from ipython>=4.0.0->ipywidgets>=7.0->eegvis==0.2.1) (4.8.0)\n",
            "Requirement already satisfied: pygments in /usr/local/lib/python3.7/dist-packages (from ipython>=4.0.0->ipywidgets>=7.0->eegvis==0.2.1) (2.6.1)\n",
            "Requirement already satisfied: prompt-toolkit<2.1.0,>=2.0.0 in /usr/local/lib/python3.7/dist-packages (from ipython>=4.0.0->ipywidgets>=7.0->eegvis==0.2.1) (2.0.10)\n",
            "Requirement already satisfied: decorator in /usr/local/lib/python3.7/dist-packages (from ipython>=4.0.0->ipywidgets>=7.0->eegvis==0.2.1) (4.4.2)\n",
            "Requirement already satisfied: jedi>=0.10 in /usr/local/lib/python3.7/dist-packages (from ipython>=4.0.0->ipywidgets>=7.0->eegvis==0.2.1) (0.18.1)\n",
            "Requirement already satisfied: backcall in /usr/local/lib/python3.7/dist-packages (from ipython>=4.0.0->ipywidgets>=7.0->eegvis==0.2.1) (0.2.0)\n",
            "Requirement already satisfied: parso<0.9.0,>=0.8.0 in /usr/local/lib/python3.7/dist-packages (from jedi>=0.10->ipython>=4.0.0->ipywidgets>=7.0->eegvis==0.2.1) (0.8.3)\n",
            "Requirement already satisfied: MarkupSafe>=0.23 in /usr/local/lib/python3.7/dist-packages (from Jinja2>=2.9->bokeh>=0.12.16->eegvis==0.2.1) (2.0.1)\n",
            "Requirement already satisfied: pyparsing!=3.0.5,>=2.0.2 in /usr/local/lib/python3.7/dist-packages (from packaging>=16.8->bokeh>=0.12.16->eegvis==0.2.1) (3.0.9)\n",
            "Requirement already satisfied: six>=1.9.0 in /usr/local/lib/python3.7/dist-packages (from prompt-toolkit<2.1.0,>=2.0.0->ipython>=4.0.0->ipywidgets>=7.0->eegvis==0.2.1) (1.15.0)\n",
            "Requirement already satisfied: wcwidth in /usr/local/lib/python3.7/dist-packages (from prompt-toolkit<2.1.0,>=2.0.0->ipython>=4.0.0->ipywidgets>=7.0->eegvis==0.2.1) (0.2.5)\n",
            "Requirement already satisfied: notebook>=4.4.1 in /usr/local/lib/python3.7/dist-packages (from widgetsnbextension~=3.6.0->ipywidgets>=7.0->eegvis==0.2.1) (5.3.1)\n",
            "Requirement already satisfied: nbconvert in /usr/local/lib/python3.7/dist-packages (from notebook>=4.4.1->widgetsnbextension~=3.6.0->ipywidgets>=7.0->eegvis==0.2.1) (5.6.1)\n",
            "Requirement already satisfied: terminado>=0.8.1 in /usr/local/lib/python3.7/dist-packages (from notebook>=4.4.1->widgetsnbextension~=3.6.0->ipywidgets>=7.0->eegvis==0.2.1) (0.13.3)\n",
            "Requirement already satisfied: Send2Trash in /usr/local/lib/python3.7/dist-packages (from notebook>=4.4.1->widgetsnbextension~=3.6.0->ipywidgets>=7.0->eegvis==0.2.1) (1.8.0)\n",
            "Requirement already satisfied: nbformat in /usr/local/lib/python3.7/dist-packages (from notebook>=4.4.1->widgetsnbextension~=3.6.0->ipywidgets>=7.0->eegvis==0.2.1) (5.4.0)\n",
            "Requirement already satisfied: jupyter-core>=4.4.0 in /usr/local/lib/python3.7/dist-packages (from notebook>=4.4.1->widgetsnbextension~=3.6.0->ipywidgets>=7.0->eegvis==0.2.1) (4.11.1)\n",
            "Requirement already satisfied: pyzmq>=13 in /usr/local/lib/python3.7/dist-packages (from jupyter-client->ipykernel>=4.5.1->ipywidgets>=7.0->eegvis==0.2.1) (23.2.1)\n",
            "Requirement already satisfied: ptyprocess in /usr/local/lib/python3.7/dist-packages (from terminado>=0.8.1->notebook>=4.4.1->widgetsnbextension~=3.6.0->ipywidgets>=7.0->eegvis==0.2.1) (0.7.0)\n",
            "Requirement already satisfied: pandas in /usr/local/lib/python3.7/dist-packages (from eeghdf->eegvis==0.2.1) (1.3.5)\n",
            "Requirement already satisfied: h5py in /usr/local/lib/python3.7/dist-packages (from eeghdf->eegvis==0.2.1) (3.1.0)\n",
            "Requirement already satisfied: future in /usr/local/lib/python3.7/dist-packages (from eeghdf->eegvis==0.2.1) (0.16.0)\n",
            "Requirement already satisfied: cached-property in /usr/local/lib/python3.7/dist-packages (from h5py->eeghdf->eegvis==0.2.1) (1.5.2)\n",
            "Requirement already satisfied: kiwisolver>=1.0.1 in /usr/local/lib/python3.7/dist-packages (from matplotlib->eegvis==0.2.1) (1.4.4)\n",
            "Requirement already satisfied: cycler>=0.10 in /usr/local/lib/python3.7/dist-packages (from matplotlib->eegvis==0.2.1) (0.11.0)\n",
            "Requirement already satisfied: defusedxml in /usr/local/lib/python3.7/dist-packages (from nbconvert->notebook>=4.4.1->widgetsnbextension~=3.6.0->ipywidgets>=7.0->eegvis==0.2.1) (0.7.1)\n",
            "Requirement already satisfied: pandocfilters>=1.4.1 in /usr/local/lib/python3.7/dist-packages (from nbconvert->notebook>=4.4.1->widgetsnbextension~=3.6.0->ipywidgets>=7.0->eegvis==0.2.1) (1.5.0)\n",
            "Requirement already satisfied: entrypoints>=0.2.2 in /usr/local/lib/python3.7/dist-packages (from nbconvert->notebook>=4.4.1->widgetsnbextension~=3.6.0->ipywidgets>=7.0->eegvis==0.2.1) (0.4)\n",
            "Requirement already satisfied: mistune<2,>=0.8.1 in /usr/local/lib/python3.7/dist-packages (from nbconvert->notebook>=4.4.1->widgetsnbextension~=3.6.0->ipywidgets>=7.0->eegvis==0.2.1) (0.8.4)\n",
            "Requirement already satisfied: testpath in /usr/local/lib/python3.7/dist-packages (from nbconvert->notebook>=4.4.1->widgetsnbextension~=3.6.0->ipywidgets>=7.0->eegvis==0.2.1) (0.6.0)\n",
            "Requirement already satisfied: bleach in /usr/local/lib/python3.7/dist-packages (from nbconvert->notebook>=4.4.1->widgetsnbextension~=3.6.0->ipywidgets>=7.0->eegvis==0.2.1) (5.0.1)\n",
            "Requirement already satisfied: jsonschema>=2.6 in /usr/local/lib/python3.7/dist-packages (from nbformat->notebook>=4.4.1->widgetsnbextension~=3.6.0->ipywidgets>=7.0->eegvis==0.2.1) (4.3.3)\n",
            "Requirement already satisfied: fastjsonschema in /usr/local/lib/python3.7/dist-packages (from nbformat->notebook>=4.4.1->widgetsnbextension~=3.6.0->ipywidgets>=7.0->eegvis==0.2.1) (2.16.1)\n",
            "Requirement already satisfied: importlib-resources>=1.4.0 in /usr/local/lib/python3.7/dist-packages (from jsonschema>=2.6->nbformat->notebook>=4.4.1->widgetsnbextension~=3.6.0->ipywidgets>=7.0->eegvis==0.2.1) (5.9.0)\n",
            "Requirement already satisfied: attrs>=17.4.0 in /usr/local/lib/python3.7/dist-packages (from jsonschema>=2.6->nbformat->notebook>=4.4.1->widgetsnbextension~=3.6.0->ipywidgets>=7.0->eegvis==0.2.1) (22.1.0)\n",
            "Requirement already satisfied: pyrsistent!=0.17.0,!=0.17.1,!=0.17.2,>=0.14.0 in /usr/local/lib/python3.7/dist-packages (from jsonschema>=2.6->nbformat->notebook>=4.4.1->widgetsnbextension~=3.6.0->ipywidgets>=7.0->eegvis==0.2.1) (0.18.1)\n",
            "Requirement already satisfied: importlib-metadata in /usr/local/lib/python3.7/dist-packages (from jsonschema>=2.6->nbformat->notebook>=4.4.1->widgetsnbextension~=3.6.0->ipywidgets>=7.0->eegvis==0.2.1) (4.12.0)\n",
            "Requirement already satisfied: zipp>=3.1.0 in /usr/local/lib/python3.7/dist-packages (from importlib-resources>=1.4.0->jsonschema>=2.6->nbformat->notebook>=4.4.1->widgetsnbextension~=3.6.0->ipywidgets>=7.0->eegvis==0.2.1) (3.8.1)\n",
            "Requirement already satisfied: webencodings in /usr/local/lib/python3.7/dist-packages (from bleach->nbconvert->notebook>=4.4.1->widgetsnbextension~=3.6.0->ipywidgets>=7.0->eegvis==0.2.1) (0.5.1)\n",
            "Requirement already satisfied: pytz>=2017.3 in /usr/local/lib/python3.7/dist-packages (from pandas->eeghdf->eegvis==0.2.1) (2022.2.1)\n",
            "Building wheels for collected packages: eegvis\n",
            "  Building wheel for eegvis (setup.py) ... \u001b[?25l\u001b[?25hdone\n",
            "  Created wheel for eegvis: filename=eegvis-0.2.1-py3-none-any.whl size=52030 sha256=19da82842baa786ed3f77bb62cb9ade3ff7c9d76f3c57722703f350eb8bd75f8\n",
            "  Stored in directory: /tmp/pip-ephem-wheel-cache-cukvuhlu/wheels/02/c0/63/9178cadca53027f67c4e0759a28deea88f9fcd5f1cd24b2d7f\n",
            "Successfully built eegvis\n",
            "Installing collected packages: eegvis\n",
            "Successfully installed eegvis-0.2.1\n",
            "Cloning into 'eegvis'...\n",
            "remote: Enumerating objects: 669, done.\u001b[K\n",
            "remote: Counting objects: 100% (85/85), done.\u001b[K\n",
            "remote: Compressing objects: 100% (57/57), done.\u001b[K\n",
            "remote: Total 669 (delta 52), reused 52 (delta 28), pack-reused 584\u001b[K\n",
            "Receiving objects: 100% (669/669), 5.77 MiB | 10.96 MiB/s, done.\n",
            "Resolving deltas: 100% (437/437), done.\n"
          ]
        }
      ]
    },
    {
      "cell_type": "code",
      "execution_count": 4,
      "id": "2e23cdcc",
      "metadata": {
        "title": "compressionratio",
        "id": "2e23cdcc"
      },
      "outputs": [],
      "source": [
        "# from bz2 import compress\n",
        "# from curses import window\n",
        "# from random import sample\n",
        "# from subprocess import CompletedProcess\n",
        "import eeghdf\n",
        "import gzip\n",
        "import numpy as np"
      ]
    },
    {
      "cell_type": "code",
      "execution_count": 5,
      "id": "f53c00f5",
      "metadata": {
        "lines_to_next_cell": 0,
        "id": "f53c00f5"
      },
      "outputs": [],
      "source": [
        "import matplotlib\n",
        "import matplotlib.pyplot as plt\n"
      ]
    },
    {
      "cell_type": "code",
      "execution_count": 6,
      "id": "a4030a58",
      "metadata": {
        "id": "a4030a58"
      },
      "outputs": [],
      "source": [
        "import eegvis.stacklineplot as stacklineplot"
      ]
    },
    {
      "cell_type": "code",
      "execution_count": 381,
      "id": "b08cfed5",
      "metadata": {
        "lines_to_next_cell": 0,
        "id": "b08cfed5"
      },
      "outputs": [],
      "source": [
        "# configuration\n",
        "matplotlib.rcParams[\"figure.figsize\"] = (12.0, 8.0)\n",
        "# for new installs you will need to change DATADIR to point to appropriate folder\n",
        "DATADIR = \"/content\"\n",
        "\n",
        "EEGFILE = DATADIR + \"/eeg75.eeg.h5\"\n",
        "#eeg = eeghdf.Eeghdf(EEGFILE)\n",
        "\n",
        "eeg = eeghdf.Eeghdf(EEGFILE)"
      ]
    },
    {
      "cell_type": "code",
      "source": [
        "ls /content"
      ],
      "metadata": {
        "colab": {
          "base_uri": "https://localhost:8080/"
        },
        "id": "B5sgAiPfBcQ8",
        "outputId": "4a55b69d-c3a8-4418-d2be-d02005d3d78c"
      },
      "id": "B5sgAiPfBcQ8",
      "execution_count": 382,
      "outputs": [
        {
          "output_type": "stream",
          "name": "stdout",
          "text": [
            "absence_epilepsy.eeg.h5  eeg76.eeg.h5  \u001b[0m\u001b[01;34meeghdf\u001b[0m/  \u001b[01;34msample_data\u001b[0m/\n",
            "eeg75.eeg.h5             eeg78.eeg.h5  \u001b[01;34meegvis\u001b[0m/  \u001b[01;32mspasms.eeg.h5\u001b[0m*\n"
          ]
        }
      ]
    },
    {
      "cell_type": "code",
      "execution_count": 383,
      "id": "9aa28aae",
      "metadata": {
        "lines_to_next_cell": 0,
        "colab": {
          "base_uri": "https://localhost:8080/"
        },
        "id": "9aa28aae",
        "outputId": "5f119e2f-eb41-423f-943c-5e7eccc152e8"
      },
      "outputs": [
        {
          "output_type": "stream",
          "name": "stdout",
          "text": [
            "2560 0\n"
          ]
        }
      ],
      "source": [
        "sample_rate = eeg.sample_frequency\n",
        "N = int(sample_rate * 10)  # get 10 seconds of data\n",
        "sec_offset = 0\n",
        "offset = int(sample_rate * sec_offset)\n",
        "print(N, offset)"
      ]
    },
    {
      "cell_type": "code",
      "execution_count": 384,
      "id": "120a4432",
      "metadata": {
        "lines_to_next_cell": 0,
        "id": "120a4432"
      },
      "outputs": [],
      "source": [
        "\n",
        "first10 = eeg.rawsignals[0, offset : offset + N]  # returns a numpy array\n",
        "full_len=eeg.rawsignals[0,: ]"
      ]
    },
    {
      "cell_type": "code",
      "source": [
        "def biHex(fullHex):\n",
        "  easyHex=' '.join(fullHex[i:i+2] for i in range(0, len(fullHex), 2))\n",
        "  print(easyHex)"
      ],
      "metadata": {
        "id": "dD_Wka-oI75o"
      },
      "id": "dD_Wka-oI75o",
      "execution_count": 385,
      "outputs": []
    },
    {
      "cell_type": "code",
      "execution_count": 386,
      "id": "81a45f82",
      "metadata": {
        "lines_to_next_cell": 0,
        "colab": {
          "base_uri": "https://localhost:8080/"
        },
        "id": "81a45f82",
        "outputId": "d5649297-93b4-435a-865f-fbce9568fd64"
      },
      "outputs": [
        {
          "output_type": "stream",
          "name": "stdout",
          "text": [
            "1f 8b 08 00 58 29 11 63 02 ff 8d 98 8b 5f 8f 77 1b c7 af bb 73 ab a4 34 c9 21 54 4e 09 ad b0 2c c4 d0 34 69 2c e2 31 2c 6c cc ec 14 da f0 60 1e 36 cf 18 cd 36 b3 61 73 98 39 65 9b 9c c6 e6 58 cc 69 36 31 d2 14 b1 ce 27 bf 54 6a 89 ae e7 7d df 7f c1 f3 ba 5f fd 7e df df f7 70 1d 3f d7 e7 7b dd 89 d8 8b b7 74 96 60 09 e0 e9 2c 41 12 c8 df ff fb 04 4a 4b 51 6d 25 6f c8 4a 49 94 97 64 b9 7c 25 9f c9 6a 99 67 fd 1a 23 d1 32 5a fe 2d 1b 64 a3 6c 91 af d9 35 54 c6 cb 6c d6 86 31 9a c2 4a a2 3c 25 21 d2 5d 5a 48 73 a4 45 b3 36 97 95 ae 8c 5b 33 3b 44 ba 89 9d 38 b1 e3 79 7e fd a3 ed 38 93 20 bd 98 1d c0 f7 cb cc b6 62 bd 3d bf 1d a5 51 3d c5 4d 5c f0 a6 49 7b c9 eb f2 8e 4c 97 a9 12 2b 11 12 ca 0e 5f 4e 8d 95 78 f1 67 67 30 a3 31 7c 3e 81 d6 40 66 3c 98 f3 c7 ce 68 71 97 87 7a 4f ff d1 10 e6 b6 eb 61 ed 20 03 a5 93 54 eb 0f ba 5f 9d a5 a7 3c d6 42 b4 d4 6a aa 66 69 38 36 66 31 7f 54 73 d5 5d da 48 a5 fe a1 35 ea 83 0d 35 7a 56 b7 e9 8f 7a 8d b8 8c c5 86 18 e4 5f d4 4b 9a c7 8e 33 fa 50 db 4b b9 1e d1 4c ad d2 52 6d d4 1e 68 78 ac fe d8 16 81 e5 45 5a a1 ca ac f9 d9 41 7a 88 ab 94 68 a0 cc 90 e1 c4 d9 55 0a f5 90 9e d0 c7 ea c1 a8 0a 39 7e 52 87 b5 5e d2 91 0c 3e c6 42 5f 79 92 68 d5 33 f7 00 0b ff 54 6f 09 67 2e 50 06 f1 d7 9c 68 c6 f3 59 a5 f6 e8 3f a4 3b f4 b4 d6 6a 6b 32 de 5d 7a 13 8d 56 fc f5 45 47 96 de d0 12 fd 5b ab f1 b4 44 8f 6b 99 76 22 3a 86 25 b5 16 eb db 11 87 20 76 0e 95 b6 d2 a0 4d 68 f5 24 57 ce 78 ed 47 3e 46 e3 45 0b ac ca d2 53 7a 53 9d b0 ac 9b 78 61 db 93 64 a1 ad dc c3 ea 4e c4 34 82 bc cc 04 1f 41 58 62 d3 9e c8 8a 94 38 19 c5 de 36 32 98 98 45 61 95 ab 14 11 b1 06 ac 70 26 ab c1 e0 24 40 c2 90 22 92 a7 95 ea 00 1a fe 24 c2 0f d0 df 19 bf 62 90 d5 85 73 cf b1 d3 d4 3a 49 de 94 7f e1 77 37 6c f7 e7 e4 50 79 57 de 07 7b 91 ec 4c 00 7d 5d f0 c8 4e fa 91 9d 04 64 06 a3 7d 3c 9a 87 cb 04 46 d1 f2 02 d8 9a 2d 6f f3 7c 2c eb e5 53 59 02 9e 26 83 d5 29 32 8e d5 60 69 26 3e 9c 1a c4 99 79 e8 89 47 f6 b7 48 8f 24 47 26 a6 a2 d1 de 11 fb 5f 96 cd a0 79 3c a7 b7 c8 56 59 46 6c 06 a0 61 94 2c 90 9f e5 b8 ec 91 13 f2 2b 95 91 84 8c d5 48 e9 cb ea fb b2 8b 9d ab 98 49 96 8f e4 3b 39 2c 8b f0 20 56 7e 91 06 f1 37 c6 1a d3 8d de 86 a3 71 5f 8a c4 c5 18 62 8c e3 af bb 11 6c 84 1b 61 86 b7 61 93 56 c6 14 63 82 d1 c9 e8 c1 77 92 31 c9 18 c0 ec df 72 5d 5c 99 b1 37 4a a5 4e ca 91 13 62 84 18 2e 46 93 14 c8 6f 62 6f 44 1a 9e 46 86 a4 49 ae b8 31 6a 90 ab b2 43 76 cb 25 b9 c6 a8 42 ee c9 19 39 8f b6 0b d8 b2 41 52 a8 ed 53 92 85 ed db 24 15 3b 17 e1 d9 97 32 9f 68 99 95 9c 24 1f 48 3a ab bb 64 0e b5 b7 51 7e 94 c5 32 52 de 92 83 62 ca 3f 80 0f a9 b0 c3 7c 58 e0 b8 ec e3 5c aa d4 48 6b c3 30 ca e4 96 9c c5 d3 ed 48 4f 93 3b e2 84 75 65 d8 93 87 15 5b 91 73 45 54 1e e0 c5 1f d8 91 8b d4 a3 52 2f 0e 46 09 eb e5 52 88 be 9b 9c b9 4a 2c 8f 49 b6 54 33 fe 43 4a f1 32 4b f6 ca 4e d9 84 9e e3 f8 71 47 7e c2 b6 2a 24 15 12 f3 63 3c 69 e8 db 8c af 19 48 be c4 ea 3e 6c b8 22 47 e4 13 32 96 08 3b cc 64 b4 95 f5 03 e4 6a b3 2c 95 2f 18 ed c4 c3 64 72 3d 05 9c 4d c0 b2 ef 40 c7 a7 64 7e ab 85 91 2f 79 66 52 49 43 88 c5 0a fc 7e 8b b9 4d f2 39 7b 16 53 bf f1 cc f7 63 35 02 3c cc 95 57 41 c1 44 66 27 10 bb e7 c1 5d 6f aa cf 0b 54 2e 06 09 1f c2 92 c3 60 ab 41 ac 26 b2 6b 12 88 ed 22 fd 41 c8 db fc 9e 00 c2 a3 61 b6 f7 88 f2 02 24 84 c9 d3 e8 fb 12 c4 8c 67 7e 30 ab 03 2d 56 8e 41 ca 74 10 d5 06 9c c6 33 df 05 14 2d 42 73 2c 9c e2 8f f4 51 f2 2c ec 11 22 af 20 e5 5d 64 cd 40 4f 3c 12 c6 a1 65 2c ac 11 ce 9e 00 2a 3d 4e a6 61 49 03 f5 36 8a a7 25 0c d9 13 a9 a1 30 74 38 12 a2 90 16 6c fd ea 0c fa 07 b1 16 82 2f 66 a5 3a c2 92 95 7a 1f 06 0a e1 e9 08 9f d6 f0 ab 11 be 70 a0 3e dd a9 a0 7a 46 43 f0 2f 12 5e f0 e5 44 88 b4 e3 cc 65 cd 56 47 56 9b 60 8c b6 f0 cf 0d 58 c7 06 93 94 6a 3e 3c fb 00 19 f9 48 b1 63 a7 13 31 73 e2 bb 16 3e 74 84 b7 ef c2 9d ce e8 a9 d7 3a b8 b3 1a 2e f6 62 47 8d 9e d3 5d 70 f1 0d bd 03 8b 7f a4 1b f4 27 38 ed 80 ee d6 ef 74 9d a6 e8 46 c6 17 b4 40 5d 89 5a 00 4c 66 27 8f 2c 79 a6 fd c5 dc 05 36 2d e7 57 0b a9 80 d1 4c 9d d5 f0 f8 5a 9d a7 db d1 56 0c 83 de 44 67 13 da 1c 39 77 5b af eb 41 d6 96 e1 45 2e 3a 77 eb 45 f6 d8 c3 15 1e b0 d5 0d ee 93 c3 cc 9c 43 5f 21 f3 17 b8 0b b2 79 4e 62 97 79 bf ec d2 cf 75 85 ae e1 e6 38 8f 07 4f 60 f9 45 ee 99 35 cc ed 45 77 2e cc e9 24 a5 70 5e 11 8c 5c 8c 77 d9 c8 3f cd 3e 5f 6e 9e d3 ba 13 5f 16 e8 6a 4d 27 3e a5 c4 c9 85 fb 30 9d df cb f5 1b fd 19 9f 3f c2 ae ef b1 f0 ae de e2 2f 0b 2b 2e e3 75 b9 e6 70 9f ec e5 be 12 fc 77 91 6c f4 18 68 3e a0 19 1a 4c 76 6d ec 0d 86 b7 86 81 ab 69 a0 67 3a a3 20 ee 90 00 eb 5e 8b e3 77 0a 3c 35 cb 42 e9 34 f8 36 1a 34 cf 00 8b af 82 bf 01 e0 21 06 74 7a 23 37 88 bd f1 dc c2 15 58 af da 06 04 b6 05 37 81 e4 4f b8 2f 9d c5 81 7b 2b 90 5b c4 9e 3c 1a 7c 3a 90 87 4a 62 5b 49 0e 1f e1 dd 5f da 95 ea e9 c2 99 f6 ec ea 6a dd fa ad c0 9c 1f b3 d3 91 1c 0c f2 62 f9 1e 88 c6 95 30 ce 26 8b 9b 3e a6 32 a6 ca 6b 58 b8 82 ca 4c 84 95 92 b0 73 a4 8c c0 ca 04 eb 3e 98 89 e5 d3 40 fc eb f2 22 9e bd 48 55 ad e3 4c 7f 70 b9 96 ba 9e 80 bc 37 60 a5 1f a8 fd 2d f0 c1 37 70 4a 1a 6c 90 62 8d 52 38 b7 51 32 e5 34 73 07 65 3f 7c be 11 cf 27 e1 ff 22 f9 2f e3 13 30 55 0a ac bf 1e 3b e6 72 7a 27 b3 b1 58 ef 83 d4 a9 54 b3 59 eb 73 88 6b 04 4f 2f 2a c4 07 06 68 cd 2d f0 0a 56 8c b1 ba b1 10 a2 37 c4 b2 76 28 f1 9b 4a 7c 9f 91 3e 30 c6 08 3c f7 61 6f 20 9d 83 17 78 2f d4 df 89 51 21 37 73 1f 66 cb b9 15 0b b8 a7 ed e9 cb 32 75 bd ee 01 2f 1e 54 94 03 b1 ad 26 bf 17 e8 2d 82 38 e9 66 dd 80 5e e4 c2 9b 95 5a 70 dc 81 8c 4f e6 d6 1a c5 2d d5 97 aa 1e 46 24 5a 11 ed 89 dc 85 0b f1 62 09 11 31 6f d8 91 d8 13 cb 67 4f 32 92 40 ae a3 b0 b4 27 f6 ba ca 1d 32 d5 82 53 1d e9 00 1a e9 c2 9e b7 3a 33 67 ab 03 b8 4d 57 e1 02 93 64 63 5d 29 d8 df 03 1e d3 f4 18 28 dd ad 9f 51 8b df 33 3e c2 73 1e 6f 7e 02 b5 1b 75 0b f3 2b 74 a5 be ab 73 e8 56 2e 63 f9 51 76 9f b2 2a 6b 2f 15 f8 2d b5 53 aa 8f a8 ec 9f 41 f1 2d d0 dc a8 2d d1 55 01 aa ff 02 d3 67 d0 28 62 b2 47 01 a8 33 18 55 50 39 e7 74 1f fb 33 a8 ae 42 ea a4 0c 09 66 8f d1 96 da af 06 9d 36 aa df 9e b1 1f a8 ad a3 aa bd 89 51 03 55 e6 c7 d3 99 4c 85 11 b9 5e 78 38 9c 38 25 e0 75 30 73 dd 98 1b 01 52 a6 81 f9 76 78 5b 49 9c bd e1 ca 06 6a 3e 17 d9 ed a9 c5 52 34 9d a3 b6 d3 b1 d7 59 72 2c fe 39 89 0d 19 f8 93 6e 45 e1 02 e3 73 f8 92 c7 4c 1a 71 f8 15 1f 8a e9 c3 cc 3e ee 3c 33 a7 b0 37 87 71 19 cf 2d f2 65 b2 4a 31 27 f7 51 f1 ce 92 4b 3c 76 10 b9 46 e6 cd 3e d8 ec f1 8a 60 cb 62 e2 5d 49 dc 1f 71 c2 1e 0f 7f 21 6a 97 e1 d4 5c 38 67 0f 5a af 13 a3 52 bd 82 b6 2b 64 28 9f fd 57 89 f2 6f e8 4e 27 c6 a7 b0 71 ad 7e 85 55 0e e8 ca 57 d3 a3 0d 64 aa 08 5b 32 91 51 c4 d9 87 da 8c 58 3d e0 bb 01 e4 1d e4 4c 89 9a c8 7a 82 4c b8 f1 fd 10 fd 25 b0 57 19 f2 eb c0 a8 3f b5 de c1 ea 6b 3d 89 a4 0b 76 9a dd a6 1d d8 1e 08 b3 d8 2c ce bd 8d 35 25 cc e5 63 4b 36 11 ab 80 87 f2 b1 ea 0c 3a 6f 61 d9 7e fe 4a f1 a7 0a 7b ae 61 b1 89 a9 2c 7c 3b c9 29 47 f2 76 17 2c 94 c2 62 eb 98 f5 a7 56 0a 91 97 c3 4c 25 fb cc fb e0 18 b8 e8 44 8c 6e b2 df 64 1f 53 6b 2d 5a 2f e1 bf a7 95 c1 7a be db c0 ad 8e 8c 73 90 57 87 77 36 66 bd c8 79 6f aa ac 8e dd 67 89 e1 51 62 ec 46 74 6b d4 7c 4b e9 0f 4a 4a b0 f3 37 f4 7b e0 67 77 b8 b3 1f 7a fc a9 da 50 be 9b 89 d9 4b bb b1 d2 13 df 03 89 d0 3d e2 e2 c9 fd 62 c7 c9 08 6a e8 21 5e 77 e7 71 00 c5 e5 78 9b 89 e6 a7 38 6d 9e 7f 4c bc 9d 40 9b 1b d9 2e 03 93 ee 8c 3c ad 5b 3c 0c 59 cd f8 65 56 f0 60 ec 3f 0e c2 ab b8 d3 1a f9 7c a4 1d 41 eb 0b ec 31 7b fd a7 e1 62 c1 fa 66 56 ef 3b 19 8e 36 3b ff 76 e8 1e 86 5f 7e 8c c3 90 f1 34 d6 0d a4 c6 43 b1 b0 07 5c 1f 83 56 f3 ad b0 03 77 bb f9 e6 36 06 4e 08 c1 c6 20 d8 77 01 bc 34 04 e4 87 b3 3b 08 46 7f 40 f6 03 38 dd 0f 1f 9f 83 53 23 90 97 c8 0e 4f a2 d9 99 98 9a 6f 1b 1d 38 1d 69 a1 c0 83 9c 9b 76 56 58 c8 75 25 3a 93 61 99 ee c4 29 14 2b 46 53 65 e3 79 c6 32 6e 2f 66 1c 26 c3 ba 0b e0 d3 59 3c af e3 81 d9 b7 98 f5 37 17 ae 7d 0d 56 5d 4d d7 b5 0c 0e 8d e3 64 92 d5 31 45 e0 41 12 ec bb 9e f7 d2 5d f0 f8 1c a4 8d 24 4a 03 b1 7b 29 6c be 8d 7e f7 04 2b af 60 e3 4b c8 99 0d a3 4d e4 76 38 4c 3f 79 0c 1e ff 42 d6 70 53 2c e3 e4 11 3a e6 4c 58 7d 1f 9c 9f ce 1d b0 06 a9 7b 60 c5 91 f8 1a 85 95 6f 12 97 0e e4 21 00 0f 7b e1 ab d9 21 45 c0 20 f9 60 b4 08 84 5d 23 2b 26 c2 2e 53 cd c7 a9 d5 93 d4 e2 66 98 eb 34 2c bd 58 97 c2 74 bb 40 4e aa ce d2 89 9a a8 6f 53 9f 37 78 63 3c 05 c6 0e b0 a7 00 9c 7f c3 ce 0c e6 4e 23 eb 3e c8 a8 82 db be d5 37 79 b6 81 d2 72 b8 e3 3a 9a bc 40 fc 6d 6a 64 3f bf 1c c8 69 73 6c 72 e7 56 2f a6 fb 6a 0e ae 52 a9 e9 dd 60 37 15 5e 29 a4 f6 fe e6 e4 25 66 7e d7 e6 d6 7b 77 0f d8 6c 34 b7 a9 79 27 86 81 cc f3 f0 54 35 f5 b7 5d 3f c5 92 33 30 ce 26 c6 87 e0 81 cf 75 15 cf fb ba 90 4e e3 6b 66 57 e9 3b 9a 4c cf b2 58 47 eb ab d8 74 88 be e4 0b d6 76 c0 e8 db 61 f4 55 fa 1e 9f 25 d8 71 9b 3a 3c 0f ba f3 a8 2a d3 8b 5f b1 d5 8e 3a 70 a6 e2 8a 2d e6 71 25 72 36 d6 73 c0 86 07 1e 39 81 92 72 ce 95 c3 34 f7 a9 65 f3 c6 6a c9 d3 84 65 15 16 b7 9d c2 e3 bf a8 ff 36 56 a7 e0 23 05 44 b3 4c 7d ad 77 b1 46 eb bb 81 3a f5 b5 ea ee 31 75 e1 06 22 7d 41 b1 03 3e bb a1 eb 11 6f c3 7e f8 6b de 12 f5 e8 f4 e4 31 24 93 7c 05 12 8f be a0 b2 1b 7b ab d5 ec 5f 9b d4 bc 33 4b c8 aa 33 bf 94 dd 66 5f 1c 86 56 1b b3 cd c8 7f 18 28 88 01 6b c3 c1 6e 57 3c 73 47 4b 0b 18 ab 41 a3 40 d7 12 70 68 de e8 fd e1 8e 02 90 6f d6 6f 28 18 8a 23 f6 d3 ac 37 8c 4e 20 e8 19 6a f0 65 fa 89 0f 90 d3 07 ec 2f 02 a1 cf 32 36 df 1f 22 40 f0 8b dc 41 43 59 e9 4b 35 f5 41 b7 23 5a a7 70 22 0e 4c 0e 03 cf 63 a8 a5 31 54 c8 3c b0 ba 92 ce e6 6b de 75 f6 d1 07 2d a4 a3 49 e3 bd e5 00 bd cd 1a 2a 27 05 c9 0b 79 ef 5c 4e 3d 85 53 c1 36 ba be 04 f4 3c 0b 96 5d ac ff a9 d4 81 24 7b de bc 2f 82 be 5c a2 d3 04 0f 67 c2 8b 79 c4 f8 22 e3 9b e4 7a 1b 2c 6b d0 e9 16 93 a3 5a b2 e9 43 35 98 ff 39 28 e2 9e 7d 92 fa 6d 67 fd 77 c9 15 2b 03 b0 b6 ab d5 6d 9b b9 ac 46 ce 71 98 3a 94 ba 8b a1 96 fa 90 a9 7a f2 5e af 5d c8 a4 37 67 62 f1 63 08 b3 7e f8 39 89 ae 6d 0e 8f d9 bf 8d 25 23 2f f0 4e 99 4c cf b4 18 2f e7 f3 b7 1c 9f b6 c3 05 a3 a8 e8 19 44 63 36 bd d7 27 78 97 4c bc a3 88 4a 32 b1 37 bb d5 75 d4 76 12 19 18 cf 3b cf 08 f8 60 34 32 93 e1 94 0f 59 99 8f 25 e3 a8 80 38 3a 98 11 c4 73 25 b1 19 07 97 ec 85 03 fe 83 ac b5 56 8f 36 17 6e 58 0a 1b ad a1 c3 9c c2 ee 59 8c 5f b3 b8 25 8a cc 05 5b 5e 0e c6 42 4f 3c b6 e1 5f 21 bd 85 f9 5f a2 4b 7c ba 13 97 bb f0 c1 12 6a 25 87 fc e7 51 55 19 ac 9c 65 97 9d 94 f1 bd 43 3f a6 c2 ea b8 1d ee 13 f1 42 9e cb 44 d9 c6 ee eb 60 c8 95 c8 d5 70 8b b9 93 ad ab c4 df 06 f2 af 53 05 41 30 b8 1b 31 0b 20 be 1e 9c 34 ff db 15 46 1e 9a d3 e1 74 05 53 83 40 d1 60 ee 1f 5f f0 1a 09 3f 0f 96 ff 01 4e 75 12 28 00 14 00 00\n"
          ]
        }
      ],
      "source": [
        "# want to get the buffer reference to this array (???)\n",
        "\n",
        "data = first10.data  # or first10.get_buffer(...) if need a slice\n",
        "databytes = bytes(data)\n",
        "res = gzip.compress(databytes)\n",
        "res.hex()\n",
        "biHex(res.hex())"
      ]
    },
    {
      "cell_type": "code",
      "execution_count": 387,
      "id": "7f6a0026",
      "metadata": {
        "colab": {
          "base_uri": "https://localhost:8080/"
        },
        "id": "7f6a0026",
        "outputId": "55af84c8-356c-4f22-e7aa-b331e81dd354"
      },
      "outputs": [
        {
          "output_type": "execute_result",
          "data": {
            "text/plain": [
              "1.4562002275312855"
            ]
          },
          "metadata": {},
          "execution_count": 387
        }
      ],
      "source": [
        "\n",
        "c = len(res)\n",
        "ratio = len(databytes) / c\n",
        "ratio"
      ]
    },
    {
      "cell_type": "code",
      "execution_count": 388,
      "id": "8d24ffa1",
      "metadata": {
        "lines_to_next_cell": 1,
        "id": "8d24ffa1"
      },
      "outputs": [],
      "source": [
        "# now try shifting bits to quant\n",
        "\n",
        "\n",
        "def quant_to_bytes(n, arr):\n",
        "    arr = np.right_shift(arr, n)\n",
        "    data = arr.data\n",
        "    return bytes(data)\n",
        "\n",
        "\n",
        "def compress_ndarray(arr) -> bytes:\n",
        "    databytes = bytes(arr.data)  # arr.data is memory_view of arr\n",
        "    return gzip.compress(databytes)\n",
        "\n",
        "# todo, write an uncompress, to validate that this is loss-less compression\n",
        "\n",
        "\n",
        "def compress_ratio(arr, # expect initially 1D array\n",
        "                   quant=8):\n",
        "    \"\"\"takes arrlike @arr\n",
        "    quantitizes this to @quant bits\"\"\"\n",
        "    nbytes = arr.dtype.itemsize  # np.uint16(0).nbytes\n",
        "    nbits = 8 * nbytes\n",
        "    rshift = nbits - quant\n",
        "    shifted_arr = np.right_shift(arr, rshift)\n",
        "    shifted_arr_bytes = bytes(shifted_arr.data)\n",
        "    comp_arrbytes = gzip.compress(shifted_arr_bytes)\n",
        "\n",
        "    return len(shifted_arr_bytes) / len(comp_arrbytes)"
      ]
    },
    {
      "cell_type": "code",
      "execution_count": 389,
      "id": "6e37c08d",
      "metadata": {
        "lines_to_next_cell": 0,
        "id": "6e37c08d"
      },
      "outputs": [],
      "source": [
        "# test out np.right_shift on 2d arrays\n",
        "simple2d = np.array([[2000,1028, -200, 10, 65], [30000, -15000,7000,3500,1700] ], dtype=np.int16)"
      ]
    },
    {
      "cell_type": "markdown",
      "id": "8470b819",
      "metadata": {
        "id": "8470b819"
      },
      "source": [
        "```\n",
        "0 -> 0000 # base 2\n",
        "1 -> 0001\n",
        "2 -> 0010\n",
        "3 -> 0011\n",
        "```\n",
        "this leaves out how to represent negative numbers using two's complement\n"
      ]
    },
    {
      "cell_type": "code",
      "execution_count": 390,
      "id": "4ffba183",
      "metadata": {
        "lines_to_next_cell": 0,
        "colab": {
          "base_uri": "https://localhost:8080/"
        },
        "id": "4ffba183",
        "outputId": "7efd2d50-917d-445a-8560-02a823f8c307"
      },
      "outputs": [
        {
          "output_type": "execute_result",
          "data": {
            "text/plain": [
              "array([[  2000,   1028,   -200,     10,     65],\n",
              "       [ 30000, -15000,   7000,   3500,   1700]], dtype=int16)"
            ]
          },
          "metadata": {},
          "execution_count": 390
        }
      ],
      "source": [
        "simple2d"
      ]
    },
    {
      "cell_type": "code",
      "execution_count": 391,
      "id": "a14b4d52",
      "metadata": {
        "id": "a14b4d52"
      },
      "outputs": [],
      "source": [
        "# I don't think I needed to really change anything between compress_ratio_1d\n",
        "\n",
        "def compress_ratio_2d(arr2d, # expect 2D array, broadcasting?\n",
        "                   quant=8):\n",
        "    \"\"\"takes arrlike @arr\n",
        "    quantitizes this to @quant bits\"\"\"\n",
        "    nbytes = arr2d.dtype.itemsize  # np.uint16(0).nbytes\n",
        "    nbits = 8 * nbytes\n",
        "    rshift = nbits - quant\n",
        "    shifted_arr = np.right_shift(arr2d, rshift)\n",
        "    shifted_arr_bytes = bytes(shifted_arr.data)\n",
        "    comp_arrbytes = gzip.compress(shifted_arr_bytes)\n",
        "\n",
        "    return len(shifted_arr_bytes) / len(comp_arrbytes)\n",
        "\n",
        "\n"
      ]
    },
    {
      "cell_type": "code",
      "execution_count": 392,
      "id": "adcef790",
      "metadata": {
        "lines_to_next_cell": 0,
        "colab": {
          "base_uri": "https://localhost:8080/"
        },
        "id": "adcef790",
        "outputId": "ab7173d3-0a3b-4f4b-9d34-387b4105ad08"
      },
      "outputs": [
        {
          "output_type": "execute_result",
          "data": {
            "text/plain": [
              "15.802469135802468"
            ]
          },
          "metadata": {},
          "execution_count": 392
        }
      ],
      "source": [
        "q8 = compress_ratio(first10, quant=8)\n",
        "q8"
      ]
    },
    {
      "cell_type": "code",
      "execution_count": 393,
      "id": "c94372f3",
      "metadata": {
        "lines_to_next_cell": 0,
        "colab": {
          "base_uri": "https://localhost:8080/"
        },
        "id": "c94372f3",
        "outputId": "edcdcace-4862-48c9-ba04-6b05741340e3"
      },
      "outputs": [
        {
          "output_type": "execute_result",
          "data": {
            "text/plain": [
              "3.1219512195121952"
            ]
          },
          "metadata": {},
          "execution_count": 393
        }
      ],
      "source": [
        "q12 = compress_ratio(first10, quant=12)\n",
        "q12"
      ]
    },
    {
      "cell_type": "code",
      "execution_count": 394,
      "id": "e0704214",
      "metadata": {
        "lines_to_next_cell": 0,
        "colab": {
          "base_uri": "https://localhost:8080/"
        },
        "id": "e0704214",
        "outputId": "773959fb-00b8-4057-b034-ff337c962d23"
      },
      "outputs": [
        {
          "output_type": "execute_result",
          "data": {
            "text/plain": [
              "1.4562002275312855"
            ]
          },
          "metadata": {},
          "execution_count": 394
        }
      ],
      "source": [
        "q16 = compress_ratio(first10, quant=16)\n",
        "q16"
      ]
    },
    {
      "cell_type": "code",
      "execution_count": 395,
      "id": "c6cccd5f",
      "metadata": {
        "lines_to_next_cell": 0,
        "id": "c6cccd5f"
      },
      "outputs": [],
      "source": [
        "quants = [1, 2, 4, 6, 8, 10, 12, 14, 16]\n",
        "ratiosbyQ = [compress_ratio(first10, quant=qq) for qq in quants]"
      ]
    },
    {
      "cell_type": "code",
      "execution_count": 396,
      "id": "ce2370ae",
      "metadata": {
        "lines_to_next_cell": 0,
        "colab": {
          "base_uri": "https://localhost:8080/",
          "height": 517
        },
        "id": "ce2370ae",
        "outputId": "bac1fa87-ad6c-4f48-c7d9-4040c206b3fe"
      },
      "outputs": [
        {
          "output_type": "execute_result",
          "data": {
            "text/plain": [
              "Text(0.5, 1.0, 'compression ratio vs quantization number')"
            ]
          },
          "metadata": {},
          "execution_count": 396
        },
        {
          "output_type": "display_data",
          "data": {
            "text/plain": [
              "<Figure size 864x576 with 1 Axes>"
            ],
            "image/png": "[encoded data removed]"
          },
          "metadata": {
            "needs_background": "light"
          }
        }
      ],
      "source": [
        "\n",
        "plt.plot(quants, ratiosbyQ)\n",
        "plt.title(\"compression ratio vs quantization number\")"
      ]
    },
    {
      "cell_type": "code",
      "execution_count": 397,
      "id": "3fcae012",
      "metadata": {
        "colab": {
          "base_uri": "https://localhost:8080/"
        },
        "id": "3fcae012",
        "outputId": "25cff5fe-32e0-4880-fd78-467898090d6f"
      },
      "outputs": [
        {
          "output_type": "execute_result",
          "data": {
            "text/plain": [
              "[16.78688524590164,\n",
              " 16.78688524590164,\n",
              " 16.78688524590164,\n",
              " 16.78688524590164,\n",
              " 15.802469135802468,\n",
              " 7.081604426002766,\n",
              " 3.1219512195121952,\n",
              " 1.8962962962962964,\n",
              " 1.4562002275312855]"
            ]
          },
          "metadata": {},
          "execution_count": 397
        }
      ],
      "source": [
        "ratiosbyQ"
      ]
    },
    {
      "cell_type": "code",
      "source": [
        "len(f10_0) #2000 total"
      ],
      "metadata": {
        "colab": {
          "base_uri": "https://localhost:8080/"
        },
        "id": "PJsIoy7k8W0x",
        "outputId": "c7f12453-126d-4121-d013-8350d365f0d4"
      },
      "id": "PJsIoy7k8W0x",
      "execution_count": 398,
      "outputs": [
        {
          "output_type": "execute_result",
          "data": {
            "text/plain": [
              "2000"
            ]
          },
          "metadata": {},
          "execution_count": 398
        }
      ]
    },
    {
      "cell_type": "code",
      "execution_count": 399,
      "id": "6e4c3264",
      "metadata": {
        "lines_to_next_cell": 0,
        "id": "6e4c3264"
      },
      "outputs": [],
      "source": [
        "# subdivide this \"epoch\" of data\n",
        "f10_0 = full_len[0 : int(sample_rate * 10)]\n",
        "f10_1 = full_len[int(sample_rate * 10) : int(sample_rate * 20)]"
      ]
    },
    {
      "cell_type": "code",
      "execution_count": 400,
      "id": "46049f97",
      "metadata": {
        "lines_to_next_cell": 0,
        "colab": {
          "base_uri": "https://localhost:8080/"
        },
        "id": "46049f97",
        "outputId": "ffd20cc6-610e-4ab4-d4dd-f342b893b740"
      },
      "outputs": [
        {
          "output_type": "execute_result",
          "data": {
            "text/plain": [
              "[16.78688524590164, 21.88034188034188]"
            ]
          },
          "metadata": {},
          "execution_count": 400
        }
      ],
      "source": [
        "seg_compare = [compress_ratio(f10_0, quant=4), compress_ratio(f10_1, quant=4)]\n",
        "seg_compare\n",
        "#q=16 means even the tiniest signals have to be reproduced, even noise, "
      ]
    },
    {
      "cell_type": "code",
      "execution_count": 401,
      "id": "44177b49",
      "metadata": {
        "lines_to_next_cell": 0,
        "id": "44177b49",
        "colab": {
          "base_uri": "https://localhost:8080/"
        },
        "outputId": "018e4b7b-76c9-428b-d48b-43a434345e83"
      },
      "outputs": [
        {
          "output_type": "execute_result",
          "data": {
            "text/plain": [
              "array([<matplotlib.axes._subplots.AxesSubplot object at 0x7f196c96d990>,\n",
              "       <matplotlib.axes._subplots.AxesSubplot object at 0x7f196c917a10>,\n",
              "       <matplotlib.axes._subplots.AxesSubplot object at 0x7f196c8d9050>],\n",
              "      dtype=object)"
            ]
          },
          "metadata": {},
          "execution_count": 401
        }
      ],
      "source": [
        "# now plot these\n",
        "fig = plt.Figure()\n",
        "fig.set_tight_layout(True)\n",
        "axs = fig.subplots(3,1)\n",
        "\n",
        "axs"
      ]
    },
    {
      "cell_type": "code",
      "source": [
        "f10_1.shape"
      ],
      "metadata": {
        "colab": {
          "base_uri": "https://localhost:8080/"
        },
        "id": "UkOZugpb-gFb",
        "outputId": "f1ef937e-1c62-4fe2-c8d6-9098e0cc1692"
      },
      "id": "UkOZugpb-gFb",
      "execution_count": 402,
      "outputs": [
        {
          "output_type": "execute_result",
          "data": {
            "text/plain": [
              "(2560,)"
            ]
          },
          "metadata": {},
          "execution_count": 402
        }
      ]
    },
    {
      "cell_type": "code",
      "execution_count": 403,
      "id": "840df63d",
      "metadata": {
        "lines_to_next_cell": 0,
        "colab": {
          "base_uri": "https://localhost:8080/"
        },
        "id": "840df63d",
        "outputId": "a5f8104a-32f2-4227-9768-0bd44b015f95"
      },
      "outputs": [
        {
          "output_type": "execute_result",
          "data": {
            "text/plain": [
              "Text(0.5, 1.0, 'rawsignal int16 10s (1st 10s)')"
            ]
          },
          "metadata": {},
          "execution_count": 403
        }
      ],
      "source": [
        "axs[0].plot(f10_0)\n",
        "axs[0].set_title('rawsignal int16 10s (1st 10s)')"
      ]
    },
    {
      "cell_type": "code",
      "source": [
        "axs[1].plot(f10_1)\n",
        "axs[1].set_title('2nd 10 seconds (10-20')"
      ],
      "metadata": {
        "colab": {
          "base_uri": "https://localhost:8080/"
        },
        "id": "LsBd6neg-AsT",
        "outputId": "dae58198-2743-4b1e-8569-ad1b2ce3cc18"
      },
      "id": "LsBd6neg-AsT",
      "execution_count": 404,
      "outputs": [
        {
          "output_type": "execute_result",
          "data": {
            "text/plain": [
              "Text(0.5, 1.0, '2nd 10 seconds (10-20')"
            ]
          },
          "metadata": {},
          "execution_count": 404
        }
      ]
    },
    {
      "cell_type": "code",
      "execution_count": 405,
      "id": "4e675a0c",
      "metadata": {
        "lines_to_next_cell": 0,
        "colab": {
          "base_uri": "https://localhost:8080/"
        },
        "id": "4e675a0c",
        "outputId": "4385793f-e785-4ecb-83dc-9a2916e11d1e"
      },
      "outputs": [
        {
          "output_type": "execute_result",
          "data": {
            "text/plain": [
              "<BarContainer object of 2 artists>"
            ]
          },
          "metadata": {},
          "execution_count": 405
        }
      ],
      "source": [
        "axs[2].bar([0.0, 1], seg_compare, 1, align=\"edge\")"
      ]
    },
    {
      "cell_type": "code",
      "execution_count": 406,
      "id": "84ae1716",
      "metadata": {
        "lines_to_next_cell": 0,
        "colab": {
          "base_uri": "https://localhost:8080/"
        },
        "id": "84ae1716",
        "outputId": "4601c4b0-c899-43bf-8c90-7c8cc853f372"
      },
      "outputs": [
        {
          "output_type": "execute_result",
          "data": {
            "text/plain": [
              "Text(0.5, 0, 'segment')"
            ]
          },
          "metadata": {},
          "execution_count": 406
        }
      ],
      "source": [
        "axs[2].set_xlabel(\"segment\")"
      ]
    },
    {
      "cell_type": "code",
      "execution_count": 407,
      "id": "0524e9ab",
      "metadata": {
        "lines_to_next_cell": 0,
        "colab": {
          "base_uri": "https://localhost:8080/"
        },
        "id": "0524e9ab",
        "outputId": "5782a6be-5c05-4f45-b0ff-fb7e25f23e6e"
      },
      "outputs": [
        {
          "output_type": "execute_result",
          "data": {
            "text/plain": [
              "Text(0.5, 1.0, 'compression ratio of first 10 vs second 10 sec (q=8)')"
            ]
          },
          "metadata": {},
          "execution_count": 407
        }
      ],
      "source": [
        "axs[2].set_ylabel(\"compression ratio\")\n",
        "axs[2].set_title(\"compression ratio of first 10 vs second 10 sec (q=8)\")"
      ]
    },
    {
      "cell_type": "code",
      "execution_count": 408,
      "id": "57a19082",
      "metadata": {
        "lines_to_next_cell": 0,
        "colab": {
          "base_uri": "https://localhost:8080/",
          "height": 585
        },
        "id": "57a19082",
        "outputId": "09dbeec2-79be-4055-8751-252ba3be40b7"
      },
      "outputs": [
        {
          "output_type": "execute_result",
          "data": {
            "text/plain": [
              "<Figure size 864x576 with 3 Axes>"
            ],
            "image/png": "[encoded data removed]"
          },
          "metadata": {},
          "execution_count": 408
        }
      ],
      "source": [
        "fig # will show figure in notebook, otherwise will do nothing"
      ]
    },
    {
      "cell_type": "markdown",
      "id": "c43186f9",
      "metadata": {
        "id": "c43186f9"
      },
      "source": [
        "Ok, that seems to make sense. compression ration (CR) via gzip compression can tell the difference between signals in some way.\n",
        "This was a really obvious difference as first 5 seconds is much more predictable than the second half of the signal.\n",
        "What about some initial comparions for different types of seizures?\n",
        "\n",
        "- will need to make a scanning function with moving window\n",
        "- find seizure times\n",
        "- start with the 3 example files"
      ]
    },
    {
      "cell_type": "code",
      "execution_count": 409,
      "id": "f6df85df",
      "metadata": {
        "lines_to_next_cell": 2,
        "colab": {
          "base_uri": "https://localhost:8080/",
          "height": 49
        },
        "id": "f6df85df",
        "outputId": "7dec7fdf-26c6-4fab-8f99-bd99dcb4d2b4"
      },
      "outputs": [
        {
          "output_type": "execute_result",
          "data": {
            "text/plain": [
              "Empty DataFrame\n",
              "Columns: [text, starts_sec, starts_100ns]\n",
              "Index: []"
            ],
            "text/html": [
              "\n",
              "  <div id=\"df-8ef09f6f-5e51-4569-87d4-6c162016b4fc\">\n",
              "    <div class=\"colab-df-container\">\n",
              "      <div>\n",
              "<style scoped>\n",
              "    .dataframe tbody tr th:only-of-type {\n",
              "        vertical-align: middle;\n",
              "    }\n",
              "\n",
              "    .dataframe tbody tr th {\n",
              "        vertical-align: top;\n",
              "    }\n",
              "\n",
              "    .dataframe thead th {\n",
              "        text-align: right;\n",
              "    }\n",
              "</style>\n",
              "<table border=\"1\" class=\"dataframe\">\n",
              "  <thead>\n",
              "    <tr style=\"text-align: right;\">\n",
              "      <th></th>\n",
              "      <th>text</th>\n",
              "      <th>starts_sec</th>\n",
              "      <th>starts_100ns</th>\n",
              "    </tr>\n",
              "  </thead>\n",
              "  <tbody>\n",
              "  </tbody>\n",
              "</table>\n",
              "</div>\n",
              "      <button class=\"colab-df-convert\" onclick=\"convertToInteractive('df-8ef09f6f-5e51-4569-87d4-6c162016b4fc')\"\n",
              "              title=\"Convert this dataframe to an interactive table.\"\n",
              "              style=\"display:none;\">\n",
              "        \n",
              "  <svg xmlns=\"http://www.w3.org/2000/svg\" height=\"24px\"viewBox=\"0 0 24 24\"\n",
              "       width=\"24px\">\n",
              "    <path d=\"M0 0h24v24H0V0z\" fill=\"none\"/>\n",
              "    <path d=\"M18.56 5.44l.94 2.06.94-2.06 2.06-.94-2.06-.94-.94-2.06-.94 2.06-2.06.94zm-11 1L8.5 8.5l.94-2.06 2.06-.94-2.06-.94L8.5 2.5l-.94 2.06-2.06.94zm10 10l.94 2.06.94-2.06 2.06-.94-2.06-.94-.94-2.06-.94 2.06-2.06.94z\"/><path d=\"M17.41 7.96l-1.37-1.37c-.4-.4-.92-.59-1.43-.59-.52 0-1.04.2-1.43.59L10.3 9.45l-7.72 7.72c-.78.78-.78 2.05 0 2.83L4 21.41c.39.39.9.59 1.41.59.51 0 1.02-.2 1.41-.59l7.78-7.78 2.81-2.81c.8-.78.8-2.07 0-2.86zM5.41 20L4 18.59l7.72-7.72 1.47 1.35L5.41 20z\"/>\n",
              "  </svg>\n",
              "      </button>\n",
              "      \n",
              "  <style>\n",
              "    .colab-df-container {\n",
              "      display:flex;\n",
              "      flex-wrap:wrap;\n",
              "      gap: 12px;\n",
              "    }\n",
              "\n",
              "    .colab-df-convert {\n",
              "      background-color: #E8F0FE;\n",
              "      border: none;\n",
              "      border-radius: 50%;\n",
              "      cursor: pointer;\n",
              "      display: none;\n",
              "      fill: #1967D2;\n",
              "      height: 32px;\n",
              "      padding: 0 0 0 0;\n",
              "      width: 32px;\n",
              "    }\n",
              "\n",
              "    .colab-df-convert:hover {\n",
              "      background-color: #E2EBFA;\n",
              "      box-shadow: 0px 1px 2px rgba(60, 64, 67, 0.3), 0px 1px 3px 1px rgba(60, 64, 67, 0.15);\n",
              "      fill: #174EA6;\n",
              "    }\n",
              "\n",
              "    [theme=dark] .colab-df-convert {\n",
              "      background-color: #3B4455;\n",
              "      fill: #D2E3FC;\n",
              "    }\n",
              "\n",
              "    [theme=dark] .colab-df-convert:hover {\n",
              "      background-color: #434B5C;\n",
              "      box-shadow: 0px 1px 3px 1px rgba(0, 0, 0, 0.15);\n",
              "      filter: drop-shadow(0px 1px 2px rgba(0, 0, 0, 0.3));\n",
              "      fill: #FFFFFF;\n",
              "    }\n",
              "  </style>\n",
              "\n",
              "      <script>\n",
              "        const buttonEl =\n",
              "          document.querySelector('#df-8ef09f6f-5e51-4569-87d4-6c162016b4fc button.colab-df-convert');\n",
              "        buttonEl.style.display =\n",
              "          google.colab.kernel.accessAllowed ? 'block' : 'none';\n",
              "\n",
              "        async function convertToInteractive(key) {\n",
              "          const element = document.querySelector('#df-8ef09f6f-5e51-4569-87d4-6c162016b4fc');\n",
              "          const dataTable =\n",
              "            await google.colab.kernel.invokeFunction('convertToInteractive',\n",
              "                                                     [key], {});\n",
              "          if (!dataTable) return;\n",
              "\n",
              "          const docLinkHtml = 'Like what you see? Visit the ' +\n",
              "            '<a target=\"_blank\" href=https://colab.research.google.com/notebooks/data_table.ipynb>data table notebook</a>'\n",
              "            + ' to learn more about interactive tables.';\n",
              "          element.innerHTML = '';\n",
              "          dataTable['output_type'] = 'display_data';\n",
              "          await google.colab.output.renderOutput(dataTable, element);\n",
              "          const docLink = document.createElement('div');\n",
              "          docLink.innerHTML = docLinkHtml;\n",
              "          element.appendChild(docLink);\n",
              "        }\n",
              "      </script>\n",
              "    </div>\n",
              "  </div>\n",
              "  "
            ]
          },
          "metadata": {},
          "execution_count": 409
        }
      ],
      "source": [
        "# where are the seizures?\n",
        "\n",
        "an_df = eeg.edf_annotations_df\n",
        "an_df\n",
        "an_df[an_df.text.str.contains(\"SZ|absence|spasm\",case= False,)]"
      ]
    },
    {
      "cell_type": "code",
      "execution_count": 410,
      "id": "bf0e6198",
      "metadata": {
        "colab": {
          "base_uri": "https://localhost:8080/",
          "height": 341
        },
        "id": "bf0e6198",
        "outputId": "54a7b9d6-63a2-4c2d-c5a8-00a7da865582"
      },
      "outputs": [
        {
          "output_type": "error",
          "ename": "IndexError",
          "evalue": "ignored",
          "traceback": [
            "\u001b[0;31m---------------------------------------------------------------------------\u001b[0m",
            "\u001b[0;31mIndexError\u001b[0m                                Traceback (most recent call last)",
            "\u001b[0;32m<ipython-input-410-10313ccb3f75>\u001b[0m in \u001b[0;36m<module>\u001b[0;34m\u001b[0m\n\u001b[1;32m      1\u001b[0m \u001b[0;31m# see that rows 86 and 88 mark a seizure, and rows 91 and 93 do the same\u001b[0m\u001b[0;34m\u001b[0m\u001b[0;34m\u001b[0m\u001b[0;34m\u001b[0m\u001b[0m\n\u001b[0;32m----> 2\u001b[0;31m \u001b[0man_df\u001b[0m\u001b[0;34m.\u001b[0m\u001b[0miloc\u001b[0m\u001b[0;34m[\u001b[0m\u001b[0;36m86\u001b[0m\u001b[0;34m]\u001b[0m\u001b[0;34m\u001b[0m\u001b[0;34m\u001b[0m\u001b[0m\n\u001b[0m",
            "\u001b[0;32m/usr/local/lib/python3.7/dist-packages/pandas/core/indexing.py\u001b[0m in \u001b[0;36m__getitem__\u001b[0;34m(self, key)\u001b[0m\n\u001b[1;32m    929\u001b[0m \u001b[0;34m\u001b[0m\u001b[0m\n\u001b[1;32m    930\u001b[0m             \u001b[0mmaybe_callable\u001b[0m \u001b[0;34m=\u001b[0m \u001b[0mcom\u001b[0m\u001b[0;34m.\u001b[0m\u001b[0mapply_if_callable\u001b[0m\u001b[0;34m(\u001b[0m\u001b[0mkey\u001b[0m\u001b[0;34m,\u001b[0m \u001b[0mself\u001b[0m\u001b[0;34m.\u001b[0m\u001b[0mobj\u001b[0m\u001b[0;34m)\u001b[0m\u001b[0;34m\u001b[0m\u001b[0;34m\u001b[0m\u001b[0m\n\u001b[0;32m--> 931\u001b[0;31m             \u001b[0;32mreturn\u001b[0m \u001b[0mself\u001b[0m\u001b[0;34m.\u001b[0m\u001b[0m_getitem_axis\u001b[0m\u001b[0;34m(\u001b[0m\u001b[0mmaybe_callable\u001b[0m\u001b[0;34m,\u001b[0m \u001b[0maxis\u001b[0m\u001b[0;34m=\u001b[0m\u001b[0maxis\u001b[0m\u001b[0;34m)\u001b[0m\u001b[0;34m\u001b[0m\u001b[0;34m\u001b[0m\u001b[0m\n\u001b[0m\u001b[1;32m    932\u001b[0m \u001b[0;34m\u001b[0m\u001b[0m\n\u001b[1;32m    933\u001b[0m     \u001b[0;32mdef\u001b[0m \u001b[0m_is_scalar_access\u001b[0m\u001b[0;34m(\u001b[0m\u001b[0mself\u001b[0m\u001b[0;34m,\u001b[0m \u001b[0mkey\u001b[0m\u001b[0;34m:\u001b[0m \u001b[0mtuple\u001b[0m\u001b[0;34m)\u001b[0m\u001b[0;34m:\u001b[0m\u001b[0;34m\u001b[0m\u001b[0;34m\u001b[0m\u001b[0m\n",
            "\u001b[0;32m/usr/local/lib/python3.7/dist-packages/pandas/core/indexing.py\u001b[0m in \u001b[0;36m_getitem_axis\u001b[0;34m(self, key, axis)\u001b[0m\n\u001b[1;32m   1564\u001b[0m \u001b[0;34m\u001b[0m\u001b[0m\n\u001b[1;32m   1565\u001b[0m             \u001b[0;31m# validate the location\u001b[0m\u001b[0;34m\u001b[0m\u001b[0;34m\u001b[0m\u001b[0;34m\u001b[0m\u001b[0m\n\u001b[0;32m-> 1566\u001b[0;31m             \u001b[0mself\u001b[0m\u001b[0;34m.\u001b[0m\u001b[0m_validate_integer\u001b[0m\u001b[0;34m(\u001b[0m\u001b[0mkey\u001b[0m\u001b[0;34m,\u001b[0m \u001b[0maxis\u001b[0m\u001b[0;34m)\u001b[0m\u001b[0;34m\u001b[0m\u001b[0;34m\u001b[0m\u001b[0m\n\u001b[0m\u001b[1;32m   1567\u001b[0m \u001b[0;34m\u001b[0m\u001b[0m\n\u001b[1;32m   1568\u001b[0m             \u001b[0;32mreturn\u001b[0m \u001b[0mself\u001b[0m\u001b[0;34m.\u001b[0m\u001b[0mobj\u001b[0m\u001b[0;34m.\u001b[0m\u001b[0m_ixs\u001b[0m\u001b[0;34m(\u001b[0m\u001b[0mkey\u001b[0m\u001b[0;34m,\u001b[0m \u001b[0maxis\u001b[0m\u001b[0;34m=\u001b[0m\u001b[0maxis\u001b[0m\u001b[0;34m)\u001b[0m\u001b[0;34m\u001b[0m\u001b[0;34m\u001b[0m\u001b[0m\n",
            "\u001b[0;32m/usr/local/lib/python3.7/dist-packages/pandas/core/indexing.py\u001b[0m in \u001b[0;36m_validate_integer\u001b[0;34m(self, key, axis)\u001b[0m\n\u001b[1;32m   1498\u001b[0m         \u001b[0mlen_axis\u001b[0m \u001b[0;34m=\u001b[0m \u001b[0mlen\u001b[0m\u001b[0;34m(\u001b[0m\u001b[0mself\u001b[0m\u001b[0;34m.\u001b[0m\u001b[0mobj\u001b[0m\u001b[0;34m.\u001b[0m\u001b[0m_get_axis\u001b[0m\u001b[0;34m(\u001b[0m\u001b[0maxis\u001b[0m\u001b[0;34m)\u001b[0m\u001b[0;34m)\u001b[0m\u001b[0;34m\u001b[0m\u001b[0;34m\u001b[0m\u001b[0m\n\u001b[1;32m   1499\u001b[0m         \u001b[0;32mif\u001b[0m \u001b[0mkey\u001b[0m \u001b[0;34m>=\u001b[0m \u001b[0mlen_axis\u001b[0m \u001b[0;32mor\u001b[0m \u001b[0mkey\u001b[0m \u001b[0;34m<\u001b[0m \u001b[0;34m-\u001b[0m\u001b[0mlen_axis\u001b[0m\u001b[0;34m:\u001b[0m\u001b[0;34m\u001b[0m\u001b[0;34m\u001b[0m\u001b[0m\n\u001b[0;32m-> 1500\u001b[0;31m             \u001b[0;32mraise\u001b[0m \u001b[0mIndexError\u001b[0m\u001b[0;34m(\u001b[0m\u001b[0;34m\"single positional indexer is out-of-bounds\"\u001b[0m\u001b[0;34m)\u001b[0m\u001b[0;34m\u001b[0m\u001b[0;34m\u001b[0m\u001b[0m\n\u001b[0m\u001b[1;32m   1501\u001b[0m \u001b[0;34m\u001b[0m\u001b[0m\n\u001b[1;32m   1502\u001b[0m     \u001b[0;31m# -------------------------------------------------------------------\u001b[0m\u001b[0;34m\u001b[0m\u001b[0;34m\u001b[0m\u001b[0;34m\u001b[0m\u001b[0m\n",
            "\u001b[0;31mIndexError\u001b[0m: single positional indexer is out-of-bounds"
          ]
        }
      ],
      "source": [
        "# see that rows 86 and 88 mark a seizure, and rows 91 and 93 do the same\n",
        "an_df.iloc[86]"
      ]
    },
    {
      "cell_type": "code",
      "execution_count": null,
      "id": "c1e69445",
      "metadata": {
        "id": "c1e69445"
      },
      "outputs": [],
      "source": [
        "sz_start_sec = an_df.iloc[86].starts_sec\n",
        "sz_stop_sec = an_df.iloc[88].starts_sec"
      ]
    },
    {
      "cell_type": "code",
      "execution_count": null,
      "id": "1de11400",
      "metadata": {
        "lines_to_next_cell": 2,
        "id": "1de11400"
      },
      "outputs": [],
      "source": [
        "surround_sec = 10.0  # sec\n",
        "epoch = [sz_start_sec - surround_sec, sz_stop_sec + surround_sec]"
      ]
    },
    {
      "cell_type": "code",
      "execution_count": null,
      "id": "7a5d6fa2",
      "metadata": {
        "id": "7a5d6fa2"
      },
      "outputs": [],
      "source": [
        "epocharr = eeg.rawsignals[\n",
        "    0:19, int(epoch[0] * sample_rate) : int(epoch[1] * sample_rate)\n",
        "]\n",
        "stacklineplot.stackplot(\n",
        "    epocharr, epoch[1] - epoch[0], start_time=0, yscale=2.0, topdown=True\n",
        ")"
      ]
    },
    {
      "cell_type": "code",
      "execution_count": null,
      "id": "0aecf3fa",
      "metadata": {
        "lines_to_next_cell": 0,
        "id": "0aecf3fa"
      },
      "outputs": [],
      "source": [
        "class ArrScanner:\n",
        "    \"\"\"take data in numpy array form or arr-like\n",
        "    break it up into small windows of size window_size samples\n",
        "    apply model_callable\"\"\"\n",
        "    def __init__(\n",
        "        self,\n",
        "        model_callable,\n",
        "        data,  # 2D shape (n_chan, n_samples) np array-like: [np.ndarray | Any], #\n",
        "        window_size: int, # num samples in window\n",
        "        batch_size: int, \n",
        "        model_dir: str = \"\",\n",
        "    ):\n",
        "        \"\"\"@arrlike\n",
        "        W - size of window in samples\n",
        "        @start sample\n",
        "        @stop sample\n",
        "        \"\"\"\n",
        "        self.model_callable = model_callable\n",
        "        self.window_size = window_size\n",
        "        self.batch_size = batch_size\n",
        "        self.model_dir = model_dir\n",
        "        # not using data\n",
        "        \n",
        "    def evaluate_model(self, data_arr):\n",
        "        \"\"\"divide the data array @data_arr\n",
        "        data_arr.shape is (num_chan, n_sample)\n",
        "        non-overlapping windows\n",
        "\n",
        "        \"\"\"\n",
        "        start_samp = 0\n",
        "        end_samp = data_arr.shape[1]\n",
        "        \n",
        "        # whole number of windows in data_arr\n",
        "        n_windows = end_samp//self.window_size\n",
        "        W = self.window_size\n",
        "        model = self.model_callable\n",
        "        out = [ model(data_arr[:,nn*W:(nn+1)*W]) for nn in range(n_windows)]\n",
        "            \n",
        "        return np.array(out,dtype=np.float64)"
      ]
    },
    {
      "cell_type": "markdown",
      "id": "d1f121b8",
      "metadata": {
        "id": "d1f121b8"
      },
      "source": [
        "an_df.iloc[86]"
      ]
    },
    {
      "cell_type": "markdown",
      "id": "4d3c0d3c",
      "metadata": {
        "lines_to_next_cell": 0,
        "id": "4d3c0d3c"
      },
      "source": [
        "\n",
        "epocharr.shape"
      ]
    },
    {
      "cell_type": "code",
      "execution_count": null,
      "id": "68ac68ce",
      "metadata": {
        "lines_to_next_cell": 0,
        "id": "68ac68ce"
      },
      "outputs": [],
      "source": [
        "ratios = compress_ratio_2d(epocharr, quant=10)"
      ]
    },
    {
      "cell_type": "code",
      "execution_count": null,
      "id": "63adce8e",
      "metadata": {
        "lines_to_next_cell": 0,
        "id": "63adce8e"
      },
      "outputs": [],
      "source": [
        "# sarr.min(), sarr.max()"
      ]
    },
    {
      "cell_type": "code",
      "execution_count": null,
      "id": "3b178e2b",
      "metadata": {
        "id": "3b178e2b"
      },
      "outputs": [],
      "source": [
        "test_epoch = epocharr[0:2,:]\n",
        "window_size_sec = 1\n",
        "epoch_size_sec = test_epoch.shape[1]/sample_rate\n",
        "\n",
        "scanner = ArrScanner(compress_ratio_2d, test_epoch, \n",
        "                     int(window_size_sec*sample_rate),1)"
      ]
    },
    {
      "cell_type": "code",
      "execution_count": null,
      "id": "077f9370",
      "metadata": {
        "lines_to_next_cell": 0,
        "id": "077f9370"
      },
      "outputs": [],
      "source": [
        "res = scanner.evaluate_model(test_epoch)"
      ]
    },
    {
      "cell_type": "code",
      "execution_count": null,
      "id": "46d27465",
      "metadata": {
        "lines_to_next_cell": 0,
        "id": "46d27465"
      },
      "outputs": [],
      "source": [
        "res"
      ]
    },
    {
      "cell_type": "code",
      "execution_count": null,
      "id": "477e86b3",
      "metadata": {
        "lines_to_next_cell": 0,
        "id": "477e86b3"
      },
      "outputs": [],
      "source": [
        "fig = plt.Figure()\n",
        "axs = fig.subplots(2,1)\n",
        "stacklineplot.stackplot(test_epoch, seconds=epoch_size_sec,ax=axs[0], topdown=True)\n",
        "axs[1].plot(np.arange(0,len(res))*epoch_size_sec/len(res), res)\n",
        "axs[1].set_xmargin(0)\n",
        "axs[1].set_xlabel(f\"compression ration (window={window_size_sec} sec)\")\n",
        "fig"
      ]
    },
    {
      "cell_type": "code",
      "execution_count": null,
      "id": "0e9eaf4e",
      "metadata": {
        "lines_to_next_cell": 0,
        "id": "0e9eaf4e"
      },
      "outputs": [],
      "source": []
    },
    {
      "cell_type": "code",
      "execution_count": null,
      "id": "3d5e7de7",
      "metadata": {
        "id": "3d5e7de7"
      },
      "outputs": [],
      "source": []
    },
    {
      "cell_type": "code",
      "execution_count": null,
      "id": "cbcb0ca3",
      "metadata": {
        "id": "cbcb0ca3"
      },
      "outputs": [],
      "source": []
    }
  ],
  "metadata": {
    "jupytext": {
      "cell_metadata_filter": "title,-all",
      "main_language": "python",
      "notebook_metadata_filter": "-all"
    },
    "kernelspec": {
      "display_name": "Python 3.9.5 ('pyt181')",
      "language": "python",
      "name": "python3"
    },
    "language_info": {
      "codemirror_mode": {
        "name": "ipython",
        "version": 3
      },
      "file_extension": ".py",
      "mimetype": "text/x-python",
      "name": "python",
      "nbconvert_exporter": "python",
      "pygments_lexer": "ipython3",
      "version": "3.9.5"
    },
    "vscode": {
      "interpreter": {
        "hash": "365e5a8e0e95f7c2627702b35adc37eb59626da698389ce5d4e874a9194d71ff"
      }
    },
    "colab": {
      "name": "Copy of compress -experimentsipynb",
      "provenance": [],
      "collapsed_sections": [],
      "include_colab_link": true
    }
  },
  "nbformat": 4,
  "nbformat_minor": 5
}