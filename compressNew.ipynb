{
  "cells": [
    {
      "cell_type": "markdown",
      "metadata": {
        "id": "view-in-github",
        "colab_type": "text"
      },
      "source": [
        "<a href=\"https://colab.research.google.com/github/TheClassicTechno/eegmlJH/blob/main/compressNew.ipynb\" target=\"_parent\"><img src=\"https://colab.research.google.com/assets/colab-badge.svg\" alt=\"Open In Colab\"/></a>"
      ]
    },
    {
      "cell_type": "code",
      "source": [
        "!pip install eeghdf\n",
        "\n",
        "!git clone https://github.com/eegml/eeghdf.git \n",
        "!cd eeghdf\n",
        "\n"
      ],
      "metadata": {
        "colab": {
          "base_uri": "https://localhost:8080/"
        },
        "id": "RcUnboGerHyK",
        "outputId": "7fd485e7-db9d-4d06-dac0-72db02572306"
      },
      "id": "RcUnboGerHyK",
      "execution_count": 13,
      "outputs": [
        {
          "output_type": "stream",
          "name": "stdout",
          "text": [
            "Looking in indexes: https://pypi.org/simple, https://us-python.pkg.dev/colab-wheels/public/simple/\n",
            "Requirement already satisfied: eeghdf in /usr/local/lib/python3.7/dist-packages (0.2.4)\n",
            "Requirement already satisfied: future in /usr/local/lib/python3.7/dist-packages (from eeghdf) (0.16.0)\n",
            "Requirement already satisfied: pandas in /usr/local/lib/python3.7/dist-packages (from eeghdf) (1.3.5)\n",
            "Requirement already satisfied: numpy in /usr/local/lib/python3.7/dist-packages (from eeghdf) (1.21.6)\n",
            "Requirement already satisfied: h5py in /usr/local/lib/python3.7/dist-packages (from eeghdf) (3.1.0)\n",
            "Requirement already satisfied: cached-property in /usr/local/lib/python3.7/dist-packages (from h5py->eeghdf) (1.5.2)\n",
            "Requirement already satisfied: python-dateutil>=2.7.3 in /usr/local/lib/python3.7/dist-packages (from pandas->eeghdf) (2.8.2)\n",
            "Requirement already satisfied: pytz>=2017.3 in /usr/local/lib/python3.7/dist-packages (from pandas->eeghdf) (2022.2.1)\n",
            "Requirement already satisfied: six>=1.5 in /usr/local/lib/python3.7/dist-packages (from python-dateutil>=2.7.3->pandas->eeghdf) (1.15.0)\n",
            "fatal: destination path 'eeghdf' already exists and is not an empty directory.\n"
          ]
        }
      ]
    },
    {
      "cell_type": "code",
      "source": [
        "%pip install ipywidgets \n",
        "%pip install widgetsnbextension\n",
        "\n"
      ],
      "metadata": {
        "colab": {
          "base_uri": "https://localhost:8080/"
        },
        "id": "tVY-D-yop7Es",
        "outputId": "b51c33f9-8939-48b5-8d7f-2e8a603aafaf"
      },
      "id": "tVY-D-yop7Es",
      "execution_count": 9,
      "outputs": [
        {
          "output_type": "stream",
          "name": "stdout",
          "text": [
            "Looking in indexes: https://pypi.org/simple, https://us-python.pkg.dev/colab-wheels/public/simple/\n",
            "Requirement already satisfied: ipywidgets in /usr/local/lib/python3.7/dist-packages (7.7.1)\n",
            "Requirement already satisfied: ipython-genutils~=0.2.0 in /usr/local/lib/python3.7/dist-packages (from ipywidgets) (0.2.0)\n",
            "Requirement already satisfied: widgetsnbextension~=3.6.0 in /usr/local/lib/python3.7/dist-packages (from ipywidgets) (3.6.1)\n",
            "Requirement already satisfied: traitlets>=4.3.1 in /usr/local/lib/python3.7/dist-packages (from ipywidgets) (5.1.1)\n",
            "Requirement already satisfied: ipython>=4.0.0 in /usr/local/lib/python3.7/dist-packages (from ipywidgets) (7.9.0)\n",
            "Requirement already satisfied: jupyterlab-widgets>=1.0.0 in /usr/local/lib/python3.7/dist-packages (from ipywidgets) (3.0.2)\n",
            "Requirement already satisfied: ipykernel>=4.5.1 in /usr/local/lib/python3.7/dist-packages (from ipywidgets) (5.3.4)\n",
            "Requirement already satisfied: jupyter-client in /usr/local/lib/python3.7/dist-packages (from ipykernel>=4.5.1->ipywidgets) (6.1.12)\n",
            "Requirement already satisfied: tornado>=4.2 in /usr/local/lib/python3.7/dist-packages (from ipykernel>=4.5.1->ipywidgets) (5.1.1)\n",
            "Requirement already satisfied: setuptools>=18.5 in /usr/local/lib/python3.7/dist-packages (from ipython>=4.0.0->ipywidgets) (57.4.0)\n",
            "Requirement already satisfied: backcall in /usr/local/lib/python3.7/dist-packages (from ipython>=4.0.0->ipywidgets) (0.2.0)\n",
            "Requirement already satisfied: pexpect in /usr/local/lib/python3.7/dist-packages (from ipython>=4.0.0->ipywidgets) (4.8.0)\n",
            "Requirement already satisfied: pygments in /usr/local/lib/python3.7/dist-packages (from ipython>=4.0.0->ipywidgets) (2.6.1)\n",
            "Requirement already satisfied: pickleshare in /usr/local/lib/python3.7/dist-packages (from ipython>=4.0.0->ipywidgets) (0.7.5)\n",
            "Requirement already satisfied: decorator in /usr/local/lib/python3.7/dist-packages (from ipython>=4.0.0->ipywidgets) (4.4.2)\n",
            "Requirement already satisfied: prompt-toolkit<2.1.0,>=2.0.0 in /usr/local/lib/python3.7/dist-packages (from ipython>=4.0.0->ipywidgets) (2.0.10)\n",
            "Requirement already satisfied: jedi>=0.10 in /usr/local/lib/python3.7/dist-packages (from ipython>=4.0.0->ipywidgets) (0.18.1)\n",
            "Requirement already satisfied: parso<0.9.0,>=0.8.0 in /usr/local/lib/python3.7/dist-packages (from jedi>=0.10->ipython>=4.0.0->ipywidgets) (0.8.3)\n",
            "Requirement already satisfied: wcwidth in /usr/local/lib/python3.7/dist-packages (from prompt-toolkit<2.1.0,>=2.0.0->ipython>=4.0.0->ipywidgets) (0.2.5)\n",
            "Requirement already satisfied: six>=1.9.0 in /usr/local/lib/python3.7/dist-packages (from prompt-toolkit<2.1.0,>=2.0.0->ipython>=4.0.0->ipywidgets) (1.15.0)\n",
            "Requirement already satisfied: notebook>=4.4.1 in /usr/local/lib/python3.7/dist-packages (from widgetsnbextension~=3.6.0->ipywidgets) (5.3.1)\n",
            "Requirement already satisfied: nbconvert in /usr/local/lib/python3.7/dist-packages (from notebook>=4.4.1->widgetsnbextension~=3.6.0->ipywidgets) (5.6.1)\n",
            "Requirement already satisfied: Send2Trash in /usr/local/lib/python3.7/dist-packages (from notebook>=4.4.1->widgetsnbextension~=3.6.0->ipywidgets) (1.8.0)\n",
            "Requirement already satisfied: nbformat in /usr/local/lib/python3.7/dist-packages (from notebook>=4.4.1->widgetsnbextension~=3.6.0->ipywidgets) (5.4.0)\n",
            "Requirement already satisfied: terminado>=0.8.1 in /usr/local/lib/python3.7/dist-packages (from notebook>=4.4.1->widgetsnbextension~=3.6.0->ipywidgets) (0.13.3)\n",
            "Requirement already satisfied: jupyter-core>=4.4.0 in /usr/local/lib/python3.7/dist-packages (from notebook>=4.4.1->widgetsnbextension~=3.6.0->ipywidgets) (4.11.1)\n",
            "Requirement already satisfied: jinja2 in /usr/local/lib/python3.7/dist-packages (from notebook>=4.4.1->widgetsnbextension~=3.6.0->ipywidgets) (2.11.3)\n",
            "Requirement already satisfied: python-dateutil>=2.1 in /usr/local/lib/python3.7/dist-packages (from jupyter-client->ipykernel>=4.5.1->ipywidgets) (2.8.2)\n",
            "Requirement already satisfied: pyzmq>=13 in /usr/local/lib/python3.7/dist-packages (from jupyter-client->ipykernel>=4.5.1->ipywidgets) (23.2.1)\n",
            "Requirement already satisfied: ptyprocess in /usr/local/lib/python3.7/dist-packages (from terminado>=0.8.1->notebook>=4.4.1->widgetsnbextension~=3.6.0->ipywidgets) (0.7.0)\n",
            "Requirement already satisfied: MarkupSafe>=0.23 in /usr/local/lib/python3.7/dist-packages (from jinja2->notebook>=4.4.1->widgetsnbextension~=3.6.0->ipywidgets) (2.0.1)\n",
            "Requirement already satisfied: pandocfilters>=1.4.1 in /usr/local/lib/python3.7/dist-packages (from nbconvert->notebook>=4.4.1->widgetsnbextension~=3.6.0->ipywidgets) (1.5.0)\n",
            "Requirement already satisfied: testpath in /usr/local/lib/python3.7/dist-packages (from nbconvert->notebook>=4.4.1->widgetsnbextension~=3.6.0->ipywidgets) (0.6.0)\n",
            "Requirement already satisfied: bleach in /usr/local/lib/python3.7/dist-packages (from nbconvert->notebook>=4.4.1->widgetsnbextension~=3.6.0->ipywidgets) (5.0.1)\n",
            "Requirement already satisfied: entrypoints>=0.2.2 in /usr/local/lib/python3.7/dist-packages (from nbconvert->notebook>=4.4.1->widgetsnbextension~=3.6.0->ipywidgets) (0.4)\n",
            "Requirement already satisfied: mistune<2,>=0.8.1 in /usr/local/lib/python3.7/dist-packages (from nbconvert->notebook>=4.4.1->widgetsnbextension~=3.6.0->ipywidgets) (0.8.4)\n",
            "Requirement already satisfied: defusedxml in /usr/local/lib/python3.7/dist-packages (from nbconvert->notebook>=4.4.1->widgetsnbextension~=3.6.0->ipywidgets) (0.7.1)\n",
            "Requirement already satisfied: fastjsonschema in /usr/local/lib/python3.7/dist-packages (from nbformat->notebook>=4.4.1->widgetsnbextension~=3.6.0->ipywidgets) (2.16.1)\n",
            "Requirement already satisfied: jsonschema>=2.6 in /usr/local/lib/python3.7/dist-packages (from nbformat->notebook>=4.4.1->widgetsnbextension~=3.6.0->ipywidgets) (4.3.3)\n",
            "Requirement already satisfied: importlib-resources>=1.4.0 in /usr/local/lib/python3.7/dist-packages (from jsonschema>=2.6->nbformat->notebook>=4.4.1->widgetsnbextension~=3.6.0->ipywidgets) (5.9.0)\n",
            "Requirement already satisfied: typing-extensions in /usr/local/lib/python3.7/dist-packages (from jsonschema>=2.6->nbformat->notebook>=4.4.1->widgetsnbextension~=3.6.0->ipywidgets) (4.1.1)\n",
            "Requirement already satisfied: attrs>=17.4.0 in /usr/local/lib/python3.7/dist-packages (from jsonschema>=2.6->nbformat->notebook>=4.4.1->widgetsnbextension~=3.6.0->ipywidgets) (22.1.0)\n",
            "Requirement already satisfied: pyrsistent!=0.17.0,!=0.17.1,!=0.17.2,>=0.14.0 in /usr/local/lib/python3.7/dist-packages (from jsonschema>=2.6->nbformat->notebook>=4.4.1->widgetsnbextension~=3.6.0->ipywidgets) (0.18.1)\n",
            "Requirement already satisfied: importlib-metadata in /usr/local/lib/python3.7/dist-packages (from jsonschema>=2.6->nbformat->notebook>=4.4.1->widgetsnbextension~=3.6.0->ipywidgets) (4.12.0)\n",
            "Requirement already satisfied: zipp>=3.1.0 in /usr/local/lib/python3.7/dist-packages (from importlib-resources>=1.4.0->jsonschema>=2.6->nbformat->notebook>=4.4.1->widgetsnbextension~=3.6.0->ipywidgets) (3.8.1)\n",
            "Requirement already satisfied: webencodings in /usr/local/lib/python3.7/dist-packages (from bleach->nbconvert->notebook>=4.4.1->widgetsnbextension~=3.6.0->ipywidgets) (0.5.1)\n",
            "Looking in indexes: https://pypi.org/simple, https://us-python.pkg.dev/colab-wheels/public/simple/\n",
            "Requirement already satisfied: widgetsnbextension in /usr/local/lib/python3.7/dist-packages (3.6.1)\n",
            "Requirement already satisfied: notebook>=4.4.1 in /usr/local/lib/python3.7/dist-packages (from widgetsnbextension) (5.3.1)\n",
            "Requirement already satisfied: Send2Trash in /usr/local/lib/python3.7/dist-packages (from notebook>=4.4.1->widgetsnbextension) (1.8.0)\n",
            "Requirement already satisfied: jinja2 in /usr/local/lib/python3.7/dist-packages (from notebook>=4.4.1->widgetsnbextension) (2.11.3)\n",
            "Requirement already satisfied: nbconvert in /usr/local/lib/python3.7/dist-packages (from notebook>=4.4.1->widgetsnbextension) (5.6.1)\n",
            "Requirement already satisfied: nbformat in /usr/local/lib/python3.7/dist-packages (from notebook>=4.4.1->widgetsnbextension) (5.4.0)\n",
            "Requirement already satisfied: ipython-genutils in /usr/local/lib/python3.7/dist-packages (from notebook>=4.4.1->widgetsnbextension) (0.2.0)\n",
            "Requirement already satisfied: tornado>=4 in /usr/local/lib/python3.7/dist-packages (from notebook>=4.4.1->widgetsnbextension) (5.1.1)\n",
            "Requirement already satisfied: traitlets>=4.2.1 in /usr/local/lib/python3.7/dist-packages (from notebook>=4.4.1->widgetsnbextension) (5.1.1)\n",
            "Requirement already satisfied: terminado>=0.8.1 in /usr/local/lib/python3.7/dist-packages (from notebook>=4.4.1->widgetsnbextension) (0.13.3)\n",
            "Requirement already satisfied: jupyter-client>=5.2.0 in /usr/local/lib/python3.7/dist-packages (from notebook>=4.4.1->widgetsnbextension) (6.1.12)\n",
            "Requirement already satisfied: jupyter-core>=4.4.0 in /usr/local/lib/python3.7/dist-packages (from notebook>=4.4.1->widgetsnbextension) (4.11.1)\n",
            "Requirement already satisfied: ipykernel in /usr/local/lib/python3.7/dist-packages (from notebook>=4.4.1->widgetsnbextension) (5.3.4)\n",
            "Requirement already satisfied: pyzmq>=13 in /usr/local/lib/python3.7/dist-packages (from jupyter-client>=5.2.0->notebook>=4.4.1->widgetsnbextension) (23.2.1)\n",
            "Requirement already satisfied: python-dateutil>=2.1 in /usr/local/lib/python3.7/dist-packages (from jupyter-client>=5.2.0->notebook>=4.4.1->widgetsnbextension) (2.8.2)\n",
            "Requirement already satisfied: six>=1.5 in /usr/local/lib/python3.7/dist-packages (from python-dateutil>=2.1->jupyter-client>=5.2.0->notebook>=4.4.1->widgetsnbextension) (1.15.0)\n",
            "Requirement already satisfied: ptyprocess in /usr/local/lib/python3.7/dist-packages (from terminado>=0.8.1->notebook>=4.4.1->widgetsnbextension) (0.7.0)\n",
            "Requirement already satisfied: ipython>=5.0.0 in /usr/local/lib/python3.7/dist-packages (from ipykernel->notebook>=4.4.1->widgetsnbextension) (7.9.0)\n",
            "Requirement already satisfied: decorator in /usr/local/lib/python3.7/dist-packages (from ipython>=5.0.0->ipykernel->notebook>=4.4.1->widgetsnbextension) (4.4.2)\n",
            "Requirement already satisfied: backcall in /usr/local/lib/python3.7/dist-packages (from ipython>=5.0.0->ipykernel->notebook>=4.4.1->widgetsnbextension) (0.2.0)\n",
            "Requirement already satisfied: pickleshare in /usr/local/lib/python3.7/dist-packages (from ipython>=5.0.0->ipykernel->notebook>=4.4.1->widgetsnbextension) (0.7.5)\n",
            "Requirement already satisfied: pexpect in /usr/local/lib/python3.7/dist-packages (from ipython>=5.0.0->ipykernel->notebook>=4.4.1->widgetsnbextension) (4.8.0)\n",
            "Requirement already satisfied: setuptools>=18.5 in /usr/local/lib/python3.7/dist-packages (from ipython>=5.0.0->ipykernel->notebook>=4.4.1->widgetsnbextension) (57.4.0)\n",
            "Requirement already satisfied: jedi>=0.10 in /usr/local/lib/python3.7/dist-packages (from ipython>=5.0.0->ipykernel->notebook>=4.4.1->widgetsnbextension) (0.18.1)\n",
            "Requirement already satisfied: pygments in /usr/local/lib/python3.7/dist-packages (from ipython>=5.0.0->ipykernel->notebook>=4.4.1->widgetsnbextension) (2.6.1)\n",
            "Requirement already satisfied: prompt-toolkit<2.1.0,>=2.0.0 in /usr/local/lib/python3.7/dist-packages (from ipython>=5.0.0->ipykernel->notebook>=4.4.1->widgetsnbextension) (2.0.10)\n",
            "Requirement already satisfied: parso<0.9.0,>=0.8.0 in /usr/local/lib/python3.7/dist-packages (from jedi>=0.10->ipython>=5.0.0->ipykernel->notebook>=4.4.1->widgetsnbextension) (0.8.3)\n",
            "Requirement already satisfied: wcwidth in /usr/local/lib/python3.7/dist-packages (from prompt-toolkit<2.1.0,>=2.0.0->ipython>=5.0.0->ipykernel->notebook>=4.4.1->widgetsnbextension) (0.2.5)\n",
            "Requirement already satisfied: MarkupSafe>=0.23 in /usr/local/lib/python3.7/dist-packages (from jinja2->notebook>=4.4.1->widgetsnbextension) (2.0.1)\n",
            "Requirement already satisfied: testpath in /usr/local/lib/python3.7/dist-packages (from nbconvert->notebook>=4.4.1->widgetsnbextension) (0.6.0)\n",
            "Requirement already satisfied: mistune<2,>=0.8.1 in /usr/local/lib/python3.7/dist-packages (from nbconvert->notebook>=4.4.1->widgetsnbextension) (0.8.4)\n",
            "Requirement already satisfied: entrypoints>=0.2.2 in /usr/local/lib/python3.7/dist-packages (from nbconvert->notebook>=4.4.1->widgetsnbextension) (0.4)\n",
            "Requirement already satisfied: defusedxml in /usr/local/lib/python3.7/dist-packages (from nbconvert->notebook>=4.4.1->widgetsnbextension) (0.7.1)\n",
            "Requirement already satisfied: pandocfilters>=1.4.1 in /usr/local/lib/python3.7/dist-packages (from nbconvert->notebook>=4.4.1->widgetsnbextension) (1.5.0)\n",
            "Requirement already satisfied: bleach in /usr/local/lib/python3.7/dist-packages (from nbconvert->notebook>=4.4.1->widgetsnbextension) (5.0.1)\n",
            "Requirement already satisfied: jsonschema>=2.6 in /usr/local/lib/python3.7/dist-packages (from nbformat->notebook>=4.4.1->widgetsnbextension) (4.3.3)\n",
            "Requirement already satisfied: fastjsonschema in /usr/local/lib/python3.7/dist-packages (from nbformat->notebook>=4.4.1->widgetsnbextension) (2.16.1)\n",
            "Requirement already satisfied: importlib-metadata in /usr/local/lib/python3.7/dist-packages (from jsonschema>=2.6->nbformat->notebook>=4.4.1->widgetsnbextension) (4.12.0)\n",
            "Requirement already satisfied: typing-extensions in /usr/local/lib/python3.7/dist-packages (from jsonschema>=2.6->nbformat->notebook>=4.4.1->widgetsnbextension) (4.1.1)\n",
            "Requirement already satisfied: importlib-resources>=1.4.0 in /usr/local/lib/python3.7/dist-packages (from jsonschema>=2.6->nbformat->notebook>=4.4.1->widgetsnbextension) (5.9.0)\n",
            "Requirement already satisfied: pyrsistent!=0.17.0,!=0.17.1,!=0.17.2,>=0.14.0 in /usr/local/lib/python3.7/dist-packages (from jsonschema>=2.6->nbformat->notebook>=4.4.1->widgetsnbextension) (0.18.1)\n",
            "Requirement already satisfied: attrs>=17.4.0 in /usr/local/lib/python3.7/dist-packages (from jsonschema>=2.6->nbformat->notebook>=4.4.1->widgetsnbextension) (22.1.0)\n",
            "Requirement already satisfied: zipp>=3.1.0 in /usr/local/lib/python3.7/dist-packages (from importlib-resources>=1.4.0->jsonschema>=2.6->nbformat->notebook>=4.4.1->widgetsnbextension) (3.8.1)\n",
            "Requirement already satisfied: webencodings in /usr/local/lib/python3.7/dist-packages (from bleach->nbconvert->notebook>=4.4.1->widgetsnbextension) (0.5.1)\n",
            "Looking in indexes: https://pypi.org/simple, https://us-python.pkg.dev/colab-wheels/public/simple/\n",
            "Collecting git+https://github.com/eegml/eeghdf.git\n",
            "  Cloning https://github.com/eegml/eeghdf.git to /tmp/pip-req-build-2p9fnnc3\n",
            "  Running command git clone -q https://github.com/eegml/eeghdf.git /tmp/pip-req-build-2p9fnnc3\n",
            "  Installing build dependencies ... \u001b[?25l\u001b[?25hdone\n",
            "  Getting requirements to build wheel ... \u001b[?25l\u001b[?25hdone\n",
            "    Preparing wheel metadata ... \u001b[?25l\u001b[?25hdone\n",
            "Requirement already satisfied: h5py in /usr/local/lib/python3.7/dist-packages (from eeghdf==0.2.4) (3.1.0)\n",
            "Requirement already satisfied: future in /usr/local/lib/python3.7/dist-packages (from eeghdf==0.2.4) (0.16.0)\n",
            "Requirement already satisfied: numpy in /usr/local/lib/python3.7/dist-packages (from eeghdf==0.2.4) (1.21.6)\n",
            "Requirement already satisfied: pandas in /usr/local/lib/python3.7/dist-packages (from eeghdf==0.2.4) (1.3.5)\n",
            "Requirement already satisfied: cached-property in /usr/local/lib/python3.7/dist-packages (from h5py->eeghdf==0.2.4) (1.5.2)\n",
            "Requirement already satisfied: python-dateutil>=2.7.3 in /usr/local/lib/python3.7/dist-packages (from pandas->eeghdf==0.2.4) (2.8.2)\n",
            "Requirement already satisfied: pytz>=2017.3 in /usr/local/lib/python3.7/dist-packages (from pandas->eeghdf==0.2.4) (2022.2.1)\n",
            "Requirement already satisfied: six>=1.5 in /usr/local/lib/python3.7/dist-packages (from python-dateutil>=2.7.3->pandas->eeghdf==0.2.4) (1.15.0)\n",
            "[Errno 2] No such file or directory: 'eeghdf'\n",
            "/content\n"
          ]
        }
      ]
    },
    {
      "cell_type": "code",
      "source": [
        "\n",
        "!pip install git+https://github.com/eegml/eegvis.git\n",
        "\n",
        "!git clone https://github.com/eegml/eegvis.git\n",
        "!cd eegvis"
      ],
      "metadata": {
        "colab": {
          "base_uri": "https://localhost:8080/"
        },
        "id": "ao3jKe93p-sC",
        "outputId": "d7fdbb06-c7d7-4849-8c1a-c7b65e2cee7b"
      },
      "id": "ao3jKe93p-sC",
      "execution_count": 16,
      "outputs": [
        {
          "output_type": "stream",
          "name": "stdout",
          "text": [
            "Looking in indexes: https://pypi.org/simple, https://us-python.pkg.dev/colab-wheels/public/simple/\n",
            "Collecting git+https://github.com/eegml/eegvis.git\n",
            "  Cloning https://github.com/eegml/eegvis.git to /tmp/pip-req-build-kg79gkgo\n",
            "  Running command git clone -q https://github.com/eegml/eegvis.git /tmp/pip-req-build-kg79gkgo\n",
            "Requirement already satisfied: xarray in /usr/local/lib/python3.7/dist-packages (from eegvis==0.2.1) (0.20.2)\n",
            "Requirement already satisfied: ipywidgets>=7.0 in /usr/local/lib/python3.7/dist-packages (from eegvis==0.2.1) (7.7.1)\n",
            "Requirement already satisfied: bokeh>=0.12.16 in /usr/local/lib/python3.7/dist-packages (from eegvis==0.2.1) (2.3.3)\n",
            "Requirement already satisfied: matplotlib in /usr/local/lib/python3.7/dist-packages (from eegvis==0.2.1) (3.2.2)\n",
            "Requirement already satisfied: eeghdf in /usr/local/lib/python3.7/dist-packages (from eegvis==0.2.1) (0.2.4)\n",
            "Requirement already satisfied: pillow>=7.1.0 in /usr/local/lib/python3.7/dist-packages (from bokeh>=0.12.16->eegvis==0.2.1) (7.1.2)\n",
            "Requirement already satisfied: tornado>=5.1 in /usr/local/lib/python3.7/dist-packages (from bokeh>=0.12.16->eegvis==0.2.1) (5.1.1)\n",
            "Requirement already satisfied: python-dateutil>=2.1 in /usr/local/lib/python3.7/dist-packages (from bokeh>=0.12.16->eegvis==0.2.1) (2.8.2)\n",
            "Requirement already satisfied: Jinja2>=2.9 in /usr/local/lib/python3.7/dist-packages (from bokeh>=0.12.16->eegvis==0.2.1) (2.11.3)\n",
            "Requirement already satisfied: typing-extensions>=3.7.4 in /usr/local/lib/python3.7/dist-packages (from bokeh>=0.12.16->eegvis==0.2.1) (4.1.1)\n",
            "Requirement already satisfied: PyYAML>=3.10 in /usr/local/lib/python3.7/dist-packages (from bokeh>=0.12.16->eegvis==0.2.1) (6.0)\n",
            "Requirement already satisfied: packaging>=16.8 in /usr/local/lib/python3.7/dist-packages (from bokeh>=0.12.16->eegvis==0.2.1) (21.3)\n",
            "Requirement already satisfied: numpy>=1.11.3 in /usr/local/lib/python3.7/dist-packages (from bokeh>=0.12.16->eegvis==0.2.1) (1.21.6)\n",
            "Requirement already satisfied: jupyterlab-widgets>=1.0.0 in /usr/local/lib/python3.7/dist-packages (from ipywidgets>=7.0->eegvis==0.2.1) (3.0.2)\n",
            "Requirement already satisfied: traitlets>=4.3.1 in /usr/local/lib/python3.7/dist-packages (from ipywidgets>=7.0->eegvis==0.2.1) (5.1.1)\n",
            "Requirement already satisfied: widgetsnbextension~=3.6.0 in /usr/local/lib/python3.7/dist-packages (from ipywidgets>=7.0->eegvis==0.2.1) (3.6.1)\n",
            "Requirement already satisfied: ipython-genutils~=0.2.0 in /usr/local/lib/python3.7/dist-packages (from ipywidgets>=7.0->eegvis==0.2.1) (0.2.0)\n",
            "Requirement already satisfied: ipython>=4.0.0 in /usr/local/lib/python3.7/dist-packages (from ipywidgets>=7.0->eegvis==0.2.1) (7.9.0)\n",
            "Requirement already satisfied: ipykernel>=4.5.1 in /usr/local/lib/python3.7/dist-packages (from ipywidgets>=7.0->eegvis==0.2.1) (5.3.4)\n",
            "Requirement already satisfied: jupyter-client in /usr/local/lib/python3.7/dist-packages (from ipykernel>=4.5.1->ipywidgets>=7.0->eegvis==0.2.1) (6.1.12)\n",
            "Requirement already satisfied: jedi>=0.10 in /usr/local/lib/python3.7/dist-packages (from ipython>=4.0.0->ipywidgets>=7.0->eegvis==0.2.1) (0.18.1)\n",
            "Requirement already satisfied: pexpect in /usr/local/lib/python3.7/dist-packages (from ipython>=4.0.0->ipywidgets>=7.0->eegvis==0.2.1) (4.8.0)\n",
            "Requirement already satisfied: prompt-toolkit<2.1.0,>=2.0.0 in /usr/local/lib/python3.7/dist-packages (from ipython>=4.0.0->ipywidgets>=7.0->eegvis==0.2.1) (2.0.10)\n",
            "Requirement already satisfied: decorator in /usr/local/lib/python3.7/dist-packages (from ipython>=4.0.0->ipywidgets>=7.0->eegvis==0.2.1) (4.4.2)\n",
            "Requirement already satisfied: backcall in /usr/local/lib/python3.7/dist-packages (from ipython>=4.0.0->ipywidgets>=7.0->eegvis==0.2.1) (0.2.0)\n",
            "Requirement already satisfied: pickleshare in /usr/local/lib/python3.7/dist-packages (from ipython>=4.0.0->ipywidgets>=7.0->eegvis==0.2.1) (0.7.5)\n",
            "Requirement already satisfied: setuptools>=18.5 in /usr/local/lib/python3.7/dist-packages (from ipython>=4.0.0->ipywidgets>=7.0->eegvis==0.2.1) (57.4.0)\n",
            "Requirement already satisfied: pygments in /usr/local/lib/python3.7/dist-packages (from ipython>=4.0.0->ipywidgets>=7.0->eegvis==0.2.1) (2.6.1)\n",
            "Requirement already satisfied: parso<0.9.0,>=0.8.0 in /usr/local/lib/python3.7/dist-packages (from jedi>=0.10->ipython>=4.0.0->ipywidgets>=7.0->eegvis==0.2.1) (0.8.3)\n",
            "Requirement already satisfied: MarkupSafe>=0.23 in /usr/local/lib/python3.7/dist-packages (from Jinja2>=2.9->bokeh>=0.12.16->eegvis==0.2.1) (2.0.1)\n",
            "Requirement already satisfied: pyparsing!=3.0.5,>=2.0.2 in /usr/local/lib/python3.7/dist-packages (from packaging>=16.8->bokeh>=0.12.16->eegvis==0.2.1) (3.0.9)\n",
            "Requirement already satisfied: wcwidth in /usr/local/lib/python3.7/dist-packages (from prompt-toolkit<2.1.0,>=2.0.0->ipython>=4.0.0->ipywidgets>=7.0->eegvis==0.2.1) (0.2.5)\n",
            "Requirement already satisfied: six>=1.9.0 in /usr/local/lib/python3.7/dist-packages (from prompt-toolkit<2.1.0,>=2.0.0->ipython>=4.0.0->ipywidgets>=7.0->eegvis==0.2.1) (1.15.0)\n",
            "Requirement already satisfied: notebook>=4.4.1 in /usr/local/lib/python3.7/dist-packages (from widgetsnbextension~=3.6.0->ipywidgets>=7.0->eegvis==0.2.1) (5.3.1)\n",
            "Requirement already satisfied: Send2Trash in /usr/local/lib/python3.7/dist-packages (from notebook>=4.4.1->widgetsnbextension~=3.6.0->ipywidgets>=7.0->eegvis==0.2.1) (1.8.0)\n",
            "Requirement already satisfied: nbconvert in /usr/local/lib/python3.7/dist-packages (from notebook>=4.4.1->widgetsnbextension~=3.6.0->ipywidgets>=7.0->eegvis==0.2.1) (5.6.1)\n",
            "Requirement already satisfied: jupyter-core>=4.4.0 in /usr/local/lib/python3.7/dist-packages (from notebook>=4.4.1->widgetsnbextension~=3.6.0->ipywidgets>=7.0->eegvis==0.2.1) (4.11.1)\n",
            "Requirement already satisfied: terminado>=0.8.1 in /usr/local/lib/python3.7/dist-packages (from notebook>=4.4.1->widgetsnbextension~=3.6.0->ipywidgets>=7.0->eegvis==0.2.1) (0.13.3)\n",
            "Requirement already satisfied: nbformat in /usr/local/lib/python3.7/dist-packages (from notebook>=4.4.1->widgetsnbextension~=3.6.0->ipywidgets>=7.0->eegvis==0.2.1) (5.4.0)\n",
            "Requirement already satisfied: pyzmq>=13 in /usr/local/lib/python3.7/dist-packages (from jupyter-client->ipykernel>=4.5.1->ipywidgets>=7.0->eegvis==0.2.1) (23.2.1)\n",
            "Requirement already satisfied: ptyprocess in /usr/local/lib/python3.7/dist-packages (from terminado>=0.8.1->notebook>=4.4.1->widgetsnbextension~=3.6.0->ipywidgets>=7.0->eegvis==0.2.1) (0.7.0)\n",
            "Requirement already satisfied: pandas in /usr/local/lib/python3.7/dist-packages (from eeghdf->eegvis==0.2.1) (1.3.5)\n",
            "Requirement already satisfied: future in /usr/local/lib/python3.7/dist-packages (from eeghdf->eegvis==0.2.1) (0.16.0)\n",
            "Requirement already satisfied: h5py in /usr/local/lib/python3.7/dist-packages (from eeghdf->eegvis==0.2.1) (3.1.0)\n",
            "Requirement already satisfied: cached-property in /usr/local/lib/python3.7/dist-packages (from h5py->eeghdf->eegvis==0.2.1) (1.5.2)\n",
            "Requirement already satisfied: kiwisolver>=1.0.1 in /usr/local/lib/python3.7/dist-packages (from matplotlib->eegvis==0.2.1) (1.4.4)\n",
            "Requirement already satisfied: cycler>=0.10 in /usr/local/lib/python3.7/dist-packages (from matplotlib->eegvis==0.2.1) (0.11.0)\n",
            "Requirement already satisfied: testpath in /usr/local/lib/python3.7/dist-packages (from nbconvert->notebook>=4.4.1->widgetsnbextension~=3.6.0->ipywidgets>=7.0->eegvis==0.2.1) (0.6.0)\n",
            "Requirement already satisfied: defusedxml in /usr/local/lib/python3.7/dist-packages (from nbconvert->notebook>=4.4.1->widgetsnbextension~=3.6.0->ipywidgets>=7.0->eegvis==0.2.1) (0.7.1)\n",
            "Requirement already satisfied: pandocfilters>=1.4.1 in /usr/local/lib/python3.7/dist-packages (from nbconvert->notebook>=4.4.1->widgetsnbextension~=3.6.0->ipywidgets>=7.0->eegvis==0.2.1) (1.5.0)\n",
            "Requirement already satisfied: mistune<2,>=0.8.1 in /usr/local/lib/python3.7/dist-packages (from nbconvert->notebook>=4.4.1->widgetsnbextension~=3.6.0->ipywidgets>=7.0->eegvis==0.2.1) (0.8.4)\n",
            "Requirement already satisfied: bleach in /usr/local/lib/python3.7/dist-packages (from nbconvert->notebook>=4.4.1->widgetsnbextension~=3.6.0->ipywidgets>=7.0->eegvis==0.2.1) (5.0.1)\n",
            "Requirement already satisfied: entrypoints>=0.2.2 in /usr/local/lib/python3.7/dist-packages (from nbconvert->notebook>=4.4.1->widgetsnbextension~=3.6.0->ipywidgets>=7.0->eegvis==0.2.1) (0.4)\n",
            "Requirement already satisfied: fastjsonschema in /usr/local/lib/python3.7/dist-packages (from nbformat->notebook>=4.4.1->widgetsnbextension~=3.6.0->ipywidgets>=7.0->eegvis==0.2.1) (2.16.1)\n",
            "Requirement already satisfied: jsonschema>=2.6 in /usr/local/lib/python3.7/dist-packages (from nbformat->notebook>=4.4.1->widgetsnbextension~=3.6.0->ipywidgets>=7.0->eegvis==0.2.1) (4.3.3)\n",
            "Requirement already satisfied: attrs>=17.4.0 in /usr/local/lib/python3.7/dist-packages (from jsonschema>=2.6->nbformat->notebook>=4.4.1->widgetsnbextension~=3.6.0->ipywidgets>=7.0->eegvis==0.2.1) (22.1.0)\n",
            "Requirement already satisfied: importlib-metadata in /usr/local/lib/python3.7/dist-packages (from jsonschema>=2.6->nbformat->notebook>=4.4.1->widgetsnbextension~=3.6.0->ipywidgets>=7.0->eegvis==0.2.1) (4.12.0)\n",
            "Requirement already satisfied: pyrsistent!=0.17.0,!=0.17.1,!=0.17.2,>=0.14.0 in /usr/local/lib/python3.7/dist-packages (from jsonschema>=2.6->nbformat->notebook>=4.4.1->widgetsnbextension~=3.6.0->ipywidgets>=7.0->eegvis==0.2.1) (0.18.1)\n",
            "Requirement already satisfied: importlib-resources>=1.4.0 in /usr/local/lib/python3.7/dist-packages (from jsonschema>=2.6->nbformat->notebook>=4.4.1->widgetsnbextension~=3.6.0->ipywidgets>=7.0->eegvis==0.2.1) (5.9.0)\n",
            "Requirement already satisfied: zipp>=3.1.0 in /usr/local/lib/python3.7/dist-packages (from importlib-resources>=1.4.0->jsonschema>=2.6->nbformat->notebook>=4.4.1->widgetsnbextension~=3.6.0->ipywidgets>=7.0->eegvis==0.2.1) (3.8.1)\n",
            "Requirement already satisfied: webencodings in /usr/local/lib/python3.7/dist-packages (from bleach->nbconvert->notebook>=4.4.1->widgetsnbextension~=3.6.0->ipywidgets>=7.0->eegvis==0.2.1) (0.5.1)\n",
            "Requirement already satisfied: pytz>=2017.3 in /usr/local/lib/python3.7/dist-packages (from pandas->eeghdf->eegvis==0.2.1) (2022.2.1)\n",
            "Cloning into 'eegvis'...\n",
            "remote: Enumerating objects: 669, done.\u001b[K\n",
            "remote: Counting objects: 100% (85/85), done.\u001b[K\n",
            "remote: Compressing objects: 100% (57/57), done.\u001b[K\n",
            "remote: Total 669 (delta 52), reused 52 (delta 28), pack-reused 584\u001b[K\n",
            "Receiving objects: 100% (669/669), 5.77 MiB | 1.44 MiB/s, done.\n",
            "Resolving deltas: 100% (437/437), done.\n"
          ]
        }
      ]
    },
    {
      "cell_type": "code",
      "execution_count": 5,
      "id": "2e23cdcc",
      "metadata": {
        "title": "compressionratio",
        "id": "2e23cdcc"
      },
      "outputs": [],
      "source": [
        "# from bz2 import compress\n",
        "# from curses import window\n",
        "# from random import sample\n",
        "# from subprocess import CompletedProcess\n",
        "import eeghdf\n",
        "import gzip\n",
        "import numpy as np"
      ]
    },
    {
      "cell_type": "code",
      "execution_count": 6,
      "id": "f53c00f5",
      "metadata": {
        "lines_to_next_cell": 0,
        "id": "f53c00f5"
      },
      "outputs": [],
      "source": [
        "import matplotlib\n",
        "import matplotlib.pyplot as plt\n"
      ]
    },
    {
      "cell_type": "code",
      "execution_count": 7,
      "id": "a4030a58",
      "metadata": {
        "id": "a4030a58"
      },
      "outputs": [],
      "source": [
        "import eegvis.stacklineplot as stacklineplot"
      ]
    },
    {
      "cell_type": "code",
      "execution_count": 20,
      "id": "b08cfed5",
      "metadata": {
        "lines_to_next_cell": 0,
        "colab": {
          "base_uri": "https://localhost:8080/"
        },
        "id": "b08cfed5",
        "outputId": "a637d76f-6e3a-4bfd-f49d-734fc4c9c316"
      },
      "outputs": [
        {
          "output_type": "stream",
          "name": "stderr",
          "text": [
            "WARNING:root:record-0.attrs['studyadmincode'] not defined, likely opened a version 1 file\n"
          ]
        }
      ],
      "source": [
        "# configuration\n",
        "matplotlib.rcParams[\"figure.figsize\"] = (12.0, 8.0)\n",
        "# for new installs you will need to change DATADIR to point to appropriate folder\n",
        "DATADIR = \"/content/eeghdf/data\"\n",
        "\n",
        "EEGFILE = DATADIR + \"/absence_epilepsy.eeg.h5\"\n",
        "#eeg = eeghdf.Eeghdf(EEGFILE)\n",
        "\n",
        "eeg = eeghdf.Eeghdf(\"absence_epilepsy.eeg.h5\")"
      ]
    },
    {
      "cell_type": "code",
      "execution_count": 22,
      "id": "9aa28aae",
      "metadata": {
        "lines_to_next_cell": 0,
        "colab": {
          "base_uri": "https://localhost:8080/"
        },
        "id": "9aa28aae",
        "outputId": "01921f86-6cf8-402e-d96b-1d3184e3eda5"
      },
      "outputs": [
        {
          "output_type": "stream",
          "name": "stdout",
          "text": [
            "2000 0\n"
          ]
        }
      ],
      "source": [
        "sample_rate = eeg.sample_frequency\n",
        "N = int(sample_rate * 10)  # get 10 seconds of data\n",
        "sec_offset = 0\n",
        "offset = int(sample_rate * sec_offset)\n",
        "print(N, offset)"
      ]
    },
    {
      "cell_type": "code",
      "execution_count": 23,
      "id": "120a4432",
      "metadata": {
        "lines_to_next_cell": 0,
        "id": "120a4432"
      },
      "outputs": [],
      "source": [
        "\n",
        "first10 = eeg.rawsignals[0, offset : offset + N]  # returns a numpy array"
      ]
    },
    {
      "cell_type": "code",
      "execution_count": 24,
      "id": "81a45f82",
      "metadata": {
        "lines_to_next_cell": 0,
        "colab": {
          "base_uri": "https://localhost:8080/",
          "height": 207
        },
        "id": "81a45f82",
        "outputId": "a1f84aaa-ebc7-4fc9-834c-c0aea2f4221f"
      },
      "outputs": [
        {
          "output_type": "error",
          "ename": "TypeError",
          "evalue": "ignored",
          "traceback": [
            "\u001b[0;31m---------------------------------------------------------------------------\u001b[0m",
            "\u001b[0;31mTypeError\u001b[0m                                 Traceback (most recent call last)",
            "\u001b[0;32m<ipython-input-24-0a96dd51bd15>\u001b[0m in \u001b[0;36m<module>\u001b[0;34m\u001b[0m\n\u001b[1;32m      4\u001b[0m \u001b[0mdatabytes\u001b[0m \u001b[0;34m=\u001b[0m \u001b[0mbytes\u001b[0m\u001b[0;34m(\u001b[0m\u001b[0mdata\u001b[0m\u001b[0;34m)\u001b[0m\u001b[0;34m\u001b[0m\u001b[0;34m\u001b[0m\u001b[0m\n\u001b[1;32m      5\u001b[0m \u001b[0mres\u001b[0m \u001b[0;34m=\u001b[0m \u001b[0mgzip\u001b[0m\u001b[0;34m.\u001b[0m\u001b[0mcompress\u001b[0m\u001b[0;34m(\u001b[0m\u001b[0mdatabytes\u001b[0m\u001b[0;34m)\u001b[0m\u001b[0;34m\u001b[0m\u001b[0;34m\u001b[0m\u001b[0m\n\u001b[0;32m----> 6\u001b[0;31m \u001b[0mres\u001b[0m\u001b[0;34m.\u001b[0m\u001b[0mhex\u001b[0m\u001b[0;34m(\u001b[0m\u001b[0;34m' '\u001b[0m\u001b[0;34m)\u001b[0m\u001b[0;34m\u001b[0m\u001b[0;34m\u001b[0m\u001b[0m\n\u001b[0m",
            "\u001b[0;31mTypeError\u001b[0m: hex() takes no arguments (1 given)"
          ]
        }
      ],
      "source": [
        "# want to get the buffer reference to this array (???)\n",
        "\n",
        "data = first10.data  # or first10.get_buffer(...) if need a slice\n",
        "databytes = bytes(data)\n",
        "res = gzip.compress(databytes)\n",
        "res.hex(' ')"
      ]
    },
    {
      "cell_type": "code",
      "execution_count": 29,
      "id": "7f6a0026",
      "metadata": {
        "colab": {
          "base_uri": "https://localhost:8080/"
        },
        "id": "7f6a0026",
        "outputId": "b78ceefa-fd3c-40d2-a497-d5879e2f6d12"
      },
      "outputs": [
        {
          "output_type": "execute_result",
          "data": {
            "text/plain": [
              "3.02571860816944"
            ]
          },
          "metadata": {},
          "execution_count": 29
        }
      ],
      "source": [
        "\n",
        "c = len(res)\n",
        "ratio = len(databytes) / c\n",
        "ratio"
      ]
    },
    {
      "cell_type": "code",
      "execution_count": 30,
      "id": "8d24ffa1",
      "metadata": {
        "lines_to_next_cell": 1,
        "id": "8d24ffa1"
      },
      "outputs": [],
      "source": [
        "# now try shifting bits to quant\n",
        "\n",
        "\n",
        "def quant_to_bytes(n, arr):\n",
        "    arr = np.right_shift(arr, n)\n",
        "    data = arr.data\n",
        "    return bytes(data)\n",
        "\n",
        "\n",
        "def compress_ndarray(arr) -> bytes:\n",
        "    databytes = bytes(arr.data)  # arr.data is memory_view of arr\n",
        "    return gzip.compress(databytes)\n",
        "\n",
        "# todo, write an uncompress, to validate that this is loss-less compression\n",
        "\n",
        "\n",
        "def compress_ratio(arr, # expect initially 1D array\n",
        "                   quant=8):\n",
        "    \"\"\"takes arrlike @arr\n",
        "    quantitizes this to @quant bits\"\"\"\n",
        "    nbytes = arr.dtype.itemsize  # np.uint16(0).nbytes\n",
        "    nbits = 8 * nbytes\n",
        "    rshift = nbits - quant\n",
        "    shifted_arr = np.right_shift(arr, rshift)\n",
        "    shifted_arr_bytes = bytes(shifted_arr.data)\n",
        "    comp_arrbytes = gzip.compress(shifted_arr_bytes)\n",
        "\n",
        "    return len(shifted_arr_bytes) / len(comp_arrbytes)"
      ]
    },
    {
      "cell_type": "code",
      "execution_count": 25,
      "id": "6e37c08d",
      "metadata": {
        "lines_to_next_cell": 0,
        "id": "6e37c08d"
      },
      "outputs": [],
      "source": [
        "# test out np.right_shift on 2d arrays\n",
        "simple2d = np.array([[2000,1028, -200, 10, 65], [30000, -15000,7000,3500,1700] ], dtype=np.int16)"
      ]
    },
    {
      "cell_type": "markdown",
      "id": "8470b819",
      "metadata": {
        "id": "8470b819"
      },
      "source": [
        "```\n",
        "0 -> 0000 # base 2\n",
        "1 -> 0001\n",
        "2 -> 0010\n",
        "3 -> 0011\n",
        "```\n",
        "this leaves out how to represent negative numbers using two's complement\n"
      ]
    },
    {
      "cell_type": "code",
      "execution_count": 26,
      "id": "4ffba183",
      "metadata": {
        "lines_to_next_cell": 0,
        "colab": {
          "base_uri": "https://localhost:8080/"
        },
        "id": "4ffba183",
        "outputId": "88c02cd0-62ad-4794-8a27-0730049041e4"
      },
      "outputs": [
        {
          "output_type": "execute_result",
          "data": {
            "text/plain": [
              "array([[  2000,   1028,   -200,     10,     65],\n",
              "       [ 30000, -15000,   7000,   3500,   1700]], dtype=int16)"
            ]
          },
          "metadata": {},
          "execution_count": 26
        }
      ],
      "source": [
        "simple2d"
      ]
    },
    {
      "cell_type": "code",
      "execution_count": 27,
      "id": "fa0e780d",
      "metadata": {
        "lines_to_next_cell": 0,
        "colab": {
          "base_uri": "https://localhost:8080/"
        },
        "id": "fa0e780d",
        "outputId": "a329aa97-ba7f-45f6-d000-19c410a56587"
      },
      "outputs": [
        {
          "output_type": "execute_result",
          "data": {
            "text/plain": [
              "array([[ 125,   64,  -13,    0,    4],\n",
              "       [1875, -938,  437,  218,  106]], dtype=int16)"
            ]
          },
          "metadata": {},
          "execution_count": 27
        }
      ],
      "source": [
        "np.right_shift(simple2d,4)"
      ]
    },
    {
      "cell_type": "code",
      "execution_count": 28,
      "id": "af05a0ea",
      "metadata": {
        "lines_to_next_cell": 0,
        "colab": {
          "base_uri": "https://localhost:8080/",
          "height": 171
        },
        "id": "af05a0ea",
        "outputId": "3ff74651-52f0-40f8-e9ea-145d97d7634b"
      },
      "outputs": [
        {
          "output_type": "error",
          "ename": "TypeError",
          "evalue": "ignored",
          "traceback": [
            "\u001b[0;31m---------------------------------------------------------------------------\u001b[0m",
            "\u001b[0;31mTypeError\u001b[0m                                 Traceback (most recent call last)",
            "\u001b[0;32m<ipython-input-28-e4ea9141301d>\u001b[0m in \u001b[0;36m<module>\u001b[0;34m\u001b[0m\n\u001b[0;32m----> 1\u001b[0;31m \u001b[0mbytes\u001b[0m\u001b[0;34m(\u001b[0m\u001b[0mnp\u001b[0m\u001b[0;34m.\u001b[0m\u001b[0mright_shift\u001b[0m\u001b[0;34m(\u001b[0m\u001b[0msimple2d\u001b[0m\u001b[0;34m,\u001b[0m\u001b[0;36m8\u001b[0m\u001b[0;34m)\u001b[0m\u001b[0;34m)\u001b[0m\u001b[0;34m.\u001b[0m\u001b[0mhex\u001b[0m\u001b[0;34m(\u001b[0m\u001b[0;34m' '\u001b[0m\u001b[0;34m)\u001b[0m \u001b[0;31m# python 3.8+\u001b[0m\u001b[0;34m\u001b[0m\u001b[0;34m\u001b[0m\u001b[0m\n\u001b[0m",
            "\u001b[0;31mTypeError\u001b[0m: hex() takes no arguments (1 given)"
          ]
        }
      ],
      "source": [
        "bytes(np.right_shift(simple2d,8)).hex(' ') # python 3.8+"
      ]
    },
    {
      "cell_type": "code",
      "execution_count": null,
      "id": "9d080f61",
      "metadata": {
        "id": "9d080f61"
      },
      "outputs": [],
      "source": [
        "bytes(simple2d.data).hex(' ')"
      ]
    },
    {
      "cell_type": "code",
      "execution_count": null,
      "id": "a14b4d52",
      "metadata": {
        "id": "a14b4d52"
      },
      "outputs": [],
      "source": [
        "# I don't think I needed to really change anything between compress_ratio_1d\n",
        "\n",
        "def compress_ratio_2d(arr2d, # expect 2D array, broadcasting?\n",
        "                   quant=8):\n",
        "    \"\"\"takes arrlike @arr\n",
        "    quantitizes this to @quant bits\"\"\"\n",
        "    nbytes = arr2d.dtype.itemsize  # np.uint16(0).nbytes\n",
        "    nbits = 8 * nbytes\n",
        "    rshift = nbits - quant\n",
        "    shifted_arr = np.right_shift(arr2d, rshift)\n",
        "    shifted_arr_bytes = bytes(shifted_arr.data)\n",
        "    comp_arrbytes = gzip.compress(shifted_arr_bytes)\n",
        "\n",
        "    return len(shifted_arr_bytes) / len(comp_arrbytes)\n",
        "\n",
        "\n"
      ]
    },
    {
      "cell_type": "code",
      "execution_count": null,
      "id": "adcef790",
      "metadata": {
        "lines_to_next_cell": 0,
        "id": "adcef790"
      },
      "outputs": [],
      "source": [
        "q8 = compress_ratio(first10, quant=8)\n",
        "q8"
      ]
    },
    {
      "cell_type": "code",
      "execution_count": null,
      "id": "c94372f3",
      "metadata": {
        "lines_to_next_cell": 0,
        "id": "c94372f3"
      },
      "outputs": [],
      "source": [
        "q12 = compress_ratio(first10, quant=12)\n",
        "q12"
      ]
    },
    {
      "cell_type": "code",
      "execution_count": null,
      "id": "e0704214",
      "metadata": {
        "lines_to_next_cell": 0,
        "id": "e0704214"
      },
      "outputs": [],
      "source": [
        "q16 = compress_ratio(first10, quant=16)\n",
        "q16"
      ]
    },
    {
      "cell_type": "code",
      "execution_count": null,
      "id": "c6cccd5f",
      "metadata": {
        "lines_to_next_cell": 0,
        "id": "c6cccd5f"
      },
      "outputs": [],
      "source": [
        "quants = [1, 2, 4, 6, 8, 10, 12, 14, 16]\n",
        "ratiosbyQ = [compress_ratio(first10, quant=qq) for qq in quants]"
      ]
    },
    {
      "cell_type": "code",
      "execution_count": null,
      "id": "ce2370ae",
      "metadata": {
        "lines_to_next_cell": 0,
        "id": "ce2370ae"
      },
      "outputs": [],
      "source": [
        "\n",
        "plt.plot(quants, ratiosbyQ)\n",
        "plt.title(\"compression ratio vs quantization number\")"
      ]
    },
    {
      "cell_type": "code",
      "execution_count": null,
      "id": "3fcae012",
      "metadata": {
        "id": "3fcae012"
      },
      "outputs": [],
      "source": [
        "ratiosbyQ"
      ]
    },
    {
      "cell_type": "code",
      "execution_count": null,
      "id": "6e4c3264",
      "metadata": {
        "lines_to_next_cell": 0,
        "id": "6e4c3264"
      },
      "outputs": [],
      "source": [
        "# subdivide this \"epoch\" of data\n",
        "f5_0 = first10[0 : int(sample_rate * 5)]\n",
        "f5_1 = first10[int(sample_rate * 5) : int(sample_rate * 10)]"
      ]
    },
    {
      "cell_type": "code",
      "execution_count": null,
      "id": "46049f97",
      "metadata": {
        "lines_to_next_cell": 0,
        "id": "46049f97"
      },
      "outputs": [],
      "source": [
        "seg_compare = [compress_ratio(f5_0, quant=8), compress_ratio(f5_1)]\n",
        "seg_compare"
      ]
    },
    {
      "cell_type": "code",
      "execution_count": null,
      "id": "44177b49",
      "metadata": {
        "lines_to_next_cell": 0,
        "id": "44177b49"
      },
      "outputs": [],
      "source": [
        "# now plot these\n",
        "fig = plt.Figure()\n",
        "axs = fig.subplots(2,1)"
      ]
    },
    {
      "cell_type": "code",
      "execution_count": null,
      "id": "a346a4c3",
      "metadata": {
        "id": "a346a4c3"
      },
      "outputs": [],
      "source": []
    },
    {
      "cell_type": "code",
      "execution_count": null,
      "id": "840df63d",
      "metadata": {
        "lines_to_next_cell": 0,
        "id": "840df63d"
      },
      "outputs": [],
      "source": [
        "axs[0].plot(first10)\n",
        "axs[0].set_title('rawsignal int16 10s')"
      ]
    },
    {
      "cell_type": "code",
      "execution_count": null,
      "id": "4e675a0c",
      "metadata": {
        "lines_to_next_cell": 0,
        "id": "4e675a0c"
      },
      "outputs": [],
      "source": [
        "axs[1].bar([0.0, 0.5], seg_compare, 0.5, align=\"edge\")"
      ]
    },
    {
      "cell_type": "code",
      "execution_count": null,
      "id": "84ae1716",
      "metadata": {
        "lines_to_next_cell": 0,
        "id": "84ae1716"
      },
      "outputs": [],
      "source": [
        "axs[1].set_xlabel(\"segment\")"
      ]
    },
    {
      "cell_type": "code",
      "execution_count": null,
      "id": "0524e9ab",
      "metadata": {
        "lines_to_next_cell": 0,
        "id": "0524e9ab"
      },
      "outputs": [],
      "source": [
        "axs[1].set_ylabel(\"compression ratio\")\n",
        "axs[1].set_title(\"compression ratio of first 5 vs second 5 sec (q=8)\")"
      ]
    },
    {
      "cell_type": "code",
      "execution_count": null,
      "id": "57a19082",
      "metadata": {
        "lines_to_next_cell": 0,
        "id": "57a19082"
      },
      "outputs": [],
      "source": [
        "fig # will show figure in notebook, otherwise will do nothing"
      ]
    },
    {
      "cell_type": "markdown",
      "id": "c43186f9",
      "metadata": {
        "id": "c43186f9"
      },
      "source": [
        "Ok, that seems to make sense. compression ration (CR) via gzip compression can tell the difference between signals in some way.\n",
        "This was a really obvious difference as first 5 seconds is much more predictable than the second half of the signal.\n",
        "What about some initial comparions for different types of seizures?\n",
        "\n",
        "- will need to make a scanning function with moving window\n",
        "- find seizure times\n",
        "- start with the 3 example files"
      ]
    },
    {
      "cell_type": "code",
      "execution_count": null,
      "id": "f6df85df",
      "metadata": {
        "lines_to_next_cell": 2,
        "id": "f6df85df"
      },
      "outputs": [],
      "source": [
        "# where are the seizures?\n",
        "\n",
        "an_df = eeg.edf_annotations_df\n",
        "an_df\n",
        "an_df[an_df.text.str.contains(\"SZ|absence|spasm\",case= False,)]"
      ]
    },
    {
      "cell_type": "code",
      "execution_count": null,
      "id": "bf0e6198",
      "metadata": {
        "id": "bf0e6198"
      },
      "outputs": [],
      "source": [
        "# see that rows 86 and 88 mark a seizure, and rows 91 and 93 do the same\n",
        "an_df.iloc[86]"
      ]
    },
    {
      "cell_type": "code",
      "execution_count": null,
      "id": "c1e69445",
      "metadata": {
        "id": "c1e69445"
      },
      "outputs": [],
      "source": [
        "sz_start_sec = an_df.iloc[86].starts_sec\n",
        "sz_stop_sec = an_df.iloc[88].starts_sec"
      ]
    },
    {
      "cell_type": "code",
      "execution_count": null,
      "id": "1de11400",
      "metadata": {
        "lines_to_next_cell": 2,
        "id": "1de11400"
      },
      "outputs": [],
      "source": [
        "surround_sec = 10.0  # sec\n",
        "epoch = [sz_start_sec - surround_sec, sz_stop_sec + surround_sec]"
      ]
    },
    {
      "cell_type": "code",
      "execution_count": null,
      "id": "7a5d6fa2",
      "metadata": {
        "id": "7a5d6fa2"
      },
      "outputs": [],
      "source": [
        "epocharr = eeg.rawsignals[\n",
        "    0:19, int(epoch[0] * sample_rate) : int(epoch[1] * sample_rate)\n",
        "]\n",
        "stacklineplot.stackplot(\n",
        "    epocharr, epoch[1] - epoch[0], start_time=0, yscale=2.0, topdown=True\n",
        ")"
      ]
    },
    {
      "cell_type": "code",
      "execution_count": null,
      "id": "0aecf3fa",
      "metadata": {
        "lines_to_next_cell": 0,
        "id": "0aecf3fa"
      },
      "outputs": [],
      "source": [
        "class ArrScanner:\n",
        "    \"\"\"take data in numpy array form or arr-like\n",
        "    break it up into small windows of size window_size samples\n",
        "    apply model_callable\"\"\"\n",
        "    def __init__(\n",
        "        self,\n",
        "        model_callable,\n",
        "        data,  # 2D shape (n_chan, n_samples) np array-like: [np.ndarray | Any], #\n",
        "        window_size: int, # num samples in window\n",
        "        batch_size: int, \n",
        "        model_dir: str = \"\",\n",
        "    ):\n",
        "        \"\"\"@arrlike\n",
        "        W - size of window in samples\n",
        "        @start sample\n",
        "        @stop sample\n",
        "        \"\"\"\n",
        "        self.model_callable = model_callable\n",
        "        self.window_size = window_size\n",
        "        self.batch_size = batch_size\n",
        "        self.model_dir = model_dir\n",
        "        # not using data\n",
        "        \n",
        "    def evaluate_model(self, data_arr):\n",
        "        \"\"\"divide the data array @data_arr\n",
        "        data_arr.shape is (num_chan, n_sample)\n",
        "        non-overlapping windows\n",
        "\n",
        "        \"\"\"\n",
        "        start_samp = 0\n",
        "        end_samp = data_arr.shape[1]\n",
        "        \n",
        "        # whole number of windows in data_arr\n",
        "        n_windows = end_samp//self.window_size\n",
        "        W = self.window_size\n",
        "        model = self.model_callable\n",
        "        out = [ model(data_arr[:,nn*W:(nn+1)*W]) for nn in range(n_windows)]\n",
        "            \n",
        "        return np.array(out,dtype=np.float64)"
      ]
    },
    {
      "cell_type": "markdown",
      "id": "d1f121b8",
      "metadata": {
        "id": "d1f121b8"
      },
      "source": [
        "an_df.iloc[86]"
      ]
    },
    {
      "cell_type": "markdown",
      "id": "4d3c0d3c",
      "metadata": {
        "lines_to_next_cell": 0,
        "id": "4d3c0d3c"
      },
      "source": [
        "\n",
        "epocharr.shape"
      ]
    },
    {
      "cell_type": "code",
      "execution_count": null,
      "id": "68ac68ce",
      "metadata": {
        "lines_to_next_cell": 0,
        "id": "68ac68ce"
      },
      "outputs": [],
      "source": [
        "ratios = compress_ratio_2d(epocharr, quant=10)"
      ]
    },
    {
      "cell_type": "code",
      "execution_count": null,
      "id": "63adce8e",
      "metadata": {
        "lines_to_next_cell": 0,
        "id": "63adce8e"
      },
      "outputs": [],
      "source": [
        "# sarr.min(), sarr.max()"
      ]
    },
    {
      "cell_type": "code",
      "execution_count": null,
      "id": "3b178e2b",
      "metadata": {
        "id": "3b178e2b"
      },
      "outputs": [],
      "source": [
        "test_epoch = epocharr[0:2,:]\n",
        "window_size_sec = 1\n",
        "epoch_size_sec = test_epoch.shape[1]/sample_rate\n",
        "\n",
        "scanner = ArrScanner(compress_ratio_2d, test_epoch, \n",
        "                     int(window_size_sec*sample_rate),1)"
      ]
    },
    {
      "cell_type": "code",
      "execution_count": null,
      "id": "077f9370",
      "metadata": {
        "lines_to_next_cell": 0,
        "id": "077f9370"
      },
      "outputs": [],
      "source": [
        "res = scanner.evaluate_model(test_epoch)"
      ]
    },
    {
      "cell_type": "code",
      "execution_count": null,
      "id": "46d27465",
      "metadata": {
        "lines_to_next_cell": 0,
        "id": "46d27465"
      },
      "outputs": [],
      "source": [
        "res"
      ]
    },
    {
      "cell_type": "code",
      "execution_count": null,
      "id": "477e86b3",
      "metadata": {
        "lines_to_next_cell": 0,
        "id": "477e86b3"
      },
      "outputs": [],
      "source": [
        "fig = plt.Figure()\n",
        "axs = fig.subplots(2,1)\n",
        "stacklineplot.stackplot(test_epoch, seconds=epoch_size_sec,ax=axs[0], topdown=True)\n",
        "axs[1].plot(np.arange(0,len(res))*epoch_size_sec/len(res), res)\n",
        "axs[1].set_xmargin(0)\n",
        "axs[1].set_xlabel(f\"compression ration (window={window_size_sec} sec)\")\n",
        "fig"
      ]
    },
    {
      "cell_type": "code",
      "execution_count": null,
      "id": "0e9eaf4e",
      "metadata": {
        "lines_to_next_cell": 0,
        "id": "0e9eaf4e"
      },
      "outputs": [],
      "source": []
    },
    {
      "cell_type": "code",
      "execution_count": null,
      "id": "3d5e7de7",
      "metadata": {
        "id": "3d5e7de7"
      },
      "outputs": [],
      "source": []
    },
    {
      "cell_type": "code",
      "execution_count": null,
      "id": "cbcb0ca3",
      "metadata": {
        "id": "cbcb0ca3"
      },
      "outputs": [],
      "source": []
    }
  ],
  "metadata": {
    "jupytext": {
      "cell_metadata_filter": "title,-all",
      "main_language": "python",
      "notebook_metadata_filter": "-all"
    },
    "kernelspec": {
      "display_name": "Python 3.9.5 ('pyt181')",
      "language": "python",
      "name": "python3"
    },
    "language_info": {
      "codemirror_mode": {
        "name": "ipython",
        "version": 3
      },
      "file_extension": ".py",
      "mimetype": "text/x-python",
      "name": "python",
      "nbconvert_exporter": "python",
      "pygments_lexer": "ipython3",
      "version": "3.9.5"
    },
    "vscode": {
      "interpreter": {
        "hash": "365e5a8e0e95f7c2627702b35adc37eb59626da698389ce5d4e874a9194d71ff"
      }
    },
    "colab": {
      "name": "compress (1).ipynb",
      "provenance": [],
      "include_colab_link": true
    }
  },
  "nbformat": 4,
  "nbformat_minor": 5
}